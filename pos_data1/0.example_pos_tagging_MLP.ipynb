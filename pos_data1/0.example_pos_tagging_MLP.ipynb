{
 "cells": [
  {
   "cell_type": "markdown",
   "id": "7efe5b00-cda0-4c3f-9cbc-6fd590ebb4a6",
   "metadata": {},
   "source": [
    "## Data"
   ]
  },
  {
   "cell_type": "code",
   "execution_count": 1,
   "id": "22382432-34a8-474b-9519-af1168597ea1",
   "metadata": {},
   "outputs": [],
   "source": [
    "import torch\n",
    "import torch.nn as nn\n",
    "import torchtext; torchtext.disable_torchtext_deprecation_warning()\n",
    "from torchtext.data.utils import get_tokenizer\n",
    "from torchtext.vocab import build_vocab_from_iterator\n",
    "\n",
    "corpus = [\n",
    "    \"i like a dog\",\n",
    "    \"books are expensive\"    \n",
    "]\n",
    "data_size = len(corpus)\n",
    "\n",
    "# 0: noun/pronoun - 1: verb - others - 2\n",
    "labels = [[0, 1, 2, 0],\n",
    "          [0, 1, 2]]\n",
    "\n",
    "# Define the max vocabulary size and sequence length\n",
    "vocab_size = 9\n",
    "sequence_length = 4"
   ]
  },
  {
   "cell_type": "code",
   "execution_count": 2,
   "id": "2726650a-52ef-4150-9b09-0071d0ce2a31",
   "metadata": {},
   "outputs": [
    {
     "data": {
      "text/plain": [
       "{'dog': 5,\n",
       " 'books': 4,\n",
       " 'like': 8,\n",
       " 'i': 7,\n",
       " 'are': 3,\n",
       " 'a': 2,\n",
       " 'expensive': 6,\n",
       " '<pad>': 1,\n",
       " '<unk>': 0}"
      ]
     },
     "execution_count": 2,
     "metadata": {},
     "output_type": "execute_result"
    }
   ],
   "source": [
    "# Define tokenizer function\n",
    "tokenizer = get_tokenizer('basic_english')\n",
    "\n",
    "# Create a function to yield list of tokens\n",
    "def yield_tokens(examples):\n",
    "    for text in examples:\n",
    "        yield tokenizer(text)\n",
    "\n",
    "# Create vocabulary\n",
    "vocab = build_vocab_from_iterator(yield_tokens(corpus),\n",
    "                                  max_tokens=vocab_size,\n",
    "                                  specials=[\"<unk>\", \"<pad>\"])\n",
    "vocab.set_default_index(vocab[\"<unk>\"])\n",
    "vocab.get_stoi()"
   ]
  },
  {
   "cell_type": "code",
   "execution_count": 3,
   "id": "3192fcd6-d411-4312-afcd-88fe4e64a8b9",
   "metadata": {},
   "outputs": [],
   "source": [
    "# Tokenize and numericalize your samples\n",
    "def vectorize(text, vocab, sequence_length, sequence_label):\n",
    "    tokens = tokenizer(text)\n",
    "    \n",
    "    token_ids = [vocab[token] for token in tokens]    \n",
    "    token_ids = token_ids + [vocab[\"<pad>\"]] * (sequence_length - len(tokens))\n",
    "    sequence_label = sequence_label + [3] * (sequence_length - len(tokens))\n",
    "    \n",
    "    return torch.tensor(token_ids, dtype=torch.long), torch.tensor(sequence_label, dtype=torch.long)\n",
    "\n",
    "# Vectorize the samples\n",
    "sentence_vecs = []\n",
    "label_vecs = []\n",
    "for sentence, labels in zip(corpus, labels):\n",
    "    sentence_vec, labels_vec = vectorize(sentence, vocab, sequence_length, labels)\n",
    "    sentence_vecs.append(sentence_vec)\n",
    "    label_vecs.append(labels_vec)"
   ]
  },
  {
   "cell_type": "code",
   "execution_count": 4,
   "id": "c1189966-b5d0-4bbe-9805-712e206b533c",
   "metadata": {},
   "outputs": [
    {
     "name": "stdout",
     "output_type": "stream",
     "text": [
      "tensor([7, 8, 2, 5])\n",
      "tensor([4, 3, 6, 1])\n"
     ]
    }
   ],
   "source": [
    "for v in sentence_vecs:\n",
    "    print(v)"
   ]
  },
  {
   "cell_type": "code",
   "execution_count": 5,
   "id": "e3e40856-0cc4-4f25-b704-05e9d4aaeb95",
   "metadata": {},
   "outputs": [
    {
     "name": "stdout",
     "output_type": "stream",
     "text": [
      "tensor([0, 1, 2, 0])\n",
      "tensor([0, 1, 2, 3])\n"
     ]
    }
   ],
   "source": [
    "for v in label_vecs:\n",
    "    print(v)"
   ]
  },
  {
   "cell_type": "code",
   "execution_count": null,
   "id": "5de2a679-494b-458d-b271-b10db85a2b70",
   "metadata": {},
   "outputs": [],
   "source": []
  },
  {
   "cell_type": "markdown",
   "id": "cd4c5571-1104-44a2-a066-2118f4861e9a",
   "metadata": {},
   "source": [
    "## Model"
   ]
  },
  {
   "cell_type": "code",
   "execution_count": 6,
   "id": "2c8843b2-83e1-408f-b9d1-0f7983cd7c59",
   "metadata": {},
   "outputs": [
    {
     "name": "stdout",
     "output_type": "stream",
     "text": [
      "torch.Size([1, 4, 4])\n"
     ]
    }
   ],
   "source": [
    "class POS_Model(nn.Module):\n",
    "    def __init__(self, vocab_size, num_classes):\n",
    "        super().__init__()\n",
    "        self.embedding = nn.Embedding(vocab_size, 4)\n",
    "        self.fc = nn.Linear(4, num_classes)\n",
    "\n",
    "    def forward(self, x):\n",
    "        x = self.embedding(x)\n",
    "        x = self.fc(x)\n",
    "        return x.permute(0, 2, 1)\n",
    "\n",
    "model = POS_Model(vocab_size, 4)\n",
    "\n",
    "# test\n",
    "input = torch.tensor([[7, 8, 2, 5]], dtype=torch.long)\n",
    "output = model(input)\n",
    "print(output.shape)"
   ]
  },
  {
   "cell_type": "code",
   "execution_count": null,
   "id": "f6a83ea9-358e-4cd0-8324-392faddfa6b6",
   "metadata": {},
   "outputs": [],
   "source": []
  },
  {
   "cell_type": "markdown",
   "id": "b547154b-2223-4e4f-a875-119ec33f9812",
   "metadata": {},
   "source": [
    "## Train with full data"
   ]
  },
  {
   "cell_type": "code",
   "execution_count": 7,
   "id": "32ed2deb-b3e3-4a70-8b85-c575001fc213",
   "metadata": {},
   "outputs": [],
   "source": [
    "criterion = nn.CrossEntropyLoss(ignore_index=3)\n",
    "optimizer = torch.optim.Adam(model.parameters(), lr=0.01)"
   ]
  },
  {
   "cell_type": "code",
   "execution_count": 8,
   "id": "cbee29f3-5988-4f5f-a9f1-fb13f137a91d",
   "metadata": {},
   "outputs": [
    {
     "name": "stdout",
     "output_type": "stream",
     "text": [
      "1.4671550989151\n",
      "1.4352930784225464\n",
      "1.4042896032333374\n",
      "1.374121069908142\n",
      "1.34476637840271\n",
      "1.3161869049072266\n",
      "1.2883341312408447\n",
      "1.2611578702926636\n",
      "1.234602689743042\n",
      "1.2086058855056763\n",
      "1.1830999851226807\n",
      "1.158016324043274\n",
      "1.1332916021347046\n",
      "1.1088718175888062\n",
      "1.0847140550613403\n",
      "1.0607860088348389\n",
      "1.0370656251907349\n",
      "1.0135384798049927\n",
      "0.9901976585388184\n",
      "0.967042088508606\n",
      "0.9440754055976868\n",
      "0.9213047623634338\n",
      "0.8987407684326172\n",
      "0.8763953447341919\n",
      "0.8542819619178772\n",
      "0.8324142694473267\n",
      "0.8108053803443909\n",
      "0.7894678711891174\n",
      "0.7684130072593689\n",
      "0.7476506233215332\n",
      "0.7271888852119446\n",
      "0.7070344090461731\n",
      "0.6871920228004456\n",
      "0.667665421962738\n",
      "0.6484571099281311\n",
      "0.6295684576034546\n",
      "0.6110000610351562\n",
      "0.5927523374557495\n",
      "0.5748249292373657\n",
      "0.5572177171707153\n",
      "0.5399301052093506\n",
      "0.5229617357254028\n",
      "0.5063122510910034\n",
      "0.48998135328292847\n",
      "0.47396859526634216\n",
      "0.4582741856575012\n",
      "0.4428980052471161\n",
      "0.42784032225608826\n",
      "0.41310152411460876\n",
      "0.39868226647377014\n"
     ]
    }
   ],
   "source": [
    "input_data = torch.tensor( [[7, 8, 2, 5],\n",
    "                            [4, 3, 6, 1]], dtype=torch.long)\n",
    "label_data = torch.tensor([[0, 1, 2, 0],\n",
    "                           [0, 1, 2, 3]], dtype=torch.long)\n",
    "\n",
    "for _ in range(50):\n",
    "    optimizer.zero_grad()\n",
    "    outputs = model(input_data)\n",
    "    loss = criterion(outputs, label_data)\n",
    "    print(loss.item())\n",
    "    loss.backward()\n",
    "    optimizer.step()"
   ]
  },
  {
   "cell_type": "code",
   "execution_count": 9,
   "id": "b562b790-b1f8-4e0c-a1cc-2453ee3f3a1a",
   "metadata": {},
   "outputs": [
    {
     "name": "stdout",
     "output_type": "stream",
     "text": [
      "tensor([0.8626, 0.0235, 0.0533, 0.0606], grad_fn=<SelectBackward0>)\n",
      "tensor([0.0355, 0.8868, 0.0373, 0.0404], grad_fn=<SelectBackward0>)\n",
      "tensor([0.1869, 0.0188, 0.7712, 0.0231], grad_fn=<SelectBackward0>)\n",
      "tensor([0.9719, 0.0054, 0.0121, 0.0106], grad_fn=<SelectBackward0>)\n",
      "\n",
      "tensor([0.5125, 0.0456, 0.3656, 0.0763], grad_fn=<SelectBackward0>)\n",
      "tensor([0.1953, 0.3521, 0.2647, 0.1879], grad_fn=<SelectBackward0>)\n",
      "tensor([0.1261, 0.1224, 0.6547, 0.0968], grad_fn=<SelectBackward0>)\n",
      "tensor([0.4464, 0.2565, 0.1477, 0.1494], grad_fn=<SelectBackward0>)\n"
     ]
    }
   ],
   "source": [
    "outputs = model(input_data)\n",
    "o_softmax = torch.softmax(outputs, axis=1)\n",
    "\n",
    "print(o_softmax[0, :, 0])\n",
    "print(o_softmax[0, :, 1])\n",
    "print(o_softmax[0, :, 2])\n",
    "print(o_softmax[0, :, 3])\n",
    "\n",
    "print()\n",
    "print(o_softmax[1, :, 0])\n",
    "print(o_softmax[1, :, 1])\n",
    "print(o_softmax[1, :, 2])\n",
    "print(o_softmax[1, :, 3])"
   ]
  },
  {
   "cell_type": "code",
   "execution_count": 10,
   "id": "7cd76225-a340-42ea-8352-81cdf3c56e99",
   "metadata": {},
   "outputs": [
    {
     "data": {
      "text/plain": [
       "tensor([[0, 1, 2, 0],\n",
       "        [0, 1, 2, 0]])"
      ]
     },
     "execution_count": 10,
     "metadata": {},
     "output_type": "execute_result"
    }
   ],
   "source": [
    "# [[0, 1, 2, 0],\n",
    "#  [0, 1, 2, *]]\n",
    "\n",
    "o_softmax.argmax(axis=1)"
   ]
  },
  {
   "cell_type": "code",
   "execution_count": null,
   "id": "7e351ef5-c01e-47b9-8f2e-fbae9d0f2fa7",
   "metadata": {},
   "outputs": [],
   "source": []
  }
 ],
 "metadata": {
  "kernelspec": {
   "display_name": "Python 3 (ipykernel)",
   "language": "python",
   "name": "python3"
  },
  "language_info": {
   "codemirror_mode": {
    "name": "ipython",
    "version": 3
   },
   "file_extension": ".py",
   "mimetype": "text/x-python",
   "name": "python",
   "nbconvert_exporter": "python",
   "pygments_lexer": "ipython3",
   "version": "3.12.4"
  }
 },
 "nbformat": 4,
 "nbformat_minor": 5
}
