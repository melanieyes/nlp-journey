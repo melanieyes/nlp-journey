{
 "cells": [
  {
   "cell_type": "code",
   "execution_count": 1,
   "metadata": {},
   "outputs": [],
   "source": [
    "from typing import List\n",
    "import torch\n",
    "import torch.nn as nn\n",
    "import torch.nn.functional as F"
   ]
  },
  {
   "cell_type": "markdown",
   "metadata": {},
   "source": [
    "## 1. Data Preparation"
   ]
  },
  {
   "cell_type": "markdown",
   "metadata": {},
   "source": [
    "### 1.1 Load data "
   ]
  },
  {
   "cell_type": "code",
   "execution_count": 2,
   "metadata": {},
   "outputs": [],
   "source": [
    "from transformers import AutoTokenizer\n",
    "\n",
    "tokenizer = AutoTokenizer.from_pretrained(\"bert-base-uncased\")"
   ]
  },
  {
   "cell_type": "code",
   "execution_count": 3,
   "metadata": {},
   "outputs": [],
   "source": [
    "from datasets import load_dataset\n",
    "\n",
    "dataset = load_dataset(\"conll2003\")"
   ]
  },
  {
   "cell_type": "code",
   "execution_count": 4,
   "metadata": {},
   "outputs": [
    {
     "data": {
      "text/plain": [
       "DatasetDict({\n",
       "    train: Dataset({\n",
       "        features: ['tokens', 'pos_tags'],\n",
       "        num_rows: 14041\n",
       "    })\n",
       "    validation: Dataset({\n",
       "        features: ['tokens', 'pos_tags'],\n",
       "        num_rows: 3250\n",
       "    })\n",
       "    test: Dataset({\n",
       "        features: ['tokens', 'pos_tags'],\n",
       "        num_rows: 3453\n",
       "    })\n",
       "})"
      ]
     },
     "execution_count": 4,
     "metadata": {},
     "output_type": "execute_result"
    }
   ],
   "source": [
    "dataset = dataset.remove_columns([\"id\", \"chunk_tags\", \"ner_tags\"])\n",
    "dataset"
   ]
  },
  {
   "cell_type": "code",
   "execution_count": 5,
   "metadata": {},
   "outputs": [],
   "source": [
    "dataset_train = dataset[\"train\"]\n",
    "dataset_val = dataset[\"validation\"]\n",
    "dataset_test = dataset[\"test\"]"
   ]
  },
  {
   "cell_type": "code",
   "execution_count": null,
   "metadata": {},
   "outputs": [],
   "source": []
  },
  {
   "cell_type": "code",
   "execution_count": null,
   "metadata": {},
   "outputs": [],
   "source": []
  },
  {
   "cell_type": "code",
   "execution_count": 6,
   "metadata": {},
   "outputs": [],
   "source": [
    "tokens_train = dataset_train[\"tokens\"]\n",
    "labels_train = dataset_train[\"pos_tags\"]\n",
    "\n",
    "tokens_m_train = []\n",
    "labels_m_train = []\n",
    "for i in range(len(tokens_train)):\n",
    "    tokens_m_train.extend(tokens_train[i])\n",
    "    labels_m_train.extend(labels_train[i])"
   ]
  },
  {
   "cell_type": "code",
   "execution_count": 7,
   "metadata": {},
   "outputs": [],
   "source": [
    "tokens_val = dataset_val[\"tokens\"]\n",
    "labels_val = dataset_val[\"pos_tags\"]\n",
    "\n",
    "tokens_m_val = []\n",
    "labels_m_val = []\n",
    "for i in range(len(tokens_val)):\n",
    "    tokens_m_val.extend(tokens_val[i])\n",
    "    labels_m_val.extend(labels_val[i])"
   ]
  },
  {
   "cell_type": "code",
   "execution_count": 8,
   "metadata": {},
   "outputs": [],
   "source": [
    "tokens_test = dataset_test[\"tokens\"]\n",
    "labels_test = dataset_test[\"pos_tags\"]\n",
    "\n",
    "tokens_m_test = []\n",
    "labels_m_test = []\n",
    "for i in range(len(tokens_test)):\n",
    "    tokens_m_test.extend(tokens_test[i])\n",
    "    labels_m_test.extend(labels_test[i])"
   ]
  },
  {
   "cell_type": "code",
   "execution_count": null,
   "metadata": {},
   "outputs": [],
   "source": []
  },
  {
   "cell_type": "code",
   "execution_count": 9,
   "metadata": {},
   "outputs": [],
   "source": [
    "from torch.utils.data import Dataset\n",
    "\n",
    "class PosTagging_Dataset(Dataset):\n",
    "    def __init__(self, dataset_tokens, dataset_labels, tokenizer):\n",
    "        super().__init__()\n",
    "        self.tokens = dataset_tokens\n",
    "        self.labels = dataset_labels\n",
    "        self.tokenizer = tokenizer\n",
    "\n",
    "    def __len__(self):\n",
    "        return len(self.tokens)\n",
    "    \n",
    "    def __getitem__(self, idx):\n",
    "        input_token = self.tokens[idx]\n",
    "        label_token = self.labels[idx]\n",
    "\n",
    "        input_ids = self.tokenizer.convert_tokens_to_ids(input_token)\n",
    "        return input_ids, label_token\n",
    "    "
   ]
  },
  {
   "cell_type": "code",
   "execution_count": 10,
   "metadata": {},
   "outputs": [],
   "source": [
    "train_set = PosTagging_Dataset(tokens_m_train, labels_m_train, tokenizer)\n",
    "val_set = PosTagging_Dataset(tokens_m_val, labels_m_val, tokenizer)\n",
    "test_set = PosTagging_Dataset(tokens_m_test, labels_m_test, tokenizer)\n",
    "\n",
    "from torch.utils.data import DataLoader\n",
    "batch_size = 512\n",
    "\n",
    "train_loader = DataLoader(train_set, batch_size)\n",
    "val_loader = DataLoader(val_set, batch_size)\n",
    "test_loader = DataLoader(test_set, batch_size)"
   ]
  },
  {
   "cell_type": "code",
   "execution_count": 11,
   "metadata": {},
   "outputs": [
    {
     "name": "stdout",
     "output_type": "stream",
     "text": [
      "torch.Size([512])\n",
      "torch.Size([512])\n"
     ]
    }
   ],
   "source": [
    "for x,y in train_loader:\n",
    "    print(x.shape)\n",
    "    print(y.shape)\n",
    "    break"
   ]
  },
  {
   "cell_type": "code",
   "execution_count": null,
   "metadata": {},
   "outputs": [],
   "source": []
  },
  {
   "cell_type": "markdown",
   "metadata": {},
   "source": [
    "## 2. Model"
   ]
  },
  {
   "cell_type": "code",
   "execution_count": 12,
   "metadata": {},
   "outputs": [],
   "source": [
    "import torch.nn.functional as F\n",
    "\n",
    "class POS_Model(nn.Module):\n",
    "    def __init__(self, vocab_size, emb_dim, hidden_size, num_classes):\n",
    "        super().__init__()\n",
    "        self.embedding = nn.Embedding(vocab_size, emb_dim)\n",
    "        self.fc1 = nn.Linear(hidden_size, 2*hidden_size)\n",
    "        self.fc2 = nn.Linear(2*hidden_size, hidden_size)\n",
    "        self.fc3 = nn.Linear(hidden_size, num_classes)\n",
    "\n",
    "    def forward(self, x):\n",
    "        x = self.embedding(x)\n",
    "        x = torch.flatten(x, start_dim=1)\n",
    "        x = F.relu(self.fc1(x))\n",
    "        x = F.relu(self.fc2(x))\n",
    "        x = self.fc3(x)\n",
    "        return x\n"
   ]
  },
  {
   "cell_type": "code",
   "execution_count": 13,
   "metadata": {},
   "outputs": [],
   "source": [
    "emb_dim = 512\n",
    "hidden_size = 512\n",
    "vocab_size = len(tokenizer)\n",
    "num_classes = 47\n",
    "\n",
    "model = POS_Model(vocab_size, emb_dim, hidden_size, num_classes)"
   ]
  },
  {
   "cell_type": "code",
   "execution_count": 14,
   "metadata": {},
   "outputs": [
    {
     "data": {
      "text/plain": [
       "==========================================================================================\n",
       "Layer (type:depth-idx)                   Output Shape              Param #\n",
       "==========================================================================================\n",
       "POS_Model                                [512, 47]                 --\n",
       "├─Embedding: 1-1                         [512, 1, 512]             15,627,264\n",
       "├─Linear: 1-2                            [512, 1024]               525,312\n",
       "├─Linear: 1-3                            [512, 512]                524,800\n",
       "├─Linear: 1-4                            [512, 47]                 24,111\n",
       "==========================================================================================\n",
       "Total params: 16,701,487\n",
       "Trainable params: 16,701,487\n",
       "Non-trainable params: 0\n",
       "Total mult-adds (G): 8.55\n",
       "==========================================================================================\n",
       "Input size (MB): 0.00\n",
       "Forward/backward pass size (MB): 8.58\n",
       "Params size (MB): 66.81\n",
       "Estimated Total Size (MB): 75.39\n",
       "=========================================================================================="
      ]
     },
     "execution_count": 14,
     "metadata": {},
     "output_type": "execute_result"
    }
   ],
   "source": [
    "from torchinfo import  summary\n",
    "\n",
    "input_data = torch.randint(low=0, high=vocab_size-1, size=(512,1))\n",
    "summary(model, input_data = input_data)"
   ]
  },
  {
   "cell_type": "markdown",
   "metadata": {},
   "source": [
    "## 3. Evaluate"
   ]
  },
  {
   "cell_type": "code",
   "execution_count": 15,
   "metadata": {},
   "outputs": [],
   "source": [
    "def evaluate(model, test_loader, criterion, device):\n",
    "    model.eval()\n",
    "    test_loss = 0.0\n",
    "    correct = 0\n",
    "    total = 0\n",
    "    with torch.no_grad(): \n",
    "        for inputs, labels in test_loader:\n",
    "            inputs, labels = inputs.to(device), labels.to(device)\n",
    "\n",
    "            outputs = model(inputs)\n",
    "            loss = criterion(outputs, labels)\n",
    "            _, predicted = torch.max(outputs, 1)\n",
    "\n",
    "            total += labels.size(0)\n",
    "            test_loss += loss.item()\n",
    "            correct +=(predicted == labels).sum().item()\n",
    "\n",
    "    test_loss = test_loss / len(test_loader)\n",
    "    accuracy = 100* correct / total\n",
    "\n",
    "    return test_loss, accuracy"
   ]
  },
  {
   "cell_type": "markdown",
   "metadata": {},
   "source": [
    "## 4. Train model"
   ]
  },
  {
   "cell_type": "code",
   "execution_count": 16,
   "metadata": {},
   "outputs": [],
   "source": [
    "device = 'cuda' if torch.cuda.is_available() else 'cpu'\n",
    "EPOCHS = 20\n",
    "LR = 1e-3\n",
    "criterion = nn.CrossEntropyLoss()"
   ]
  },
  {
   "cell_type": "code",
   "execution_count": 17,
   "metadata": {},
   "outputs": [],
   "source": [
    "def train_model(model):\n",
    "    hist = {\n",
    "        \"train_loss\": [],\n",
    "        \"train_accuracy\": [],\n",
    "        \"val_loss\": [],\n",
    "        \"val_accuracy\": []\n",
    "    }\n",
    "    optimizer = torch.optim.Adam(model.parameters(), lr=LR)\n",
    "    model.to(device)\n",
    "    for epoch in range(EPOCHS):\n",
    "        model.train()\n",
    "        running_loss = 0.0\n",
    "        running_correct = 0\n",
    "        total = 0\n",
    "        running_target = []\n",
    "        running_pred = []\n",
    "        for inputs, labels in train_loader:\n",
    "            running_target.append(labels.numpy())\n",
    "            inputs, labels = inputs.to(device), labels.to(device)\n",
    "\n",
    "            optimizer.zero_grad()\n",
    "            outputs = model(inputs)\n",
    "\n",
    "            loss = criterion(outputs, labels)\n",
    "            running_loss += loss.item()\n",
    "\n",
    "            _, predicted = torch.max(outputs, 1)\n",
    "            total += labels.size(0)\n",
    "            running_correct += (predicted == labels).sum().item()\n",
    "\n",
    "            running_pred.append(predicted.cpu().numpy())\n",
    "\n",
    "            loss.backward()\n",
    "            optimizer.step()\n",
    "            \n",
    "        epoch_loss =  running_loss / len(train_loader)\n",
    "        epoch_accuracy = 100* running_correct / total\n",
    "        val_loss, val_accuracy = evaluate(model, val_loader, criterion, device)\n",
    "\n",
    "        print(f\"Epoch [{epoch + 1}/{EPOCHS}], Loss: {epoch_loss:.4f}, Accuracy: {epoch_accuracy:.2f}%, Val loss: {val_loss:.4f}, Val Accuracy: {val_accuracy:.2f}%\")\n",
    "\n",
    "        hist[\"train_loss\"].append(epoch_loss)\n",
    "        hist[\"train_accuracy\"].append(epoch_accuracy)\n",
    "        hist[\"val_loss\"].append(val_loss)\n",
    "        hist[\"val_accuracy\"].append(val_accuracy)\n",
    "    \n",
    "    return hist"
   ]
  },
  {
   "cell_type": "code",
   "execution_count": 18,
   "metadata": {},
   "outputs": [
    {
     "name": "stdout",
     "output_type": "stream",
     "text": [
      "Training FC model\n",
      "Epoch [1/20], Loss: 0.9171, Accuracy: 76.50%, Val loss: 0.7275, Val Accuracy: 81.05%\n",
      "Epoch [2/20], Loss: 0.6753, Accuracy: 82.41%, Val loss: 0.6908, Val Accuracy: 82.11%\n",
      "Epoch [3/20], Loss: 0.6308, Accuracy: 83.44%, Val loss: 0.6822, Val Accuracy: 82.57%\n",
      "Epoch [4/20], Loss: 0.6130, Accuracy: 83.81%, Val loss: 0.6829, Val Accuracy: 82.64%\n",
      "Epoch [5/20], Loss: 0.6018, Accuracy: 83.98%, Val loss: 0.6827, Val Accuracy: 82.61%\n",
      "Epoch [6/20], Loss: 0.5960, Accuracy: 84.07%, Val loss: 0.6885, Val Accuracy: 82.55%\n",
      "Epoch [7/20], Loss: 0.5930, Accuracy: 84.11%, Val loss: 0.6935, Val Accuracy: 82.59%\n",
      "Epoch [8/20], Loss: 0.5914, Accuracy: 84.17%, Val loss: 0.7011, Val Accuracy: 82.44%\n",
      "Epoch [9/20], Loss: 0.5893, Accuracy: 84.20%, Val loss: 0.7123, Val Accuracy: 82.31%\n",
      "Epoch [10/20], Loss: 0.5885, Accuracy: 84.24%, Val loss: 0.7181, Val Accuracy: 82.36%\n",
      "Epoch [11/20], Loss: 0.5877, Accuracy: 84.23%, Val loss: 0.7348, Val Accuracy: 82.07%\n",
      "Epoch [12/20], Loss: 0.5971, Accuracy: 83.96%, Val loss: 0.7432, Val Accuracy: 82.37%\n",
      "Epoch [13/20], Loss: 0.5881, Accuracy: 84.24%, Val loss: 0.7330, Val Accuracy: 82.63%\n",
      "Epoch [14/20], Loss: 0.5849, Accuracy: 84.31%, Val loss: 0.7284, Val Accuracy: 82.69%\n",
      "Epoch [15/20], Loss: 0.5844, Accuracy: 84.36%, Val loss: 0.7311, Val Accuracy: 82.74%\n",
      "Epoch [16/20], Loss: 0.5839, Accuracy: 84.34%, Val loss: 0.7358, Val Accuracy: 82.77%\n",
      "Epoch [17/20], Loss: 0.5842, Accuracy: 84.34%, Val loss: 0.7378, Val Accuracy: 82.73%\n",
      "Epoch [18/20], Loss: 0.5839, Accuracy: 84.35%, Val loss: 0.7423, Val Accuracy: 82.79%\n",
      "Epoch [19/20], Loss: 0.5837, Accuracy: 84.37%, Val loss: 0.7508, Val Accuracy: 82.79%\n",
      "Epoch [20/20], Loss: 0.5855, Accuracy: 84.32%, Val loss: 0.7767, Val Accuracy: 82.66%\n"
     ]
    }
   ],
   "source": [
    "print(f\"Training FC model\")\n",
    "hist = train_model(model)"
   ]
  },
  {
   "cell_type": "markdown",
   "metadata": {},
   "source": [
    "## 5. Plot results"
   ]
  },
  {
   "cell_type": "code",
   "execution_count": 19,
   "metadata": {},
   "outputs": [
    {
     "data": {
      "image/png": "[encoded data removed]",
      "text/plain": [
       "<Figure size 640x480 with 1 Axes>"
      ]
     },
     "metadata": {},
     "output_type": "display_data"
    }
   ],
   "source": [
    "import matplotlib.pyplot as plt\n",
    "\n",
    "plt.plot(hist['train_accuracy'], label='Train')\n",
    "plt.plot(hist['val_accuracy'], label='Val')\n",
    "\n",
    "\n",
    "plt.title('model accuracy')\n",
    "plt.ylabel('accuracy')\n",
    "plt.xlabel('epoch')\n",
    "plt.legend(['Train', 'Val' ], loc='lower right')\n",
    "plt.show()"
   ]
  },
  {
   "cell_type": "code",
   "execution_count": 20,
   "metadata": {},
   "outputs": [
    {
     "data": {
      "image/png": "[encoded data removed]",
      "text/plain": [
       "<Figure size 640x480 with 1 Axes>"
      ]
     },
     "metadata": {},
     "output_type": "display_data"
    }
   ],
   "source": [
    "plt.plot(hist['train_loss'], label='Train')\n",
    "plt.plot(hist['val_loss'], label='Val')\n",
    "\n",
    "\n",
    "plt.title('model loss')\n",
    "plt.ylabel('loss')\n",
    "plt.xlabel('epoch')\n",
    "plt.legend(['Train', 'Val' ], loc='upper right')\n",
    "plt.show()"
   ]
  },
  {
   "cell_type": "code",
   "execution_count": null,
   "metadata": {},
   "outputs": [],
   "source": []
  }
 ],
 "metadata": {
  "kernelspec": {
   "display_name": "Python 3 (ipykernel)",
   "language": "python",
   "name": "python3"
  },
  "language_info": {
   "codemirror_mode": {
    "name": "ipython",
    "version": 3
   },
   "file_extension": ".py",
   "mimetype": "text/x-python",
   "name": "python",
   "nbconvert_exporter": "python",
   "pygments_lexer": "ipython3",
   "version": "3.11.5"
  }
 },
 "nbformat": 4,
 "nbformat_minor": 4
}
