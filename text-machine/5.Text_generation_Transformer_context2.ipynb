{
 "cells": [
  {
   "cell_type": "markdown",
   "id": "7efe5b00-cda0-4c3f-9cbc-6fd590ebb4a6",
   "metadata": {},
   "source": [
    "## Data"
   ]
  },
  {
   "cell_type": "code",
   "execution_count": 29,
   "id": "22382432-34a8-474b-9519-af1168597ea1",
   "metadata": {},
   "outputs": [],
   "source": [
    "import torch\n",
    "import torch.nn as nn\n",
    "import torchtext; torchtext.disable_torchtext_deprecation_warning()\n",
    "from torchtext.data.utils import get_tokenizer\n",
    "from torchtext.vocab import build_vocab_from_iterator\n",
    "\n",
    "# Define tokenizer function\n",
    "tokenizer = get_tokenizer('basic_english')\n",
    "\n",
    "# Create a function to yield list of tokens\n",
    "def yield_tokens(examples):\n",
    "    for text in examples:\n",
    "        yield tokenizer(text)\n",
    "\n",
    "# Tokenize and numericalize your samples\n",
    "def vectorize_context(text, vocab, sequence_length):\n",
    "    tokens = tokenizer(text)\n",
    "    tokens = [vocab[token] for token in tokens][:sequence_length]\n",
    "    token_ids = tokens + [vocab[\"<pad>\"]] * (sequence_length - len(tokens))\n",
    "    \n",
    "    return token_ids\n",
    "\n",
    "def vectorize_generation(x, y, vocab, sequence_length):    \n",
    "    x_ids = [vocab[token] for token in x][:sequence_length]\n",
    "    x_ids = x_ids + [vocab[\"<pad>\"]] * (sequence_length - len(x))\n",
    "\n",
    "    y_ids = [vocab[token] for token in y][:sequence_length]\n",
    "    y_ids = y_ids + [vocab[\"<pad>\"]] * (sequence_length - len(y))\n",
    "    \n",
    "    return x_ids, y_ids"
   ]
  },
  {
   "cell_type": "markdown",
   "id": "a1e3cfbb-7101-4f41-a508-eba36794dc5c",
   "metadata": {},
   "source": [
    "#### corpus_generation"
   ]
  },
  {
   "cell_type": "code",
   "execution_count": 30,
   "id": "c641ed18-b92d-4299-9609-8fb7635bf356",
   "metadata": {},
   "outputs": [],
   "source": [
    "corpus_generation = [\n",
    "    \"ăn quả nhớ kẻ trồng cây\",\n",
    "    \"làm giàu không khó\"    \n",
    "]\n",
    "data_size_generation = len(corpus_generation)\n",
    "\n",
    "# max vocabulary size and sequence length\n",
    "vocab_size_generation = 14\n",
    "sequence_length_generation = 7"
   ]
  },
  {
   "cell_type": "code",
   "execution_count": 31,
   "id": "305178ea-165e-43c0-922a-d7a4f3de2685",
   "metadata": {},
   "outputs": [
    {
     "data": {
      "text/plain": [
       "{'ăn': 13,\n",
       " 'quả': 11,\n",
       " 'nhớ': 10,\n",
       " 'làm': 9,\n",
       " 'trồng': 12,\n",
       " '<eos>': 3,\n",
       " 'kẻ': 8,\n",
       " 'không': 7,\n",
       " 'khó': 6,\n",
       " '<unk>': 0,\n",
       " 'cây': 4,\n",
       " 'giàu': 5,\n",
       " '<sos>': 2,\n",
       " '<pad>': 1}"
      ]
     },
     "execution_count": 31,
     "metadata": {},
     "output_type": "execute_result"
    }
   ],
   "source": [
    "# Create vocabulary\n",
    "vocab_generation = build_vocab_from_iterator(yield_tokens(corpus_generation),\n",
    "                                     max_tokens=vocab_size_generation,\n",
    "                                     specials=[\"<unk>\", \"<pad>\", \"<sos>\", \"<eos>\"])\n",
    "vocab_generation.set_default_index(vocab_generation[\"<unk>\"])\n",
    "vocab_generation.get_stoi()"
   ]
  },
  {
   "cell_type": "code",
   "execution_count": 32,
   "id": "a877418e-8d6e-4cba-8a10-741e0d6da489",
   "metadata": {},
   "outputs": [
    {
     "name": "stdout",
     "output_type": "stream",
     "text": [
      "[['<sos>', 'ăn', 'quả', 'nhớ', 'kẻ', 'trồng', 'cây'], ['<sos>', 'làm', 'giàu', 'không', 'khó']]\n",
      "[['ăn', 'quả', 'nhớ', 'kẻ', 'trồng', 'cây', '<eos>'], ['làm', 'giàu', 'không', 'khó', '<eos>']]\n"
     ]
    }
   ],
   "source": [
    "data_x = []\n",
    "data_y = []\n",
    "for vector in corpus_generation:\n",
    "    vector = ['<sos>'] + vector.split() + ['<eos>']\n",
    "    data_x.append(vector[:-1])\n",
    "    data_y.append(vector[1:])  \n",
    "\n",
    "print(data_x)\n",
    "print(data_y)"
   ]
  },
  {
   "cell_type": "code",
   "execution_count": 33,
   "id": "405489e6-b79c-468e-89d2-06bd45a1d2be",
   "metadata": {},
   "outputs": [
    {
     "name": "stdout",
     "output_type": "stream",
     "text": [
      "[[2, 13, 11, 10, 8, 12, 4], [2, 9, 5, 7, 6, 1, 1]]\n",
      "[[13, 11, 10, 8, 12, 4, 3], [9, 5, 7, 6, 3, 1, 1]]\n"
     ]
    }
   ],
   "source": [
    "data_x_ids = []\n",
    "data_y_ids = []\n",
    "for x, y in zip(data_x, data_y):\n",
    "    x_ids, y_ids = vectorize_generation(x, y, \n",
    "                                        vocab_generation, \n",
    "                                        sequence_length_generation)\n",
    "    data_x_ids.append(x_ids)\n",
    "    data_y_ids.append(y_ids)\n",
    "\n",
    "print(data_x_ids)\n",
    "print(data_y_ids)"
   ]
  },
  {
   "cell_type": "code",
   "execution_count": 34,
   "id": "1242a7dd-90b3-49c7-9280-4ea9c7e6a8fb",
   "metadata": {},
   "outputs": [
    {
     "name": "stdout",
     "output_type": "stream",
     "text": [
      "torch.Size([2, 7])\n",
      "torch.Size([2, 7])\n"
     ]
    }
   ],
   "source": [
    "data_x_ids = torch.tensor(data_x_ids, dtype=torch.long)\n",
    "print(data_x_ids.shape)\n",
    "\n",
    "data_y_ids = torch.tensor(data_y_ids, dtype=torch.long)\n",
    "print(data_y_ids.shape)"
   ]
  },
  {
   "cell_type": "code",
   "execution_count": null,
   "id": "6309eeaa-4460-4e52-a02e-7c347025faa1",
   "metadata": {},
   "outputs": [],
   "source": []
  },
  {
   "cell_type": "markdown",
   "id": "6a0c67a5-7d30-41cb-8f21-831f3361d4d7",
   "metadata": {},
   "source": [
    "#### topics"
   ]
  },
  {
   "cell_type": "code",
   "execution_count": 35,
   "id": "ec04aeeb",
   "metadata": {},
   "outputs": [],
   "source": [
    "topics = [\n",
    "    'khuyên răn',\n",
    "    'kinh doanh'\n",
    "]\n",
    "vocab_size_context = 6\n",
    "sequence_length_context = 2\n",
    "\n"
   ]
  },
  {
   "cell_type": "code",
   "execution_count": 36,
   "id": "55bcb0b9-3676-4958-a21b-088b97c6d6c1",
   "metadata": {},
   "outputs": [],
   "source": [
    "topics = [\n",
    "    'khuyên răn',\n",
    "    'kinh doanh'\n",
    "]\n",
    "vocab_size_context = 6\n",
    "sequence_length_context = 2\n",
    "vocab_context = build_vocab_from_iterator(yield_tokens(topics),\n",
    "                                          max_tokens=vocab_size_context,\n",
    "                                          specials=[\"<unk>\", \"<pad>\"])\n",
    "\n",
    "topics_ids = []\n",
    "for x in topics:\n",
    "    x_ids = vectorize_context(x, vocab_context, \n",
    "                              sequence_length_context)\n",
    "    topics_ids.append(x_ids)"
   ]
  },
  {
   "cell_type": "code",
   "execution_count": 37,
   "id": "2c113149-a5f1-4e25-859d-62692ed78dc8",
   "metadata": {},
   "outputs": [
    {
     "data": {
      "text/plain": [
       "{'răn': 5, '<unk>': 0, '<pad>': 1, 'khuyên': 3, 'kinh': 4, 'doanh': 2}"
      ]
     },
     "execution_count": 37,
     "metadata": {},
     "output_type": "execute_result"
    }
   ],
   "source": [
    "# Create vocabulary\n",
    "vocab_context = build_vocab_from_iterator(yield_tokens(topics),\n",
    "                                          max_tokens=vocab_size_context,\n",
    "                                          specials=[\"<unk>\", \"<pad>\"])\n",
    "vocab_context.get_stoi()"
   ]
  },
  {
   "cell_type": "code",
   "execution_count": 38,
   "id": "9ab50c26-a3a9-4453-aa24-c8a913ee5f26",
   "metadata": {},
   "outputs": [
    {
     "name": "stdout",
     "output_type": "stream",
     "text": [
      "[['khuyên', 'răn'], ['kinh', 'doanh']]\n",
      "[[3, 5], [4, 2]]\n"
     ]
    }
   ],
   "source": [
    "topics_ids = []\n",
    "for vector in topics:\n",
    "    vector = vector.split()\n",
    "    topics_ids.append(vector)\n",
    "\n",
    "topics_ids2 = []\n",
    "for x in topics:\n",
    "    x_ids = vectorize_context(x, vocab_context, \n",
    "                              sequence_length_context)\n",
    "    topics_ids2.append(x_ids)\n",
    "\n",
    "# print\n",
    "print(topics_ids)\n",
    "print(topics_ids2)"
   ]
  },
  {
   "cell_type": "code",
   "execution_count": 39,
   "id": "72a7e3ba-b5ce-42a3-b1b4-ea1287a0c634",
   "metadata": {},
   "outputs": [
    {
     "name": "stdout",
     "output_type": "stream",
     "text": [
      "tensor([[3, 5],\n",
      "        [4, 2]])\n"
     ]
    }
   ],
   "source": [
    "topics_tensor = torch.tensor(topics_ids2, dtype=torch.long)\n",
    "print(topics_tensor)"
   ]
  },
  {
   "cell_type": "code",
   "execution_count": null,
   "id": "dc9f418c-1687-4c78-b08a-cde33d8dfc34",
   "metadata": {},
   "outputs": [],
   "source": []
  },
  {
   "cell_type": "markdown",
   "id": "b547154b-2223-4e4f-a875-119ec33f9812",
   "metadata": {},
   "source": [
    "## Train with full data"
   ]
  },
  {
   "cell_type": "code",
   "execution_count": 40,
   "id": "1bcdbef1-d3ed-4e0c-8f89-7158143b0a5b",
   "metadata": {},
   "outputs": [],
   "source": [
    "class Encoder(nn.Module):\n",
    "    def __init__(self, vocab_size, embedding_dim, model_dim, nhead):\n",
    "        super().__init__()\n",
    "        self.embedding = nn.Embedding(vocab_size, embedding_dim)\n",
    "        self.transformer_encoder = nn.TransformerEncoderLayer(d_model=model_dim, \n",
    "                                                              nhead=nhead, \n",
    "                                                              dim_feedforward=6,\n",
    "                                                              batch_first=True)\n",
    "\n",
    "    def forward(self, src):\n",
    "        # src = [batch_size, seq_length]\n",
    "        \n",
    "        embedded = self.embedding(src)                  \n",
    "        # [batch_size, seq_length, embedding_dim]\n",
    "        \n",
    "        context = self.transformer_encoder(embedded)        \n",
    "        return context"
   ]
  },
  {
   "cell_type": "code",
   "execution_count": 41,
   "id": "6e66651a-2058-454f-96d8-932d37dd0bf0",
   "metadata": {},
   "outputs": [
    {
     "name": "stdout",
     "output_type": "stream",
     "text": [
      "torch.Size([2, 2, 6])\n"
     ]
    }
   ],
   "source": [
    "embedding_dim, model_dim, nhead = 6, 6, 2\n",
    "encoder = Encoder(vocab_size_context, embedding_dim, model_dim, nhead)\n",
    "\n",
    "context_sample = encoder(topics_tensor)\n",
    "print(context_sample.shape)"
   ]
  },
  {
   "cell_type": "code",
   "execution_count": null,
   "id": "99303d64-f8a7-45af-83a8-d7f4a98f39da",
   "metadata": {},
   "outputs": [],
   "source": []
  },
  {
   "cell_type": "code",
   "execution_count": 42,
   "id": "c20577bc-ed54-4c01-af06-fbf270a08854",
   "metadata": {},
   "outputs": [],
   "source": [
    "class Decoder(nn.Module):\n",
    "    def __init__(self, vocab_size, embedding_dim, model_dim, nhead):\n",
    "        super().__init__()\n",
    "        self.embedding = nn.Embedding(vocab_size, embedding_dim)\n",
    "        self.transformer_decoder = nn.TransformerDecoderLayer(d_model=model_dim, \n",
    "                                                        nhead=nhead, \n",
    "                                                        dim_feedforward=6,\n",
    "                                                        batch_first=True)\n",
    "        self.fc_out = nn.Linear(model_dim, vocab_size)\n",
    "\n",
    "    def forward(self, input, context):\n",
    "        # input = [batch_size, seq_length_vn]   \n",
    "        # context = [batch_size, seq_length_en, model_dim]   \n",
    "                \n",
    "        embedded = self.embedding(input)\n",
    "        # embedded = [batch_size, seq_length_vn, embedding_dim]\n",
    "        \n",
    "        output = self.transformer_decoder(embedded, context)\n",
    "        # output = [batch_size, seq_length_vn, model_dim]\n",
    "        \n",
    "        prediction = self.fc_out(output)\n",
    "        # prediction = [batch_size, vocab_size_vn]\n",
    "        \n",
    "        return prediction.permute(0, 2, 1)"
   ]
  },
  {
   "cell_type": "code",
   "execution_count": 43,
   "id": "a7bb780b-ee0b-4290-ba39-3920f7e448d8",
   "metadata": {},
   "outputs": [
    {
     "name": "stdout",
     "output_type": "stream",
     "text": [
      "torch.Size([2, 14, 7])\n"
     ]
    }
   ],
   "source": [
    "decoder = Decoder(vocab_size_generation, embedding_dim, model_dim, nhead)\n",
    "\n",
    "prediction = decoder(data_x_ids, context_sample)\n",
    "print(prediction.shape)"
   ]
  },
  {
   "cell_type": "code",
   "execution_count": null,
   "id": "b19aa496-38d7-46af-b5c1-97eae71d9e4d",
   "metadata": {},
   "outputs": [],
   "source": []
  },
  {
   "cell_type": "code",
   "execution_count": 44,
   "id": "bb26d7d5-81e3-4cf3-90ff-99b3bfa5524d",
   "metadata": {},
   "outputs": [],
   "source": [
    "class Seq2Seq_Model(nn.Module):\n",
    "    def __init__(self, encoder, decoder):\n",
    "        super().__init__()\n",
    "        self.encoder = encoder\n",
    "        self.decoder = decoder  \n",
    "\n",
    "    def forward(self, sequence_encoder, sequence_decoder):        \n",
    "        context = self.encoder(sequence_encoder)\n",
    "        outputs = self.decoder(sequence_decoder, context)\n",
    "            \n",
    "        return outputs"
   ]
  },
  {
   "cell_type": "code",
   "execution_count": 45,
   "id": "77cf6c39-d68c-4af6-8f54-cab89cc75abe",
   "metadata": {},
   "outputs": [
    {
     "name": "stdout",
     "output_type": "stream",
     "text": [
      "torch.Size([2, 14, 7])\n"
     ]
    }
   ],
   "source": [
    "model = Seq2Seq_Model(encoder, decoder)\n",
    "outputs = model(topics_tensor, data_x_ids)\n",
    "print(outputs.shape)"
   ]
  },
  {
   "cell_type": "code",
   "execution_count": 46,
   "id": "32ed2deb-b3e3-4a70-8b85-c575001fc213",
   "metadata": {},
   "outputs": [],
   "source": [
    "criterion = nn.CrossEntropyLoss()\n",
    "optimizer = torch.optim.Adam(model.parameters(), lr=0.05)"
   ]
  },
  {
   "cell_type": "code",
   "execution_count": null,
   "id": "910680f9-acb5-493e-a194-a3f18f4788f0",
   "metadata": {},
   "outputs": [],
   "source": []
  },
  {
   "cell_type": "code",
   "execution_count": 47,
   "id": "cbee29f3-5988-4f5f-a9f1-fb13f137a91d",
   "metadata": {},
   "outputs": [
    {
     "name": "stdout",
     "output_type": "stream",
     "text": [
      "2.8102221488952637\n",
      "2.2792866230010986\n",
      "2.0750935077667236\n",
      "1.7887763977050781\n",
      "1.6383552551269531\n",
      "1.4232064485549927\n",
      "1.2275269031524658\n",
      "1.0885570049285889\n",
      "0.88576740026474\n",
      "0.7645182013511658\n",
      "0.6225671768188477\n",
      "0.5774521231651306\n",
      "0.5062259435653687\n",
      "0.405166357755661\n",
      "0.2784051299095154\n",
      "0.26622429490089417\n",
      "0.1934419870376587\n",
      "0.1445288211107254\n",
      "0.12828584015369415\n",
      "0.10890782624483109\n",
      "0.06873469799757004\n",
      "0.06670587509870529\n",
      "0.05160193890333176\n",
      "0.05473150685429573\n",
      "0.027748581022024155\n",
      "0.021766694262623787\n",
      "0.041832808405160904\n",
      "0.025965657085180283\n",
      "0.014230777509510517\n",
      "0.014112441800534725\n",
      "0.01168507058173418\n",
      "0.007866929285228252\n",
      "0.0061887046322226524\n",
      "0.011358500458300114\n",
      "0.005096558015793562\n",
      "0.04116428270936012\n",
      "0.0047452799044549465\n",
      "0.006873291451483965\n",
      "0.0061792186461389065\n",
      "0.0055232904851436615\n"
     ]
    }
   ],
   "source": [
    "# train\n",
    "for _ in range(40):\n",
    "    optimizer.zero_grad()\n",
    "    outputs = model(topics_tensor, data_x_ids)\n",
    "    loss = criterion(outputs, data_y_ids)\n",
    "    print(loss.item())\n",
    "    loss.backward()\n",
    "    optimizer.step()"
   ]
  },
  {
   "cell_type": "code",
   "execution_count": 48,
   "id": "b562b790-b1f8-4e0c-a1cc-2453ee3f3a1a",
   "metadata": {},
   "outputs": [
    {
     "name": "stdout",
     "output_type": "stream",
     "text": [
      "tensor([[13, 11, 10,  8, 12,  4,  3],\n",
      "        [ 9,  5,  7,  6,  3,  1,  1]])\n"
     ]
    }
   ],
   "source": [
    "outputs = model(topics_tensor, data_x_ids)\n",
    "#print(outputs)\n",
    "print(torch.argmax(outputs, axis=1))"
   ]
  },
  {
   "cell_type": "code",
   "execution_count": 49,
   "id": "7cd76225-a340-42ea-8352-81cdf3c56e99",
   "metadata": {},
   "outputs": [
    {
     "data": {
      "text/plain": [
       "tensor([[13, 11, 10,  8, 12,  4,  3],\n",
       "        [ 9,  5,  7,  6,  3,  1,  1]])"
      ]
     },
     "execution_count": 49,
     "metadata": {},
     "output_type": "execute_result"
    }
   ],
   "source": [
    "data_y_ids"
   ]
  },
  {
   "cell_type": "code",
   "execution_count": null,
   "id": "5f519bd6-a4f9-4037-bea8-bf7118e684f7",
   "metadata": {},
   "outputs": [],
   "source": []
  },
  {
   "cell_type": "code",
   "execution_count": 50,
   "id": "5f066ce1-8029-4a20-a361-b90aba064a69",
   "metadata": {},
   "outputs": [
    {
     "name": "stdout",
     "output_type": "stream",
     "text": [
      "tensor([[3, 5]])\n",
      "tensor([[ 2, 13, 11, 10,  8, 12,  4]])\n",
      "tensor([[13, 11, 10,  8, 12,  4,  3]])\n"
     ]
    }
   ],
   "source": [
    "# check\n",
    "topic1 = topics_tensor[0:1,:]\n",
    "print(topic1)\n",
    "\n",
    "data_x_id1 = data_x_ids[0:1,:]\n",
    "print(data_x_id1)\n",
    "\n",
    "data_y_id1 = data_y_ids[0:1,:]\n",
    "print(data_y_id1)"
   ]
  },
  {
   "cell_type": "code",
   "execution_count": 51,
   "id": "69bdc72e-6b93-408c-853d-c518a13ca4c9",
   "metadata": {},
   "outputs": [
    {
     "name": "stdout",
     "output_type": "stream",
     "text": [
      "torch.Size([1, 14, 7])\n",
      "tensor([[13, 11, 10,  8, 12,  4,  3]])\n"
     ]
    }
   ],
   "source": [
    "outputs = model(topic1, data_x_id1)\n",
    "print(outputs.shape)\n",
    "print(torch.argmax(outputs, axis=1))"
   ]
  },
  {
   "cell_type": "code",
   "execution_count": null,
   "id": "18ccf519-a540-4573-8574-a2271a104eb6",
   "metadata": {},
   "outputs": [],
   "source": []
  },
  {
   "cell_type": "code",
   "execution_count": 52,
   "id": "c4876845-0729-43fd-a316-fd63c292061e",
   "metadata": {},
   "outputs": [
    {
     "name": "stdout",
     "output_type": "stream",
     "text": [
      "tensor([[4, 2]])\n",
      "tensor([[2, 9, 5, 7, 6, 1, 1]])\n",
      "tensor([[9, 5, 7, 6, 3, 1, 1]])\n"
     ]
    }
   ],
   "source": [
    "# check\n",
    "topic1 = topics_tensor[1:2,:]\n",
    "print(topic1)\n",
    "\n",
    "data_x_id1 = data_x_ids[1:2,:]\n",
    "print(data_x_id1)\n",
    "\n",
    "data_y_id1 = data_y_ids[1:2,:]\n",
    "print(data_y_id1)"
   ]
  },
  {
   "cell_type": "code",
   "execution_count": 53,
   "id": "647ce9cf-3bf4-4a05-9e5d-8bf777362642",
   "metadata": {},
   "outputs": [
    {
     "name": "stdout",
     "output_type": "stream",
     "text": [
      "torch.Size([1, 14, 7])\n",
      "tensor([[9, 5, 7, 6, 3, 1, 1]])\n"
     ]
    }
   ],
   "source": [
    "outputs = model(topic1, data_x_id1)\n",
    "print(outputs.shape)\n",
    "print(torch.argmax(outputs, axis=1))"
   ]
  },
  {
   "cell_type": "markdown",
   "id": "097fb34a-238b-43eb-9e7d-4ad075f26e19",
   "metadata": {},
   "source": [
    "## Inference"
   ]
  },
  {
   "cell_type": "code",
   "execution_count": 58,
   "id": "fb181ca5-486f-4ea6-b0f6-076afdc02200",
   "metadata": {},
   "outputs": [
    {
     "name": "stdout",
     "output_type": "stream",
     "text": [
      "[2, 1, 1, 1, 1, 1, 1]\n"
     ]
    }
   ],
   "source": [
    "promt = '<sos>'\n",
    "promt = promt.split()\n",
    "promt_ids = [vocab_generation[token] for token in promt][:sequence_length_generation]\n",
    "promt_ids = promt_ids + [vocab_generation[\"<pad>\"]] * (sequence_length_generation - len(promt))\n",
    "\n",
    "print(promt_ids)"
   ]
  },
  {
   "cell_type": "code",
   "execution_count": 59,
   "id": "5fc53ce3-0865-4f1b-801d-9e9595329a65",
   "metadata": {},
   "outputs": [
    {
     "name": "stdout",
     "output_type": "stream",
     "text": [
      "tensor([[4, 2]])\n"
     ]
    }
   ],
   "source": [
    "topic = 'kinh doanh'   # 'kinh doanh' ; 'khuyên răn'\n",
    "topic = topic.split()\n",
    "topic_ids = [vocab_context[token] for token in topic]\n",
    "topic_tensor = torch.tensor(topic_ids, dtype=torch.long).reshape(1, -1)\n",
    "print(topic_tensor)"
   ]
  },
  {
   "cell_type": "code",
   "execution_count": null,
   "id": "d7ef9d3c-12c1-44b4-94bc-61d781708a21",
   "metadata": {},
   "outputs": [
    {
     "name": "stdout",
     "output_type": "stream",
     "text": [
      "[2, 9, 5, 7, 6, 3, 7]\n"
     ]
    }
   ],
   "source": [
    "for i in range(sequence_length_generation - len(promt)):\n",
    "    promt_tensor = torch.tensor(promt_ids, \n",
    "                                dtype=torch.long).reshape(1, -1)\n",
    "    outputs = model(topic_tensor, promt_tensor)\n",
    "    outputs = torch.argmax(outputs, axis=1)   \n",
    "    next_id = outputs[0][len(promt)+i-1]\n",
    "\n",
    "    promt_ids[len(promt)+i] = next_id.item()\n",
    "print(promt_ids)"
   ]
  },
  {
   "cell_type": "code",
   "execution_count": 57,
   "id": "214f3947-e3e9-4455-be61-2b9b5f34a2f6",
   "metadata": {},
   "outputs": [
    {
     "data": {
      "text/plain": [
       "{'ăn': 13,\n",
       " 'quả': 11,\n",
       " 'nhớ': 10,\n",
       " 'làm': 9,\n",
       " 'trồng': 12,\n",
       " '<eos>': 3,\n",
       " 'kẻ': 8,\n",
       " 'không': 7,\n",
       " 'khó': 6,\n",
       " '<unk>': 0,\n",
       " 'cây': 4,\n",
       " 'giàu': 5,\n",
       " '<sos>': 2,\n",
       " '<pad>': 1}"
      ]
     },
     "execution_count": 57,
     "metadata": {},
     "output_type": "execute_result"
    }
   ],
   "source": [
    "{'ăn': 13,\n",
    " 'quả': 11,\n",
    " 'nhớ': 10,\n",
    " 'làm': 9,\n",
    " 'trồng': 12,\n",
    " '<eos>': 3,\n",
    " 'kẻ': 8,\n",
    " 'không': 7,\n",
    " 'khó': 6,\n",
    " '<unk>': 0,\n",
    " 'cây': 4,\n",
    " 'giàu': 5,\n",
    " '<sos>': 2,\n",
    " '<pad>': 1}"
   ]
  }
 ],
 "metadata": {
  "kernelspec": {
   "display_name": "Python 3 (ipykernel)",
   "language": "python",
   "name": "python3"
  },
  "language_info": {
   "codemirror_mode": {
    "name": "ipython",
    "version": 3
   },
   "file_extension": ".py",
   "mimetype": "text/x-python",
   "name": "python",
   "nbconvert_exporter": "python",
   "pygments_lexer": "ipython3",
   "version": "3.12.4"
  }
 },
 "nbformat": 4,
 "nbformat_minor": 5
}
