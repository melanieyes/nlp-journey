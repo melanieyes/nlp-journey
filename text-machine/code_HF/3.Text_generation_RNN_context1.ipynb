{
 "cells": [
  {
   "cell_type": "markdown",
   "id": "7efe5b00-cda0-4c3f-9cbc-6fd590ebb4a6",
   "metadata": {},
   "source": [
    "## Data"
   ]
  },
  {
   "cell_type": "code",
   "execution_count": 1,
   "id": "22382432-34a8-474b-9519-af1168597ea1",
   "metadata": {},
   "outputs": [],
   "source": [
    "import torch\n",
    "import torch.nn as nn\n",
    "from tokenizers import Tokenizer\n",
    "from tokenizers.models import WordLevel\n",
    "from tokenizers.trainers import WordLevelTrainer\n",
    "from tokenizers.pre_tokenizers import Whitespace\n",
    "\n",
    "corpus = [\n",
    "    \"ăn quả nhớ kẻ trồng cây\",\n",
    "    \"có chí thì nên\"    \n",
    "]\n",
    "data_size = len(corpus)\n",
    "\n",
    "# Define the max vocabulary size and sequence length\n",
    "vocab_size = 15\n",
    "sequence_length = 7"
   ]
  },
  {
   "cell_type": "code",
   "execution_count": 2,
   "id": "6814861d",
   "metadata": {},
   "outputs": [],
   "source": [
    "# Initialize the tokenizer and define a trainer\n",
    "tokenizer = Tokenizer(WordLevel())\n",
    "tokenizer.pre_tokenizer = Whitespace()\n",
    "tokenizer.enable_padding(pad_id=1, \n",
    "                         pad_token=\"<pad>\", \n",
    "                         length=sequence_length)\n",
    "tokenizer.enable_truncation(max_length=sequence_length)\n",
    "\n",
    "# Train the tokenizer on your corpus\n",
    "trainer = WordLevelTrainer(vocab_size=vocab_size, \n",
    "                           special_tokens=[\"<unk>\", \"<pad>\", \"<sos_topic1>\", \"<sos_topic2>\", \"<eos>\"])\n",
    "tokenizer.train_from_iterator(corpus, trainer)"
   ]
  },
  {
   "cell_type": "code",
   "execution_count": 3,
   "id": "4364504a-e300-4e9f-9565-ff4f9ad2f45a",
   "metadata": {},
   "outputs": [
    {
     "name": "stdout",
     "output_type": "stream",
     "text": [
      "['<sos_topic1> ăn quả nhớ kẻ trồng cây', '<sos_topic2> có chí thì nên']\n",
      "['ăn quả nhớ kẻ trồng cây <eos>', 'có chí thì nên <eos>']\n"
     ]
    }
   ],
   "source": [
    "data_x = []\n",
    "data_y = []\n",
    "\n",
    "corpus[0] = '<sos_topic1> ' + corpus[0] + ' <eos>'\n",
    "corpus[1] = '<sos_topic2> ' + corpus[1] + ' <eos>'\n",
    "\n",
    "for vector in corpus:\n",
    "    vector = vector.split()\n",
    "    data_x.append( ' '.join(vector[:-1]) )\n",
    "    data_y.append( ' '.join(vector[1:]) )\n",
    "\n",
    "print(data_x)\n",
    "print(data_y)"
   ]
  },
  {
   "cell_type": "code",
   "execution_count": 4,
   "id": "548484cb-e415-4e4f-a7f5-b0fd0ed48e59",
   "metadata": {},
   "outputs": [
    {
     "name": "stdout",
     "output_type": "stream",
     "text": [
      "[2, 14, 11, 9, 8, 13, 6] [14, 11, 9, 8, 13, 6, 4]\n",
      "[3, 7, 5, 12, 10, 1, 1] [7, 5, 12, 10, 4, 1, 1]\n"
     ]
    }
   ],
   "source": [
    "# Tokenize and numericalize your samples\n",
    "def vectorize(x, y, tokenizer, sequence_length):     \n",
    "    x_ids = tokenizer.encode(x).ids\n",
    "    y_ids = tokenizer.encode(y).ids\n",
    "    print(x_ids, y_ids)\n",
    "    return x_ids, y_ids\n",
    "\n",
    "# Vectorize the samples\n",
    "data_x_ids = []\n",
    "data_y_ids = []\n",
    "for x, y in zip(data_x, data_y):\n",
    "    x_ids, y_ids = vectorize(x, y, tokenizer, sequence_length)\n",
    "    data_x_ids.append(x_ids)\n",
    "    data_y_ids.append(y_ids)\n",
    "\n",
    "data_x_ids = torch.tensor(data_x_ids, dtype=torch.long)\n",
    "data_y_ids = torch.tensor(data_y_ids, dtype=torch.long)"
   ]
  },
  {
   "cell_type": "markdown",
   "id": "b547154b-2223-4e4f-a875-119ec33f9812",
   "metadata": {},
   "source": [
    "## Train with full data"
   ]
  },
  {
   "cell_type": "code",
   "execution_count": 5,
   "id": "bb26d7d5-81e3-4cf3-90ff-99b3bfa5524d",
   "metadata": {},
   "outputs": [
    {
     "name": "stdout",
     "output_type": "stream",
     "text": [
      "TG_Model(\n",
      "  (embedding): Embedding(15, 8)\n",
      "  (recurrent): RNN(8, 8, batch_first=True)\n",
      "  (linear): Linear(in_features=8, out_features=15, bias=True)\n",
      ")\n"
     ]
    }
   ],
   "source": [
    "class TG_Model(nn.Module):\n",
    "    def __init__(self, vocab_size, embed_dim):\n",
    "        super().__init__()\n",
    "        self.embedding = nn.Embedding(vocab_size, \n",
    "                                      embed_dim)\n",
    "        self.recurrent = nn.RNN(embed_dim, embed_dim, batch_first=True)\n",
    "        self.linear = nn.Linear(embed_dim, vocab_size)\n",
    "\n",
    "    def forward(self, x):\n",
    "        x = self.embedding(x)\n",
    "        x,_ = self.recurrent(x)        \n",
    "        x = self.linear(x)\n",
    "        return x.permute(0,2,1)\n",
    "\n",
    "model = TG_Model(vocab_size, 8)\n",
    "print(model)"
   ]
  },
  {
   "cell_type": "code",
   "execution_count": 6,
   "id": "77cf6c39-d68c-4af6-8f54-cab89cc75abe",
   "metadata": {},
   "outputs": [
    {
     "name": "stdout",
     "output_type": "stream",
     "text": [
      "torch.Size([2, 15, 7])\n"
     ]
    }
   ],
   "source": [
    "outputs = model(data_x_ids)\n",
    "print(outputs.shape)"
   ]
  },
  {
   "cell_type": "code",
   "execution_count": 7,
   "id": "32ed2deb-b3e3-4a70-8b85-c575001fc213",
   "metadata": {},
   "outputs": [],
   "source": [
    "criterion = nn.CrossEntropyLoss()\n",
    "optimizer = torch.optim.Adam(model.parameters(), lr=0.05)"
   ]
  },
  {
   "cell_type": "code",
   "execution_count": null,
   "id": "910680f9-acb5-493e-a194-a3f18f4788f0",
   "metadata": {},
   "outputs": [],
   "source": []
  },
  {
   "cell_type": "code",
   "execution_count": 8,
   "id": "cbee29f3-5988-4f5f-a9f1-fb13f137a91d",
   "metadata": {},
   "outputs": [],
   "source": [
    "# train\n",
    "for _ in range(40):\n",
    "    optimizer.zero_grad()\n",
    "    outputs = model(data_x_ids)\n",
    "    loss = criterion(outputs, data_y_ids)\n",
    "    #print(loss.item())\n",
    "    loss.backward()\n",
    "    optimizer.step()"
   ]
  },
  {
   "cell_type": "code",
   "execution_count": 9,
   "id": "b562b790-b1f8-4e0c-a1cc-2453ee3f3a1a",
   "metadata": {},
   "outputs": [
    {
     "name": "stdout",
     "output_type": "stream",
     "text": [
      "tensor([[14, 11,  9,  8, 13,  6,  4],\n",
      "        [ 7,  5, 12, 10,  4,  1,  1]])\n"
     ]
    }
   ],
   "source": [
    "outputs = model(data_x_ids)\n",
    "#print(outputs)\n",
    "print(torch.argmax(outputs, axis=1))"
   ]
  },
  {
   "cell_type": "code",
   "execution_count": 10,
   "id": "7cd76225-a340-42ea-8352-81cdf3c56e99",
   "metadata": {},
   "outputs": [
    {
     "data": {
      "text/plain": [
       "tensor([[14, 11,  9,  8, 13,  6,  4],\n",
       "        [ 7,  5, 12, 10,  4,  1,  1]])"
      ]
     },
     "execution_count": 10,
     "metadata": {},
     "output_type": "execute_result"
    }
   ],
   "source": [
    "data_y_ids"
   ]
  },
  {
   "cell_type": "code",
   "execution_count": null,
   "id": "5f519bd6-a4f9-4037-bea8-bf7118e684f7",
   "metadata": {},
   "outputs": [],
   "source": []
  },
  {
   "cell_type": "markdown",
   "id": "097fb34a-238b-43eb-9e7d-4ad075f26e19",
   "metadata": {},
   "source": [
    "## Inference"
   ]
  },
  {
   "cell_type": "code",
   "execution_count": 11,
   "id": "fb181ca5-486f-4ea6-b0f6-076afdc02200",
   "metadata": {},
   "outputs": [
    {
     "name": "stdout",
     "output_type": "stream",
     "text": [
      "[2, 1, 1, 1, 1, 1, 1]\n"
     ]
    }
   ],
   "source": [
    "promt = '<sos_topic1>'\n",
    "promt_length = 1\n",
    "promt_ids = tokenizer.encode(promt).ids\n",
    "print(promt_ids)"
   ]
  },
  {
   "cell_type": "code",
   "execution_count": 12,
   "id": "d7ef9d3c-12c1-44b4-94bc-61d781708a21",
   "metadata": {},
   "outputs": [
    {
     "name": "stdout",
     "output_type": "stream",
     "text": [
      "[2, 14, 1, 1, 1, 1, 1]\n",
      "[2, 14, 11, 1, 1, 1, 1]\n",
      "[2, 14, 11, 9, 1, 1, 1]\n",
      "[2, 14, 11, 9, 8, 1, 1]\n",
      "[2, 14, 11, 9, 8, 13, 1]\n",
      "[2, 14, 11, 9, 8, 13, 6]\n"
     ]
    }
   ],
   "source": [
    "for i in range(sequence_length - promt_length):\n",
    "    promt_tensor = torch.tensor(promt_ids, dtype=torch.long).reshape(1, -1)\n",
    "    outputs = model(promt_tensor)\n",
    "    outputs = torch.argmax(outputs, axis=1)   \n",
    "    next_id = outputs[0][promt_length+i-1]\n",
    "\n",
    "    promt_ids[promt_length+i] = next_id.item()\n",
    "    print(promt_ids)"
   ]
  },
  {
   "cell_type": "code",
   "execution_count": 13,
   "id": "214f3947-e3e9-4455-be61-2b9b5f34a2f6",
   "metadata": {},
   "outputs": [
    {
     "name": "stdout",
     "output_type": "stream",
     "text": [
      "{'<eos>': 4, '<unk>': 0, 'kẻ': 8, 'chí': 5, 'nhớ': 9, 'thì': 12, 'cây': 6, 'trồng': 13, 'quả': 11, '<sos_topic1>': 2, '<sos_topic2>': 3, '<pad>': 1, 'có': 7, 'nên': 10, 'ăn': 14}\n"
     ]
    }
   ],
   "source": [
    "print(tokenizer.get_vocab())"
   ]
  },
  {
   "cell_type": "code",
   "execution_count": null,
   "id": "7fd1e379",
   "metadata": {},
   "outputs": [],
   "source": []
  }
 ],
 "metadata": {
  "kernelspec": {
   "display_name": "Python 3 (ipykernel)",
   "language": "python",
   "name": "python3"
  },
  "language_info": {
   "codemirror_mode": {
    "name": "ipython",
    "version": 3
   },
   "file_extension": ".py",
   "mimetype": "text/x-python",
   "name": "python",
   "nbconvert_exporter": "python",
   "pygments_lexer": "ipython3",
   "version": "3.12.4"
  }
 },
 "nbformat": 4,
 "nbformat_minor": 5
}
