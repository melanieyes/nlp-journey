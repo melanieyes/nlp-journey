{
 "cells": [
  {
   "cell_type": "markdown",
   "id": "7efe5b00-cda0-4c3f-9cbc-6fd590ebb4a6",
   "metadata": {},
   "source": [
    "## Data"
   ]
  },
  {
   "cell_type": "code",
   "execution_count": 1,
   "id": "22382432-34a8-474b-9519-af1168597ea1",
   "metadata": {},
   "outputs": [],
   "source": [
    "import torch\n",
    "import torch.nn as nn\n",
    "import torchtext; torchtext.disable_torchtext_deprecation_warning()\n",
    "from torchtext.data.utils import get_tokenizer\n",
    "from torchtext.vocab import build_vocab_from_iterator\n",
    "\n",
    "corpus = [\n",
    "    \"ăn quả nhớ kẻ trồng cây\",\n",
    "    \"có chí thì nên\"    \n",
    "]\n",
    "data_size = len(corpus)\n",
    "\n",
    "# Define the max vocabulary size and sequence length\n",
    "vocab_size = 15\n",
    "sequence_length = 7"
   ]
  },
  {
   "cell_type": "code",
   "execution_count": 2,
   "id": "472595ab-3ce7-4b94-85a7-26ad47310545",
   "metadata": {},
   "outputs": [
    {
     "data": {
      "text/plain": [
       "{'ăn': 14,\n",
       " 'quả': 11,\n",
       " 'nên': 10,\n",
       " 'nhớ': 9,\n",
       " 'trồng': 13,\n",
       " '<eos>': 4,\n",
       " 'kẻ': 8,\n",
       " 'chí': 5,\n",
       " '<unk>': 0,\n",
       " 'cây': 6,\n",
       " '<sos_topic2>': 3,\n",
       " 'thì': 12,\n",
       " 'có': 7,\n",
       " '<sos_topic1>': 2,\n",
       " '<pad>': 1}"
      ]
     },
     "execution_count": 2,
     "metadata": {},
     "output_type": "execute_result"
    }
   ],
   "source": [
    "# Define tokenizer function\n",
    "tokenizer = get_tokenizer('basic_english')\n",
    "\n",
    "# Create a function to yield list of tokens\n",
    "def yield_tokens(examples):\n",
    "    for text in examples:\n",
    "        yield tokenizer(text)\n",
    "\n",
    "# Create vocabulary\n",
    "vocab = build_vocab_from_iterator(yield_tokens(corpus),\n",
    "                                  max_tokens=vocab_size,\n",
    "                                  specials=[\"<unk>\", \"<pad>\", \"<sos_topic1>\", \"<sos_topic2>\", \"<eos>\"]\n",
    "                                 )\n",
    "vocab.set_default_index(vocab[\"<unk>\"])\n",
    "vocab.get_stoi()"
   ]
  },
  {
   "cell_type": "code",
   "execution_count": null,
   "id": "6690f201-f4fb-4685-ae0c-7633b7e8a765",
   "metadata": {},
   "outputs": [],
   "source": []
  },
  {
   "cell_type": "code",
   "execution_count": 3,
   "id": "4364504a-e300-4e9f-9565-ff4f9ad2f45a",
   "metadata": {},
   "outputs": [
    {
     "name": "stdout",
     "output_type": "stream",
     "text": [
      "[['<sos_topic1>', 'ăn', 'quả', 'nhớ', 'kẻ', 'trồng', 'cây'], ['<sos_topic2>', 'có', 'chí', 'thì', 'nên']]\n",
      "[['ăn', 'quả', 'nhớ', 'kẻ', 'trồng', 'cây', '<eos>'], ['có', 'chí', 'thì', 'nên', '<eos>']]\n"
     ]
    }
   ],
   "source": [
    "data_x = []\n",
    "data_y = []\n",
    "\n",
    "corpus[0] = '<sos_topic1> ' + corpus[0] + ' <eos>'\n",
    "corpus[1] = '<sos_topic2> ' + corpus[1] + ' <eos>'\n",
    "\n",
    "for vector in corpus:\n",
    "    vector = vector.split()\n",
    "    data_x.append(vector[:-1])\n",
    "    data_y.append(vector[1:])  \n",
    "\n",
    "print(data_x)\n",
    "print(data_y)"
   ]
  },
  {
   "cell_type": "code",
   "execution_count": null,
   "id": "2726650a-52ef-4150-9b09-0071d0ce2a31",
   "metadata": {},
   "outputs": [],
   "source": []
  },
  {
   "cell_type": "code",
   "execution_count": 4,
   "id": "548484cb-e415-4e4f-a7f5-b0fd0ed48e59",
   "metadata": {},
   "outputs": [],
   "source": [
    "# Tokenize and numericalize your samples\n",
    "def vectorize(x, y, vocab, sequence_length):    \n",
    "    x_ids = [vocab[token] for token in x][:sequence_length]\n",
    "    x_ids = x_ids + [vocab[\"<pad>\"]] * (sequence_length - len(x))\n",
    "\n",
    "    y_ids = [vocab[token] for token in y][:sequence_length]\n",
    "    y_ids = y_ids + [vocab[\"<pad>\"]] * (sequence_length - len(y))\n",
    "    \n",
    "    return x_ids, y_ids\n",
    "\n",
    "# Vectorize the samples\n",
    "data_x_ids = []\n",
    "data_y_ids = []\n",
    "for x, y in zip(data_x, data_y):\n",
    "    x_ids, y_ids = vectorize(x, y, vocab, sequence_length)\n",
    "    data_x_ids.append(x_ids)\n",
    "    data_y_ids.append(y_ids)"
   ]
  },
  {
   "cell_type": "code",
   "execution_count": null,
   "id": "c610df2e-db78-4110-b8e5-2df61ffbff24",
   "metadata": {},
   "outputs": [],
   "source": []
  },
  {
   "cell_type": "code",
   "execution_count": 5,
   "id": "1074c9d5-69cc-460b-96db-73818bb3755c",
   "metadata": {},
   "outputs": [
    {
     "name": "stdout",
     "output_type": "stream",
     "text": [
      "[2, 14, 11, 9, 8, 13, 6]\n",
      "[14, 11, 9, 8, 13, 6, 4]\n",
      "\n",
      "[3, 7, 5, 12, 10, 1, 1]\n",
      "[7, 5, 12, 10, 4, 1, 1]\n",
      "\n"
     ]
    }
   ],
   "source": [
    "for x, y in zip(data_x_ids, data_y_ids):\n",
    "    print(x)\n",
    "    print(y)\n",
    "    print()"
   ]
  },
  {
   "cell_type": "code",
   "execution_count": 6,
   "id": "3192fcd6-d411-4312-afcd-88fe4e64a8b9",
   "metadata": {},
   "outputs": [
    {
     "name": "stdout",
     "output_type": "stream",
     "text": [
      "torch.Size([2, 7])\n"
     ]
    }
   ],
   "source": [
    "data_x_ids = torch.tensor(data_x_ids, dtype=torch.long)\n",
    "print(data_x_ids.shape)"
   ]
  },
  {
   "cell_type": "code",
   "execution_count": 7,
   "id": "0c1473cd-5773-401d-820c-42fcdf0eba45",
   "metadata": {},
   "outputs": [
    {
     "name": "stdout",
     "output_type": "stream",
     "text": [
      "torch.Size([2, 7])\n"
     ]
    }
   ],
   "source": [
    "data_y_ids = torch.tensor(data_y_ids, dtype=torch.long)\n",
    "print(data_y_ids.shape)"
   ]
  },
  {
   "cell_type": "code",
   "execution_count": null,
   "id": "b29745f5-7ed8-49aa-b44d-c22aba3d41ce",
   "metadata": {},
   "outputs": [],
   "source": []
  },
  {
   "cell_type": "markdown",
   "id": "b547154b-2223-4e4f-a875-119ec33f9812",
   "metadata": {},
   "source": [
    "## Train with full data"
   ]
  },
  {
   "cell_type": "code",
   "execution_count": 8,
   "id": "bb26d7d5-81e3-4cf3-90ff-99b3bfa5524d",
   "metadata": {},
   "outputs": [
    {
     "name": "stdout",
     "output_type": "stream",
     "text": [
      "TG_Model(\n",
      "  (embedding): Embedding(15, 8)\n",
      "  (recurrent): RNN(8, 8, batch_first=True)\n",
      "  (linear): Linear(in_features=8, out_features=15, bias=True)\n",
      ")\n"
     ]
    }
   ],
   "source": [
    "class TG_Model(nn.Module):\n",
    "    def __init__(self, vocab_size, embed_dim):\n",
    "        super().__init__()\n",
    "        self.embedding = nn.Embedding(vocab_size, \n",
    "                                      embed_dim)\n",
    "        self.recurrent = nn.RNN(embed_dim, embed_dim, batch_first=True)\n",
    "        self.linear = nn.Linear(embed_dim, vocab_size)\n",
    "\n",
    "    def forward(self, x):\n",
    "        x = self.embedding(x)\n",
    "        x,_ = self.recurrent(x)        \n",
    "        x = self.linear(x)\n",
    "        return x.permute(0,2,1)\n",
    "\n",
    "model = TG_Model(vocab_size, 8)\n",
    "print(model)"
   ]
  },
  {
   "cell_type": "code",
   "execution_count": 9,
   "id": "77cf6c39-d68c-4af6-8f54-cab89cc75abe",
   "metadata": {},
   "outputs": [
    {
     "name": "stdout",
     "output_type": "stream",
     "text": [
      "torch.Size([2, 15, 7])\n"
     ]
    }
   ],
   "source": [
    "outputs = model(data_x_ids)\n",
    "print(outputs.shape)"
   ]
  },
  {
   "cell_type": "code",
   "execution_count": 10,
   "id": "32ed2deb-b3e3-4a70-8b85-c575001fc213",
   "metadata": {},
   "outputs": [],
   "source": [
    "criterion = nn.CrossEntropyLoss()\n",
    "optimizer = torch.optim.Adam(model.parameters(), lr=0.05)"
   ]
  },
  {
   "cell_type": "code",
   "execution_count": null,
   "id": "910680f9-acb5-493e-a194-a3f18f4788f0",
   "metadata": {},
   "outputs": [],
   "source": []
  },
  {
   "cell_type": "code",
   "execution_count": 11,
   "id": "cbee29f3-5988-4f5f-a9f1-fb13f137a91d",
   "metadata": {},
   "outputs": [
    {
     "name": "stdout",
     "output_type": "stream",
     "text": [
      "2.7285425662994385\n",
      "2.327491521835327\n",
      "2.024104118347168\n",
      "1.7615522146224976\n",
      "1.5158345699310303\n",
      "1.2889503240585327\n",
      "1.0819638967514038\n",
      "0.8945137858390808\n",
      "0.7275064587593079\n",
      "0.5823119282722473\n",
      "0.46098971366882324\n",
      "0.36218732595443726\n",
      "0.2834357023239136\n",
      "0.22332413494586945\n",
      "0.17835228145122528\n",
      "0.1438109427690506\n",
      "0.11679001897573471\n",
      "0.09547559171915054\n",
      "0.07857147604227066\n",
      "0.06511998176574707\n",
      "0.05439886078238487\n",
      "0.04584752395749092\n",
      "0.03902139887213707\n",
      "0.033563174307346344\n",
      "0.029182540252804756\n",
      "0.025643642991781235\n",
      "0.02275848016142845\n",
      "0.020381955429911613\n",
      "0.018404319882392883\n",
      "0.01674303039908409\n",
      "0.015335754491388798\n",
      "0.014134482480585575\n",
      "0.013102053664624691\n",
      "0.012209041975438595\n",
      "0.011432068422436714\n",
      "0.010752348229289055\n",
      "0.01015467755496502\n",
      "0.00962649006396532\n",
      "0.00915764831006527\n",
      "0.008739611133933067\n"
     ]
    }
   ],
   "source": [
    "# train\n",
    "for _ in range(40):\n",
    "    optimizer.zero_grad()\n",
    "    outputs = model(data_x_ids)\n",
    "    loss = criterion(outputs, data_y_ids)\n",
    "    print(loss.item())\n",
    "    loss.backward()\n",
    "    optimizer.step()"
   ]
  },
  {
   "cell_type": "code",
   "execution_count": 12,
   "id": "b562b790-b1f8-4e0c-a1cc-2453ee3f3a1a",
   "metadata": {},
   "outputs": [
    {
     "name": "stdout",
     "output_type": "stream",
     "text": [
      "tensor([[14, 11,  9,  8, 13,  6,  4],\n",
      "        [ 7,  5, 12, 10,  4,  1,  1]])\n"
     ]
    }
   ],
   "source": [
    "outputs = model(data_x_ids)\n",
    "#print(outputs)\n",
    "print(torch.argmax(outputs, axis=1))"
   ]
  },
  {
   "cell_type": "code",
   "execution_count": 13,
   "id": "7cd76225-a340-42ea-8352-81cdf3c56e99",
   "metadata": {},
   "outputs": [
    {
     "data": {
      "text/plain": [
       "tensor([[14, 11,  9,  8, 13,  6,  4],\n",
       "        [ 7,  5, 12, 10,  4,  1,  1]])"
      ]
     },
     "execution_count": 13,
     "metadata": {},
     "output_type": "execute_result"
    }
   ],
   "source": [
    "data_y_ids"
   ]
  },
  {
   "cell_type": "code",
   "execution_count": null,
   "id": "5f519bd6-a4f9-4037-bea8-bf7118e684f7",
   "metadata": {},
   "outputs": [],
   "source": []
  },
  {
   "cell_type": "markdown",
   "id": "097fb34a-238b-43eb-9e7d-4ad075f26e19",
   "metadata": {},
   "source": [
    "## Inference"
   ]
  },
  {
   "cell_type": "code",
   "execution_count": 18,
   "id": "fb181ca5-486f-4ea6-b0f6-076afdc02200",
   "metadata": {},
   "outputs": [
    {
     "name": "stdout",
     "output_type": "stream",
     "text": [
      "[2, 1, 1, 1, 1, 1, 1]\n"
     ]
    }
   ],
   "source": [
    "promt = '<sos_topic1>'\n",
    "promt = promt.split()\n",
    "promt_ids = [vocab[token] for token in promt][:sequence_length]\n",
    "promt_ids = promt_ids + [vocab[\"<pad>\"]] * (sequence_length - len(promt))\n",
    "\n",
    "print(promt_ids)"
   ]
  },
  {
   "cell_type": "code",
   "execution_count": 19,
   "id": "d7ef9d3c-12c1-44b4-94bc-61d781708a21",
   "metadata": {},
   "outputs": [
    {
     "name": "stdout",
     "output_type": "stream",
     "text": [
      "[2, 14, 1, 1, 1, 1, 1]\n",
      "[2, 14, 11, 1, 1, 1, 1]\n",
      "[2, 14, 11, 9, 1, 1, 1]\n",
      "[2, 14, 11, 9, 8, 1, 1]\n",
      "[2, 14, 11, 9, 8, 13, 1]\n",
      "[2, 14, 11, 9, 8, 13, 6]\n"
     ]
    }
   ],
   "source": [
    "for i in range(sequence_length - len(promt)):\n",
    "    promt_tensor = torch.tensor(promt_ids, dtype=torch.long).reshape(1, -1)\n",
    "    outputs = model(promt_tensor)\n",
    "    outputs = torch.argmax(outputs, axis=1)   \n",
    "    next_id = outputs[0][len(promt)+i-1]\n",
    "\n",
    "    promt_ids[len(promt)+i] = next_id.item()\n",
    "    print(promt_ids)"
   ]
  },
  {
   "cell_type": "code",
   "execution_count": null,
   "id": "214f3947-e3e9-4455-be61-2b9b5f34a2f6",
   "metadata": {},
   "outputs": [],
   "source": [
    "{'ăn': 14,\n",
    " 'quả': 11,\n",
    " 'nên': 10,\n",
    " 'nhớ': 9,\n",
    " 'trồng': 13,\n",
    " '<eos>': 4,\n",
    " 'kẻ': 8,\n",
    " 'chí': 5,\n",
    " '<unk>': 0,\n",
    " 'cây': 6,\n",
    " '<sos_topic2>': 3,\n",
    " 'thì': 12,\n",
    " 'có': 7,\n",
    " '<sos_topic1>': 2,\n",
    " '<pad>': 1}"
   ]
  },
  {
   "cell_type": "code",
   "execution_count": null,
   "id": "7fd1e379",
   "metadata": {},
   "outputs": [],
   "source": []
  }
 ],
 "metadata": {
  "kernelspec": {
   "display_name": "Python 3 (ipykernel)",
   "language": "python",
   "name": "python3"
  },
  "language_info": {
   "codemirror_mode": {
    "name": "ipython",
    "version": 3
   },
   "file_extension": ".py",
   "mimetype": "text/x-python",
   "name": "python",
   "nbconvert_exporter": "python",
   "pygments_lexer": "ipython3",
   "version": "3.12.4"
  }
 },
 "nbformat": 4,
 "nbformat_minor": 5
}
