{
 "cells": [
  {
   "cell_type": "markdown",
   "id": "7efe5b00-cda0-4c3f-9cbc-6fd590ebb4a6",
   "metadata": {},
   "source": [
    "## Data"
   ]
  },
  {
   "cell_type": "code",
   "execution_count": 15,
   "id": "22382432-34a8-474b-9519-af1168597ea1",
   "metadata": {},
   "outputs": [],
   "source": [
    "import torch\n",
    "import torch.nn as nn\n",
    "import torchtext; torchtext.disable_torchtext_deprecation_warning()\n",
    "from torchtext.data.utils import get_tokenizer\n",
    "from torchtext.vocab import build_vocab_from_iterator\n",
    "\n",
    "corpus = [\n",
    "    \"ăn quả nhớ kẻ trồng cây\",\n",
    "    \"có chí thì nên\"    \n",
    "]\n",
    "data_size = len(corpus)\n",
    "\n",
    "# Define the max vocabulary size and sequence length\n",
    "vocab_size = 13\n",
    "sequence_length = 6"
   ]
  },
  {
   "cell_type": "code",
   "execution_count": null,
   "id": "631b30d3-af02-4997-8757-929055597484",
   "metadata": {},
   "outputs": [],
   "source": []
  },
  {
   "cell_type": "code",
   "execution_count": 16,
   "id": "472595ab-3ce7-4b94-85a7-26ad47310545",
   "metadata": {},
   "outputs": [
    {
     "data": {
      "text/plain": [
       "{'ăn': 12,\n",
       " 'nên': 8,\n",
       " 'nhớ': 7,\n",
       " 'có': 5,\n",
       " 'thì': 10,\n",
       " 'trồng': 11,\n",
       " 'kẻ': 6,\n",
       " '<unk>': 0,\n",
       " 'cây': 4,\n",
       " 'quả': 9,\n",
       " '<sos>': 2,\n",
       " 'chí': 3,\n",
       " '<pad>': 1}"
      ]
     },
     "execution_count": 16,
     "metadata": {},
     "output_type": "execute_result"
    }
   ],
   "source": [
    "# Define tokenizer function\n",
    "tokenizer = get_tokenizer('basic_english')\n",
    "\n",
    "# Create a function to yield list of tokens\n",
    "def yield_tokens(examples):\n",
    "    for text in examples:\n",
    "        yield tokenizer(text)\n",
    "\n",
    "# Create vocabulary\n",
    "vocab = build_vocab_from_iterator(yield_tokens(corpus),\n",
    "                                  max_tokens=vocab_size,\n",
    "                                  specials=[\"<unk>\", \"<pad>\", \"<sos>\"]\n",
    "                                 )\n",
    "vocab.set_default_index(vocab[\"<unk>\"])\n",
    "vocab.get_stoi()"
   ]
  },
  {
   "cell_type": "code",
   "execution_count": null,
   "id": "6690f201-f4fb-4685-ae0c-7633b7e8a765",
   "metadata": {},
   "outputs": [],
   "source": []
  },
  {
   "cell_type": "code",
   "execution_count": 17,
   "id": "4364504a-e300-4e9f-9565-ff4f9ad2f45a",
   "metadata": {},
   "outputs": [
    {
     "name": "stdout",
     "output_type": "stream",
     "text": [
      "['<sos>']\n",
      "ăn\n",
      "\n",
      "['<sos>', 'ăn']\n",
      "quả\n",
      "\n",
      "['<sos>', 'ăn', 'quả']\n",
      "nhớ\n",
      "\n",
      "['<sos>', 'ăn', 'quả', 'nhớ']\n",
      "kẻ\n",
      "\n",
      "['<sos>', 'ăn', 'quả', 'nhớ', 'kẻ']\n",
      "trồng\n",
      "\n",
      "['<sos>', 'ăn', 'quả', 'nhớ', 'kẻ', 'trồng']\n",
      "cây\n",
      "\n",
      "['<sos>']\n",
      "có\n",
      "\n",
      "['<sos>', 'có']\n",
      "chí\n",
      "\n",
      "['<sos>', 'có', 'chí']\n",
      "thì\n",
      "\n",
      "['<sos>', 'có', 'chí', 'thì']\n",
      "nên\n",
      "\n"
     ]
    }
   ],
   "source": [
    "data_x = []\n",
    "data_y = []\n",
    "for vector in corpus:\n",
    "    vector = vector.split()    \n",
    "\n",
    "    for i in range(len(vector)):\n",
    "        data_x.append(['<sos>'] + vector[:i])\n",
    "        data_y.append(vector[i])\n",
    "\n",
    "# print\n",
    "for x, y in zip(data_x, data_y):\n",
    "    print(x)\n",
    "    print(y)\n",
    "    print()"
   ]
  },
  {
   "cell_type": "code",
   "execution_count": null,
   "id": "2726650a-52ef-4150-9b09-0071d0ce2a31",
   "metadata": {},
   "outputs": [],
   "source": []
  },
  {
   "cell_type": "code",
   "execution_count": 18,
   "id": "548484cb-e415-4e4f-a7f5-b0fd0ed48e59",
   "metadata": {},
   "outputs": [],
   "source": [
    "data_x_ids = []\n",
    "data_y_ids = []\n",
    "def vectorize(x, y, vocab, sequence_length):\n",
    "    x_ids = [vocab[token] for token in x][:sequence_length]\n",
    "    x_ids = x_ids + [vocab[\"<pad>\"]]*(sequence_length - len(x))    \n",
    "    return x_ids, vocab[y]\n",
    "for x, y in zip(data_x, data_y):\n",
    "    x_ids, y_ids = vectorize(x, y, vocab, sequence_length)\n",
    "    data_x_ids.append(x_ids)\n",
    "    data_y_ids.append(y_ids)"
   ]
  },
  {
   "cell_type": "code",
   "execution_count": null,
   "id": "c610df2e-db78-4110-b8e5-2df61ffbff24",
   "metadata": {},
   "outputs": [],
   "source": []
  },
  {
   "cell_type": "code",
   "execution_count": 19,
   "id": "1074c9d5-69cc-460b-96db-73818bb3755c",
   "metadata": {},
   "outputs": [
    {
     "name": "stdout",
     "output_type": "stream",
     "text": [
      "[2, 1, 1, 1, 1, 1]\n",
      "12\n",
      "\n",
      "[2, 12, 1, 1, 1, 1]\n",
      "9\n",
      "\n",
      "[2, 12, 9, 1, 1, 1]\n",
      "7\n",
      "\n",
      "[2, 12, 9, 7, 1, 1]\n",
      "6\n",
      "\n",
      "[2, 12, 9, 7, 6, 1]\n",
      "11\n",
      "\n",
      "[2, 12, 9, 7, 6, 11]\n",
      "4\n",
      "\n",
      "[2, 1, 1, 1, 1, 1]\n",
      "5\n",
      "\n",
      "[2, 5, 1, 1, 1, 1]\n",
      "3\n",
      "\n",
      "[2, 5, 3, 1, 1, 1]\n",
      "10\n",
      "\n",
      "[2, 5, 3, 10, 1, 1]\n",
      "8\n",
      "\n"
     ]
    }
   ],
   "source": [
    "for x, y in zip(data_x_ids, data_y_ids):\n",
    "    print(x)\n",
    "    print(y)\n",
    "    print()"
   ]
  },
  {
   "cell_type": "code",
   "execution_count": null,
   "id": "c1e9fae4-88f6-4fc4-88d6-9758e37764da",
   "metadata": {},
   "outputs": [],
   "source": []
  },
  {
   "cell_type": "code",
   "execution_count": 20,
   "id": "3192fcd6-d411-4312-afcd-88fe4e64a8b9",
   "metadata": {},
   "outputs": [
    {
     "name": "stdout",
     "output_type": "stream",
     "text": [
      "torch.Size([10, 6])\n"
     ]
    }
   ],
   "source": [
    "data_x_ids = torch.tensor(data_x_ids, dtype=torch.long)\n",
    "print(data_x_ids.shape)"
   ]
  },
  {
   "cell_type": "code",
   "execution_count": 21,
   "id": "0c1473cd-5773-401d-820c-42fcdf0eba45",
   "metadata": {},
   "outputs": [
    {
     "name": "stdout",
     "output_type": "stream",
     "text": [
      "torch.Size([10])\n"
     ]
    }
   ],
   "source": [
    "data_y_ids = torch.tensor(data_y_ids, dtype=torch.long)\n",
    "print(data_y_ids.shape)"
   ]
  },
  {
   "cell_type": "code",
   "execution_count": null,
   "id": "b29745f5-7ed8-49aa-b44d-c22aba3d41ce",
   "metadata": {},
   "outputs": [],
   "source": []
  },
  {
   "cell_type": "markdown",
   "id": "b547154b-2223-4e4f-a875-119ec33f9812",
   "metadata": {},
   "source": [
    "## Model"
   ]
  },
  {
   "cell_type": "code",
   "execution_count": 22,
   "id": "bb26d7d5-81e3-4cf3-90ff-99b3bfa5524d",
   "metadata": {},
   "outputs": [
    {
     "name": "stdout",
     "output_type": "stream",
     "text": [
      "TG_Model(\n",
      "  (embedding): Embedding(13, 4)\n",
      "  (recurrent): RNN(4, 4, batch_first=True)\n",
      "  (linear): Linear(in_features=24, out_features=13, bias=True)\n",
      ")\n"
     ]
    }
   ],
   "source": [
    "class TG_Model(nn.Module):\n",
    "    def __init__(self, vocab_size, sequence_length):\n",
    "        super().__init__()\n",
    "        self.embedding = nn.Embedding(vocab_size, 4)\n",
    "        self.recurrent = nn.RNN(4, 4, batch_first=True)\n",
    "        self.linear = nn.Linear(sequence_length*4, vocab_size)\n",
    "\n",
    "    def forward(self, x):\n",
    "        x = self.embedding(x)   # [n, sequence_length, 4]\n",
    "        x,_ = self.recurrent(x) # [n, sequence_length, 4]\n",
    "        x = nn.Flatten()(x)     # [n, 24]\n",
    "        x = self.linear(x)      # [n, 13] \n",
    "        return x\n",
    "\n",
    "model = TG_Model(vocab_size, sequence_length)\n",
    "print(model)"
   ]
  },
  {
   "cell_type": "code",
   "execution_count": 23,
   "id": "32ed2deb-b3e3-4a70-8b85-c575001fc213",
   "metadata": {},
   "outputs": [],
   "source": [
    "criterion = nn.CrossEntropyLoss()\n",
    "optimizer = torch.optim.Adam(model.parameters(), lr=0.05)"
   ]
  },
  {
   "cell_type": "code",
   "execution_count": null,
   "id": "910680f9-acb5-493e-a194-a3f18f4788f0",
   "metadata": {},
   "outputs": [],
   "source": []
  },
  {
   "cell_type": "markdown",
   "id": "6aba8fcc-b989-426c-826c-82d8efbdbb49",
   "metadata": {},
   "source": [
    "## Train"
   ]
  },
  {
   "cell_type": "code",
   "execution_count": 24,
   "id": "cbee29f3-5988-4f5f-a9f1-fb13f137a91d",
   "metadata": {},
   "outputs": [
    {
     "name": "stdout",
     "output_type": "stream",
     "text": [
      "2.7055916786193848\n",
      "2.164893627166748\n",
      "1.7753992080688477\n",
      "1.4416204690933228\n",
      "1.151464819908142\n",
      "0.9141565561294556\n",
      "0.7340354323387146\n",
      "0.6000059247016907\n",
      "0.5004871487617493\n",
      "0.4314578175544739\n",
      "0.38419976830482483\n",
      "0.3464199900627136\n",
      "0.31238603591918945\n",
      "0.28088831901550293\n",
      "0.2526453137397766\n",
      "0.22972261905670166\n",
      "0.21128150820732117\n",
      "0.19626843929290771\n",
      "0.1852664202451706\n",
      "0.17725470662117004\n",
      "0.17126096785068512\n",
      "0.1667129099369049\n",
      "0.16242918372154236\n",
      "0.15837077796459198\n",
      "0.15525270998477936\n",
      "0.15270254015922546\n",
      "0.15056125819683075\n",
      "0.14917609095573425\n",
      "0.14813630282878876\n",
      "0.14716339111328125\n",
      "0.1465173065662384\n",
      "0.1459810435771942\n",
      "0.14535680413246155\n",
      "0.1448863446712494\n",
      "0.1444772481918335\n"
     ]
    }
   ],
   "source": [
    "# train\n",
    "for _ in range(35):\n",
    "    optimizer.zero_grad()\n",
    "    outputs = model(data_x_ids)\n",
    "    loss = criterion(outputs, data_y_ids)\n",
    "    print(loss.item())\n",
    "    loss.backward()\n",
    "    optimizer.step()"
   ]
  },
  {
   "cell_type": "code",
   "execution_count": 25,
   "id": "b562b790-b1f8-4e0c-a1cc-2453ee3f3a1a",
   "metadata": {},
   "outputs": [
    {
     "name": "stdout",
     "output_type": "stream",
     "text": [
      "tensor([ 5,  9,  7,  6, 11,  4,  5,  3, 10,  8])\n"
     ]
    }
   ],
   "source": [
    "outputs = model(data_x_ids)\n",
    "print(torch.argmax(outputs, axis=-1))"
   ]
  },
  {
   "cell_type": "code",
   "execution_count": 26,
   "id": "7cd76225-a340-42ea-8352-81cdf3c56e99",
   "metadata": {},
   "outputs": [
    {
     "data": {
      "text/plain": [
       "tensor([12,  9,  7,  6, 11,  4,  5,  3, 10,  8])"
      ]
     },
     "execution_count": 26,
     "metadata": {},
     "output_type": "execute_result"
    }
   ],
   "source": [
    "data_y_ids"
   ]
  },
  {
   "cell_type": "code",
   "execution_count": null,
   "id": "5f519bd6-a4f9-4037-bea8-bf7118e684f7",
   "metadata": {},
   "outputs": [],
   "source": []
  },
  {
   "cell_type": "markdown",
   "id": "097fb34a-238b-43eb-9e7d-4ad075f26e19",
   "metadata": {},
   "source": [
    "## Inference"
   ]
  },
  {
   "cell_type": "code",
   "execution_count": 27,
   "id": "fb181ca5-486f-4ea6-b0f6-076afdc02200",
   "metadata": {},
   "outputs": [
    {
     "name": "stdout",
     "output_type": "stream",
     "text": [
      "[2, 12, 1, 1, 1, 1]\n"
     ]
    }
   ],
   "source": [
    "promt = '<sos> ăn'\n",
    "promt = promt.split()\n",
    "promt_ids = [vocab[token] for token in promt][:sequence_length]\n",
    "promt_ids = promt_ids + [vocab[\"<pad>\"]] * (sequence_length - len(promt))\n",
    "\n",
    "print(promt_ids)"
   ]
  },
  {
   "cell_type": "code",
   "execution_count": 28,
   "id": "d7ef9d3c-12c1-44b4-94bc-61d781708a21",
   "metadata": {},
   "outputs": [
    {
     "name": "stdout",
     "output_type": "stream",
     "text": [
      "[2, 12, 9, 1, 1, 1]\n",
      "[2, 12, 9, 7, 1, 1]\n",
      "[2, 12, 9, 7, 6, 1]\n",
      "[2, 12, 9, 7, 6, 11]\n"
     ]
    }
   ],
   "source": [
    "for i in range(sequence_length - len(promt)):\n",
    "    promt_tensor = torch.tensor(promt_ids, dtype=torch.long).reshape(1, -1)\n",
    "    outputs = model(promt_tensor)\n",
    "    next_id = torch.argmax(outputs, axis=-1)\n",
    "\n",
    "    promt_ids[len(promt)+i] = next_id.item()\n",
    "    print(promt_ids)"
   ]
  },
  {
   "cell_type": "code",
   "execution_count": null,
   "id": "214f3947-e3e9-4455-be61-2b9b5f34a2f6",
   "metadata": {},
   "outputs": [],
   "source": []
  }
 ],
 "metadata": {
  "kernelspec": {
   "display_name": "Python 3 (ipykernel)",
   "language": "python",
   "name": "python3"
  },
  "language_info": {
   "codemirror_mode": {
    "name": "ipython",
    "version": 3
   },
   "file_extension": ".py",
   "mimetype": "text/x-python",
   "name": "python",
   "nbconvert_exporter": "python",
   "pygments_lexer": "ipython3",
   "version": "3.12.4"
  }
 },
 "nbformat": 4,
 "nbformat_minor": 5
}
