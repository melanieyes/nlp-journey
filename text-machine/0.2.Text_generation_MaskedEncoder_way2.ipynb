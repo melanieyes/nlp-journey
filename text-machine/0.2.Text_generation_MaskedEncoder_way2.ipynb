{
 "cells": [
  {
   "cell_type": "markdown",
   "id": "7efe5b00-cda0-4c3f-9cbc-6fd590ebb4a6",
   "metadata": {},
   "source": [
    "## Data"
   ]
  },
  {
   "cell_type": "code",
   "execution_count": 1,
   "id": "22382432-34a8-474b-9519-af1168597ea1",
   "metadata": {},
   "outputs": [],
   "source": [
    "import torch\n",
    "import torch.nn as nn\n",
    "import torchtext; torchtext.disable_torchtext_deprecation_warning()\n",
    "from torchtext.data.utils import get_tokenizer\n",
    "from torchtext.vocab import build_vocab_from_iterator\n",
    "\n",
    "corpus = [\n",
    "    \"ăn quả nhớ kẻ trồng cây\",\n",
    "    \"có chí thì nên\"    \n",
    "]\n",
    "data_size = len(corpus)\n",
    "\n",
    "# Define the max vocabulary size and sequence length\n",
    "vocab_size = 13\n",
    "sequence_length = 7"
   ]
  },
  {
   "cell_type": "code",
   "execution_count": 2,
   "id": "472595ab-3ce7-4b94-85a7-26ad47310545",
   "metadata": {},
   "outputs": [
    {
     "data": {
      "text/plain": [
       "{'ăn': 12,\n",
       " 'nên': 8,\n",
       " 'nhớ': 7,\n",
       " 'có': 5,\n",
       " 'thì': 10,\n",
       " 'trồng': 11,\n",
       " 'kẻ': 6,\n",
       " '<unk>': 0,\n",
       " 'cây': 4,\n",
       " 'quả': 9,\n",
       " '<sos>': 2,\n",
       " 'chí': 3,\n",
       " '<pad>': 1}"
      ]
     },
     "execution_count": 2,
     "metadata": {},
     "output_type": "execute_result"
    }
   ],
   "source": [
    "# Define tokenizer function\n",
    "tokenizer = get_tokenizer('basic_english')\n",
    "\n",
    "# Create a function to yield list of tokens\n",
    "def yield_tokens(examples):\n",
    "    for text in examples:\n",
    "        yield tokenizer(text)\n",
    "\n",
    "# Create vocabulary\n",
    "vocab = build_vocab_from_iterator(yield_tokens(corpus),\n",
    "                                  max_tokens=vocab_size,\n",
    "                                  specials=[\"<unk>\", \"<pad>\", \"<sos>\"]\n",
    "                                 )\n",
    "vocab.set_default_index(vocab[\"<unk>\"])\n",
    "vocab.get_stoi()"
   ]
  },
  {
   "cell_type": "code",
   "execution_count": null,
   "id": "6690f201-f4fb-4685-ae0c-7633b7e8a765",
   "metadata": {},
   "outputs": [],
   "source": []
  },
  {
   "cell_type": "code",
   "execution_count": 3,
   "id": "4364504a-e300-4e9f-9565-ff4f9ad2f45a",
   "metadata": {},
   "outputs": [
    {
     "name": "stdout",
     "output_type": "stream",
     "text": [
      "[[], ['ăn'], ['ăn', 'quả'], ['ăn', 'quả', 'nhớ'], ['ăn', 'quả', 'nhớ', 'kẻ'], ['ăn', 'quả', 'nhớ', 'kẻ', 'trồng'], [], ['có'], ['có', 'chí'], ['có', 'chí', 'thì']]\n",
      "['ăn', 'quả', 'nhớ', 'kẻ', 'trồng', 'cây', 'có', 'chí', 'thì', 'nên']\n"
     ]
    }
   ],
   "source": [
    "data_x = []\n",
    "data_y = []\n",
    "for vector in corpus:\n",
    "    vector = vector.split()    \n",
    "\n",
    "    for i in range(len(vector)):\n",
    "        data_x.append(vector[:i])\n",
    "        data_y.append(vector[i])\n",
    "\n",
    "print(data_x)\n",
    "print(data_y)"
   ]
  },
  {
   "cell_type": "code",
   "execution_count": null,
   "id": "2726650a-52ef-4150-9b09-0071d0ce2a31",
   "metadata": {},
   "outputs": [],
   "source": []
  },
  {
   "cell_type": "code",
   "execution_count": 4,
   "id": "548484cb-e415-4e4f-a7f5-b0fd0ed48e59",
   "metadata": {},
   "outputs": [
    {
     "name": "stdout",
     "output_type": "stream",
     "text": [
      "['<sos>']\n",
      "['<sos>', 'ăn']\n",
      "['<sos>', 'ăn', 'quả']\n",
      "['<sos>', 'ăn', 'quả', 'nhớ']\n",
      "['<sos>', 'ăn', 'quả', 'nhớ', 'kẻ']\n",
      "['<sos>', 'ăn', 'quả', 'nhớ', 'kẻ', 'trồng']\n",
      "['<sos>']\n",
      "['<sos>', 'có']\n",
      "['<sos>', 'có', 'chí']\n",
      "['<sos>', 'có', 'chí', 'thì']\n"
     ]
    }
   ],
   "source": [
    "# Tokenize and numericalize your samples\n",
    "def vectorize(x, y, vocab, sequence_length):\n",
    "    x = ['<sos>'] + x\n",
    "    print(x)\n",
    "    x_ids = [vocab[token] for token in x][:sequence_length]\n",
    "    x_ids = x_ids + [vocab[\"<pad>\"]] * (sequence_length - len(x))\n",
    "    \n",
    "    return x_ids, vocab[y]\n",
    "\n",
    "# Vectorize the samples\n",
    "data_x_ids = []\n",
    "data_y_ids = []\n",
    "for x, y in zip(data_x, data_y):\n",
    "    x_ids, y_ids = vectorize(x, y, vocab, sequence_length)\n",
    "    data_x_ids.append(x_ids)\n",
    "    data_y_ids.append(y_ids)"
   ]
  },
  {
   "cell_type": "code",
   "execution_count": null,
   "id": "c610df2e-db78-4110-b8e5-2df61ffbff24",
   "metadata": {},
   "outputs": [],
   "source": []
  },
  {
   "cell_type": "code",
   "execution_count": 5,
   "id": "1074c9d5-69cc-460b-96db-73818bb3755c",
   "metadata": {},
   "outputs": [
    {
     "name": "stdout",
     "output_type": "stream",
     "text": [
      "[2, 1, 1, 1, 1, 1, 1]\n",
      "12\n",
      "\n",
      "[2, 12, 1, 1, 1, 1, 1]\n",
      "9\n",
      "\n",
      "[2, 12, 9, 1, 1, 1, 1]\n",
      "7\n",
      "\n",
      "[2, 12, 9, 7, 1, 1, 1]\n",
      "6\n",
      "\n",
      "[2, 12, 9, 7, 6, 1, 1]\n",
      "11\n",
      "\n",
      "[2, 12, 9, 7, 6, 11, 1]\n",
      "4\n",
      "\n",
      "[2, 1, 1, 1, 1, 1, 1]\n",
      "5\n",
      "\n",
      "[2, 5, 1, 1, 1, 1, 1]\n",
      "3\n",
      "\n",
      "[2, 5, 3, 1, 1, 1, 1]\n",
      "10\n",
      "\n",
      "[2, 5, 3, 10, 1, 1, 1]\n",
      "8\n",
      "\n"
     ]
    }
   ],
   "source": [
    "for x, y in zip(data_x_ids, data_y_ids):\n",
    "    print(x)\n",
    "    print(y)\n",
    "    print()"
   ]
  },
  {
   "cell_type": "code",
   "execution_count": 6,
   "id": "3192fcd6-d411-4312-afcd-88fe4e64a8b9",
   "metadata": {},
   "outputs": [
    {
     "name": "stdout",
     "output_type": "stream",
     "text": [
      "torch.Size([10, 7])\n"
     ]
    }
   ],
   "source": [
    "data_x_ids = torch.tensor(data_x_ids, dtype=torch.long)\n",
    "print(data_x_ids.shape)"
   ]
  },
  {
   "cell_type": "code",
   "execution_count": 7,
   "id": "0c1473cd-5773-401d-820c-42fcdf0eba45",
   "metadata": {},
   "outputs": [
    {
     "name": "stdout",
     "output_type": "stream",
     "text": [
      "torch.Size([10])\n"
     ]
    }
   ],
   "source": [
    "data_y_ids = torch.tensor(data_y_ids, dtype=torch.long)\n",
    "print(data_y_ids.shape)"
   ]
  },
  {
   "cell_type": "code",
   "execution_count": null,
   "id": "b29745f5-7ed8-49aa-b44d-c22aba3d41ce",
   "metadata": {},
   "outputs": [],
   "source": []
  },
  {
   "cell_type": "markdown",
   "id": "b547154b-2223-4e4f-a875-119ec33f9812",
   "metadata": {},
   "source": [
    "## Model"
   ]
  },
  {
   "cell_type": "code",
   "execution_count": 8,
   "id": "bb26d7d5-81e3-4cf3-90ff-99b3bfa5524d",
   "metadata": {},
   "outputs": [
    {
     "name": "stdout",
     "output_type": "stream",
     "text": [
      "TG_Model(\n",
      "  (embedding): Embedding(13, 8)\n",
      "  (transformer): TransformerEncoderLayer(\n",
      "    (self_attn): MultiheadAttention(\n",
      "      (out_proj): NonDynamicallyQuantizableLinear(in_features=8, out_features=8, bias=True)\n",
      "    )\n",
      "    (linear1): Linear(in_features=8, out_features=4, bias=True)\n",
      "    (dropout): Dropout(p=0.0, inplace=False)\n",
      "    (linear2): Linear(in_features=4, out_features=8, bias=True)\n",
      "    (norm1): LayerNorm((8,), eps=1e-05, elementwise_affine=True)\n",
      "    (norm2): LayerNorm((8,), eps=1e-05, elementwise_affine=True)\n",
      "    (dropout1): Dropout(p=0.0, inplace=False)\n",
      "    (dropout2): Dropout(p=0.0, inplace=False)\n",
      "  )\n",
      "  (linear): Linear(in_features=56, out_features=13, bias=True)\n",
      ")\n"
     ]
    }
   ],
   "source": [
    "class TG_Model(nn.Module):\n",
    "    def __init__(self, vocab_size, embed_dim, num_heads, sequence_length):\n",
    "        super().__init__()\n",
    "        self.embedding = nn.Embedding(vocab_size, embed_dim)        \n",
    "        self.mask = torch.triu(torch.ones(sequence_length, sequence_length), \n",
    "                               diagonal=1).bool()\n",
    "        self.transformer =  nn.TransformerEncoderLayer(d_model=embed_dim, \n",
    "                                                       nhead=num_heads, \n",
    "                                                       batch_first=True, \n",
    "                                                       dim_feedforward=4,\n",
    "                                                       dropout=0.0)\n",
    "        self.linear = nn.Linear(sequence_length*embed_dim, vocab_size)\n",
    "\n",
    "    def forward(self, x):\n",
    "        x = self.embedding(x)                         # [n, seq_len, embed_dim]\n",
    "        x = self.transformer(x, src_mask=self.mask)   # [n, seq_len, embed_dim]\n",
    "        x = nn.Flatten()(x)                           # [n, seq_len*embed_dim]\n",
    "        x = self.linear(x)                            # [n, vocab_size]\n",
    "        return x\n",
    "\n",
    "model = TG_Model(vocab_size, 8, 2, sequence_length)\n",
    "print(model)"
   ]
  },
  {
   "cell_type": "code",
   "execution_count": 9,
   "id": "32ed2deb-b3e3-4a70-8b85-c575001fc213",
   "metadata": {},
   "outputs": [],
   "source": [
    "criterion = nn.CrossEntropyLoss()\n",
    "optimizer = torch.optim.Adam(model.parameters(), lr=0.05)"
   ]
  },
  {
   "cell_type": "code",
   "execution_count": null,
   "id": "910680f9-acb5-493e-a194-a3f18f4788f0",
   "metadata": {},
   "outputs": [],
   "source": []
  },
  {
   "cell_type": "markdown",
   "id": "b964287a-526f-4c11-b10e-47a64a899abe",
   "metadata": {},
   "source": [
    "## Train"
   ]
  },
  {
   "cell_type": "code",
   "execution_count": 10,
   "id": "cbee29f3-5988-4f5f-a9f1-fb13f137a91d",
   "metadata": {},
   "outputs": [
    {
     "name": "stdout",
     "output_type": "stream",
     "text": [
      "2.8626513481140137\n",
      "2.0063111782073975\n",
      "1.2720909118652344\n",
      "0.8711012601852417\n",
      "0.5769220590591431\n",
      "0.40428152680397034\n",
      "0.2984568178653717\n",
      "0.22718572616577148\n",
      "0.18501654267311096\n",
      "0.16782192885875702\n",
      "0.15720482170581818\n",
      "0.15095987915992737\n",
      "0.14727486670017242\n",
      "0.1463598757982254\n",
      "0.14388756453990936\n",
      "0.14234121143817902\n",
      "0.14209994673728943\n",
      "0.14094005525112152\n",
      "0.14044535160064697\n",
      "0.14074596762657166\n",
      "0.1402960568666458\n",
      "0.13945385813713074\n",
      "0.13931569457054138\n",
      "0.13970980048179626\n",
      "0.13987641036510468\n",
      "0.13957563042640686\n",
      "0.13910405337810516\n",
      "0.1388550102710724\n",
      "0.1389150470495224\n",
      "0.13919992744922638\n",
      "0.13965818285942078\n",
      "0.14026086032390594\n",
      "0.1409301459789276\n",
      "0.14117582142353058\n",
      "0.14065007865428925\n",
      "0.13950571417808533\n",
      "0.1387500762939453\n",
      "0.13891030848026276\n",
      "0.1396038681268692\n",
      "0.140054851770401\n"
     ]
    }
   ],
   "source": [
    "# train\n",
    "for _ in range(40):\n",
    "    optimizer.zero_grad()\n",
    "    outputs = model(data_x_ids)\n",
    "    loss = criterion(outputs, data_y_ids)\n",
    "    print(loss.item())\n",
    "    loss.backward()\n",
    "    optimizer.step()"
   ]
  },
  {
   "cell_type": "code",
   "execution_count": 11,
   "id": "b562b790-b1f8-4e0c-a1cc-2453ee3f3a1a",
   "metadata": {},
   "outputs": [
    {
     "name": "stdout",
     "output_type": "stream",
     "text": [
      "tensor([ 5,  9,  7,  6, 11,  4,  5,  3, 10,  8])\n"
     ]
    }
   ],
   "source": [
    "outputs = model(data_x_ids)\n",
    "#print(outputs)\n",
    "print(torch.argmax(outputs, axis=-1))"
   ]
  },
  {
   "cell_type": "code",
   "execution_count": 12,
   "id": "7cd76225-a340-42ea-8352-81cdf3c56e99",
   "metadata": {},
   "outputs": [
    {
     "data": {
      "text/plain": [
       "tensor([12,  9,  7,  6, 11,  4,  5,  3, 10,  8])"
      ]
     },
     "execution_count": 12,
     "metadata": {},
     "output_type": "execute_result"
    }
   ],
   "source": [
    "data_y_ids"
   ]
  },
  {
   "cell_type": "code",
   "execution_count": null,
   "id": "5f519bd6-a4f9-4037-bea8-bf7118e684f7",
   "metadata": {},
   "outputs": [],
   "source": []
  },
  {
   "cell_type": "markdown",
   "id": "097fb34a-238b-43eb-9e7d-4ad075f26e19",
   "metadata": {},
   "source": [
    "## Inference"
   ]
  },
  {
   "cell_type": "code",
   "execution_count": 13,
   "id": "fb181ca5-486f-4ea6-b0f6-076afdc02200",
   "metadata": {},
   "outputs": [
    {
     "name": "stdout",
     "output_type": "stream",
     "text": [
      "[2, 5, 1, 1, 1, 1, 1]\n"
     ]
    }
   ],
   "source": [
    "promt = '<sos> có'\n",
    "promt = promt.split()\n",
    "promt_ids = [vocab[token] for token in promt][:sequence_length]\n",
    "promt_ids = promt_ids + [vocab[\"<pad>\"]] * (sequence_length - len(promt))\n",
    "\n",
    "print(promt_ids)"
   ]
  },
  {
   "cell_type": "code",
   "execution_count": 14,
   "id": "d7ef9d3c-12c1-44b4-94bc-61d781708a21",
   "metadata": {},
   "outputs": [
    {
     "name": "stdout",
     "output_type": "stream",
     "text": [
      "[2, 5, 3, 1, 1, 1, 1]\n",
      "[2, 5, 3, 10, 1, 1, 1]\n",
      "[2, 5, 3, 10, 8, 1, 1]\n",
      "[2, 5, 3, 10, 8, 8, 1]\n",
      "[2, 5, 3, 10, 8, 8, 8]\n"
     ]
    }
   ],
   "source": [
    "for i in range(sequence_length - len(promt)):\n",
    "    promt_tensor = torch.tensor(promt_ids, dtype=torch.long).reshape(1, -1)\n",
    "    outputs = model(promt_tensor)\n",
    "    next_id = torch.argmax(outputs, axis=-1)\n",
    "\n",
    "    promt_ids[len(promt)+i] = next_id.item()\n",
    "    print(promt_ids)"
   ]
  },
  {
   "cell_type": "code",
   "execution_count": null,
   "id": "77fb70b4-2c7a-429a-bf95-4e467577fa64",
   "metadata": {},
   "outputs": [],
   "source": [
    "{'ăn': 12,\n",
    " 'nên': 8,\n",
    " 'nhớ': 7,\n",
    " 'có': 5,\n",
    " 'thì': 10,\n",
    " 'trồng': 11,\n",
    " 'kẻ': 6,\n",
    " '<unk>': 0,\n",
    " 'cây': 4,\n",
    " 'quả': 9,\n",
    " '<sos>': 2,\n",
    " 'chí': 3,\n",
    " '<pad>': 1}"
   ]
  }
 ],
 "metadata": {
  "kernelspec": {
   "display_name": "Python 3 (ipykernel)",
   "language": "python",
   "name": "python3"
  },
  "language_info": {
   "codemirror_mode": {
    "name": "ipython",
    "version": 3
   },
   "file_extension": ".py",
   "mimetype": "text/x-python",
   "name": "python",
   "nbconvert_exporter": "python",
   "pygments_lexer": "ipython3",
   "version": "3.12.4"
  }
 },
 "nbformat": 4,
 "nbformat_minor": 5
}
