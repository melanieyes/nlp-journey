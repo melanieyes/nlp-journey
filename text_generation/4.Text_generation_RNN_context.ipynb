{
 "cells": [
  {
   "cell_type": "markdown",
   "id": "7efe5b00-cda0-4c3f-9cbc-6fd590ebb4a6",
   "metadata": {},
   "source": [
    "## Data"
   ]
  },
  {
   "cell_type": "code",
   "execution_count": 12,
   "id": "22382432-34a8-474b-9519-af1168597ea1",
   "metadata": {},
   "outputs": [],
   "source": [
    "import torch\n",
    "import torch.nn as nn\n",
    "from tokenizers import Tokenizer\n",
    "from tokenizers.models import WordLevel\n",
    "from tokenizers.trainers import WordLevelTrainer\n",
    "from tokenizers.pre_tokenizers import Whitespace\n",
    "\n",
    "corpus = [\n",
    "    \"ăn quả nhớ kẻ trồng cây\",\n",
    "    \"có chí thì nên\"    \n",
    "]\n",
    "data_size = len(corpus)\n",
    "\n",
    "# Define the max vocabulary size and sequence length\n",
    "vocab_size = 14\n",
    "sequence_length = 6"
   ]
  },
  {
   "cell_type": "code",
   "execution_count": 13,
   "id": "0a3f176e",
   "metadata": {},
   "outputs": [],
   "source": [
    "# Initialize the tokenizer and define a trainer\n",
    "tokenizer = Tokenizer(WordLevel())\n",
    "tokenizer.pre_tokenizer = Whitespace()\n",
    "tokenizer.enable_padding(pad_id=1, \n",
    "                         pad_token=\"<pad>\", \n",
    "                         length=sequence_length)\n",
    "tokenizer.enable_truncation(max_length=sequence_length)\n",
    "\n",
    "# Train the tokenizer on your corpus\n",
    "trainer = WordLevelTrainer(vocab_size=vocab_size, \n",
    "                           special_tokens=[\"<unk>\", \"<pad>\", \"<sos_topic1>\", \"<sos_topic2>\"])\n",
    "tokenizer.train_from_iterator(corpus, trainer)"
   ]
  },
  {
   "cell_type": "code",
   "execution_count": 14,
   "id": "4364504a-e300-4e9f-9565-ff4f9ad2f45a",
   "metadata": {},
   "outputs": [
    {
     "name": "stdout",
     "output_type": "stream",
     "text": [
      "['<sos_topic1>', '<sos_topic1> ăn', '<sos_topic1> ăn quả', '<sos_topic1> ăn quả nhớ', '<sos_topic1> ăn quả nhớ kẻ', '<sos_topic1> ăn quả nhớ kẻ trồng', '<sos_topic2>', '<sos_topic2> có', '<sos_topic2> có chí', '<sos_topic2> có chí thì']\n",
      "['ăn', 'quả', 'nhớ', 'kẻ', 'trồng', 'cây', 'có', 'chí', 'thì', 'nên']\n"
     ]
    }
   ],
   "source": [
    "corpus[0] = '<sos_topic1> ' + corpus[0]\n",
    "corpus[1] = '<sos_topic2> ' + corpus[1]\n",
    "\n",
    "data_x = []\n",
    "data_y = []\n",
    "for vector in corpus:\n",
    "    vector = vector.split()    \n",
    "\n",
    "    for i in range(1, len(vector)):\n",
    "        data_x.append( ' '.join(vector[:i]) )\n",
    "        data_y.append(vector[i])\n",
    "\n",
    "print(data_x)\n",
    "print(data_y)"
   ]
  },
  {
   "cell_type": "code",
   "execution_count": 15,
   "id": "548484cb-e415-4e4f-a7f5-b0fd0ed48e59",
   "metadata": {},
   "outputs": [
    {
     "name": "stdout",
     "output_type": "stream",
     "text": [
      "[2, 1, 1, 1, 1, 1] 13\n",
      "[2, 13, 1, 1, 1, 1] 10\n",
      "[2, 13, 10, 1, 1, 1] 8\n",
      "[2, 13, 10, 8, 1, 1] 7\n",
      "[2, 13, 10, 8, 7, 1] 12\n",
      "[2, 13, 10, 8, 7, 12] 5\n",
      "[3, 1, 1, 1, 1, 1] 6\n",
      "[3, 6, 1, 1, 1, 1] 4\n",
      "[3, 6, 4, 1, 1, 1] 11\n",
      "[3, 6, 4, 11, 1, 1] 9\n"
     ]
    }
   ],
   "source": [
    "# Tokenize and numericalize your samples\n",
    "def vectorize(x, y, tokenizer, sequence_length):     \n",
    "    x_ids = tokenizer.encode(x)\n",
    "    y_ids = tokenizer.token_to_id(y)\n",
    "    print(x_ids.ids, y_ids)\n",
    "    return x_ids.ids, y_ids\n",
    "\n",
    "# Vectorize the samples\n",
    "data_x_ids = []\n",
    "data_y_ids = []\n",
    "for x, y in zip(data_x, data_y):\n",
    "    x_ids, y_ids = vectorize(x, y, tokenizer, sequence_length)\n",
    "    data_x_ids.append(x_ids)\n",
    "    data_y_ids.append(y_ids)\n",
    "\n",
    "data_x_ids = torch.tensor(data_x_ids, dtype=torch.long)\n",
    "data_y_ids = torch.tensor(data_y_ids, dtype=torch.long)"
   ]
  },
  {
   "cell_type": "markdown",
   "id": "b547154b-2223-4e4f-a875-119ec33f9812",
   "metadata": {},
   "source": [
    "## Train with full data"
   ]
  },
  {
   "cell_type": "code",
   "execution_count": 16,
   "id": "bb26d7d5-81e3-4cf3-90ff-99b3bfa5524d",
   "metadata": {},
   "outputs": [
    {
     "name": "stdout",
     "output_type": "stream",
     "text": [
      "TG_Model(\n",
      "  (embedding): Embedding(14, 4)\n",
      "  (recurrent): RNN(4, 4, batch_first=True)\n",
      "  (linear): Linear(in_features=24, out_features=14, bias=True)\n",
      ")\n"
     ]
    }
   ],
   "source": [
    "class TG_Model(nn.Module):\n",
    "    def __init__(self, vocab_size, sequence_length):\n",
    "        super().__init__()\n",
    "        self.embedding = nn.Embedding(vocab_size, 4)\n",
    "        self.recurrent = nn.RNN(4, 4, batch_first=True)\n",
    "        self.linear = nn.Linear(sequence_length*4, vocab_size)\n",
    "\n",
    "    def forward(self, x):\n",
    "        x = self.embedding(x)\n",
    "        x,_ = self.recurrent(x)\n",
    "        x = nn.Flatten()(x)\n",
    "        x = self.linear(x)\n",
    "        return x\n",
    "\n",
    "model = TG_Model(vocab_size, sequence_length)\n",
    "print(model)"
   ]
  },
  {
   "cell_type": "code",
   "execution_count": 17,
   "id": "32ed2deb-b3e3-4a70-8b85-c575001fc213",
   "metadata": {},
   "outputs": [],
   "source": [
    "criterion = nn.CrossEntropyLoss()\n",
    "optimizer = torch.optim.Adam(model.parameters(), lr=0.05)"
   ]
  },
  {
   "cell_type": "code",
   "execution_count": null,
   "id": "910680f9-acb5-493e-a194-a3f18f4788f0",
   "metadata": {},
   "outputs": [],
   "source": []
  },
  {
   "cell_type": "code",
   "execution_count": 18,
   "id": "cbee29f3-5988-4f5f-a9f1-fb13f137a91d",
   "metadata": {},
   "outputs": [],
   "source": [
    "# train\n",
    "for _ in range(50):\n",
    "    optimizer.zero_grad()\n",
    "    outputs = model(data_x_ids)\n",
    "    loss = criterion(outputs, data_y_ids)\n",
    "    #print(loss.item())\n",
    "    loss.backward()\n",
    "    optimizer.step()"
   ]
  },
  {
   "cell_type": "code",
   "execution_count": 19,
   "id": "b562b790-b1f8-4e0c-a1cc-2453ee3f3a1a",
   "metadata": {},
   "outputs": [
    {
     "name": "stdout",
     "output_type": "stream",
     "text": [
      "tensor([13, 10,  8,  7, 12,  5,  6,  4, 11,  9])\n"
     ]
    }
   ],
   "source": [
    "outputs = model(data_x_ids)\n",
    "#print(outputs)\n",
    "print(torch.argmax(outputs, axis=-1))"
   ]
  },
  {
   "cell_type": "code",
   "execution_count": 20,
   "id": "7cd76225-a340-42ea-8352-81cdf3c56e99",
   "metadata": {},
   "outputs": [
    {
     "data": {
      "text/plain": [
       "tensor([13, 10,  8,  7, 12,  5,  6,  4, 11,  9])"
      ]
     },
     "execution_count": 20,
     "metadata": {},
     "output_type": "execute_result"
    }
   ],
   "source": [
    "data_y_ids"
   ]
  },
  {
   "cell_type": "code",
   "execution_count": null,
   "id": "5f519bd6-a4f9-4037-bea8-bf7118e684f7",
   "metadata": {},
   "outputs": [],
   "source": []
  },
  {
   "cell_type": "markdown",
   "id": "097fb34a-238b-43eb-9e7d-4ad075f26e19",
   "metadata": {},
   "source": [
    "## Inference"
   ]
  },
  {
   "cell_type": "code",
   "execution_count": 21,
   "id": "fb181ca5-486f-4ea6-b0f6-076afdc02200",
   "metadata": {},
   "outputs": [
    {
     "name": "stdout",
     "output_type": "stream",
     "text": [
      "[3, 1, 1, 1, 1, 1]\n"
     ]
    }
   ],
   "source": [
    "promt = '<sos_topic2>'\n",
    "promt_length = 1\n",
    "promt_ids = tokenizer.encode(promt).ids\n",
    "print(promt_ids)"
   ]
  },
  {
   "cell_type": "code",
   "execution_count": 22,
   "id": "d7ef9d3c-12c1-44b4-94bc-61d781708a21",
   "metadata": {},
   "outputs": [
    {
     "name": "stdout",
     "output_type": "stream",
     "text": [
      "[3, 6, 1, 1, 1, 1]\n",
      "[3, 6, 4, 1, 1, 1]\n",
      "[3, 6, 4, 11, 1, 1]\n",
      "[3, 6, 4, 11, 9, 1]\n",
      "[3, 6, 4, 11, 9, 9]\n"
     ]
    }
   ],
   "source": [
    "for i in range(sequence_length - promt_length):\n",
    "    promt_tensor = torch.tensor(promt_ids, dtype=torch.long).reshape(1, -1)\n",
    "    outputs = model(promt_tensor)\n",
    "    next_id = torch.argmax(outputs, axis=-1)\n",
    "\n",
    "    promt_ids[promt_length+i] = next_id.item()\n",
    "    print(promt_ids)"
   ]
  },
  {
   "cell_type": "code",
   "execution_count": 23,
   "id": "214f3947-e3e9-4455-be61-2b9b5f34a2f6",
   "metadata": {},
   "outputs": [
    {
     "name": "stdout",
     "output_type": "stream",
     "text": [
      "{'trồng': 12, 'ăn': 13, 'chí': 4, 'nhớ': 8, '<pad>': 1, '<sos_topic1>': 2, 'kẻ': 7, 'có': 6, 'thì': 11, 'nên': 9, 'quả': 10, '<unk>': 0, 'cây': 5, '<sos_topic2>': 3}\n"
     ]
    }
   ],
   "source": [
    "print(tokenizer.get_vocab())"
   ]
  },
  {
   "cell_type": "code",
   "execution_count": null,
   "id": "f3848535",
   "metadata": {},
   "outputs": [],
   "source": []
  }
 ],
 "metadata": {
  "kernelspec": {
   "display_name": "Python 3 (ipykernel)",
   "language": "python",
   "name": "python3"
  },
  "language_info": {
   "codemirror_mode": {
    "name": "ipython",
    "version": 3
   },
   "file_extension": ".py",
   "mimetype": "text/x-python",
   "name": "python",
   "nbconvert_exporter": "python",
   "pygments_lexer": "ipython3",
   "version": "3.12.4"
  }
 },
 "nbformat": 4,
 "nbformat_minor": 5
}
