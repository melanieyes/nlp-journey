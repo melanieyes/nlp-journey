{
 "cells": [
  {
   "cell_type": "markdown",
   "id": "7efe5b00-cda0-4c3f-9cbc-6fd590ebb4a6",
   "metadata": {},
   "source": [
    "## Data"
   ]
  },
  {
   "cell_type": "code",
   "execution_count": 10,
   "id": "22382432-34a8-474b-9519-af1168597ea1",
   "metadata": {},
   "outputs": [],
   "source": [
    "import torch\n",
    "import torch.nn as nn\n",
    "from torchtext.data.utils import get_tokenizer\n",
    "from torchtext.vocab import build_vocab_from_iterator\n",
    "\n",
    "corpus = [\n",
    "    \"Bà còng đi chợ trời mưa\",\n",
    "    \"cái tôm cái tép đi đưa bà còng\",\n",
    "    # \"Đưa bà tới quãng đường cong\",\n",
    "    # \"Đưa bà vào tận ngõ trong nhà bà\",\n",
    "    # \"Tiền bà trong túi rơi ra\",\n",
    "    # \"Tép tôm nhặt được trả bà mua rau\"\n",
    "]\n",
    "data_size = len(corpus)\n",
    "\n",
    "# Define the max vocabulary size and sequence length\n",
    "vocab_size = 10\n",
    "sequence_length = 4"
   ]
  },
  {
   "cell_type": "code",
   "execution_count": 11,
   "id": "2726650a-52ef-4150-9b09-0071d0ce2a31",
   "metadata": {},
   "outputs": [
    {
     "data": {
      "text/plain": [
       "{'tôm': 8,\n",
       " 'trời': 6,\n",
       " 'tép': 7,\n",
       " 'mưa': 5,\n",
       " 'chợ': 4,\n",
       " 'đi': 3,\n",
       " 'còng': 2,\n",
       " 'cái': 1,\n",
       " 'đưa': 9,\n",
       " 'bà': 0}"
      ]
     },
     "execution_count": 11,
     "metadata": {},
     "output_type": "execute_result"
    }
   ],
   "source": [
    "# Define tokenizer function\n",
    "tokenizer = get_tokenizer('basic_english')\n",
    "\n",
    "# Create a function to yield list of tokens\n",
    "def yield_tokens(examples):\n",
    "    for text in examples:\n",
    "        yield tokenizer(text)\n",
    "\n",
    "# Create vocabulary\n",
    "vocab = build_vocab_from_iterator(yield_tokens(corpus),\n",
    "                                  max_tokens=vocab_size,\n",
    "                                 )\n",
    "vocab.get_stoi()"
   ]
  },
  {
   "cell_type": "code",
   "execution_count": 12,
   "id": "548484cb-e415-4e4f-a7f5-b0fd0ed48e59",
   "metadata": {},
   "outputs": [],
   "source": [
    "# Tokenize and numericalize your samples\n",
    "def vectorize(text, vocab):\n",
    "    tokens = tokenizer(text)\n",
    "    token_ids = [vocab[token] for token in tokens]\n",
    "    return token_ids\n",
    "\n",
    "# Vectorize the samples\n",
    "corpus_ids = []\n",
    "for sentence in corpus:\n",
    "    corpus_ids.extend(vectorize(sentence, vocab))"
   ]
  },
  {
   "cell_type": "code",
   "execution_count": 13,
   "id": "ac8d4ed1",
   "metadata": {},
   "outputs": [
    {
     "data": {
      "text/plain": [
       "[0, 2, 3, 4, 6, 5, 1, 8, 1, 7, 3, 9, 0, 2]"
      ]
     },
     "execution_count": 13,
     "metadata": {},
     "output_type": "execute_result"
    }
   ],
   "source": [
    "corpus_ids"
   ]
  },
  {
   "cell_type": "code",
   "execution_count": 14,
   "id": "3192fcd6-d411-4312-afcd-88fe4e64a8b9",
   "metadata": {},
   "outputs": [
    {
     "name": "stdout",
     "output_type": "stream",
     "text": [
      "Input:  [0, 2, 3, 4]\n",
      "Target:  [2, 3, 4, 6]\n",
      "##########\n",
      "Input:  [2, 3, 4, 6]\n",
      "Target:  [3, 4, 6, 5]\n",
      "##########\n",
      "Input:  [3, 4, 6, 5]\n",
      "Target:  [4, 6, 5, 1]\n",
      "##########\n",
      "Input:  [4, 6, 5, 1]\n",
      "Target:  [6, 5, 1, 8]\n",
      "##########\n",
      "Input:  [6, 5, 1, 8]\n",
      "Target:  [5, 1, 8, 1]\n",
      "##########\n",
      "Input:  [5, 1, 8, 1]\n",
      "Target:  [1, 8, 1, 7]\n",
      "##########\n",
      "Input:  [1, 8, 1, 7]\n",
      "Target:  [8, 1, 7, 3]\n",
      "##########\n",
      "Input:  [8, 1, 7, 3]\n",
      "Target:  [1, 7, 3, 9]\n",
      "##########\n",
      "Input:  [1, 7, 3, 9]\n",
      "Target:  [7, 3, 9, 0]\n",
      "##########\n",
      "Input:  [7, 3, 9, 0]\n",
      "Target:  [3, 9, 0, 2]\n",
      "##########\n"
     ]
    }
   ],
   "source": [
    "data_x = []\n",
    "data_y = []\n",
    "for idx in range(0, len(corpus_ids) - sequence_length):\n",
    "    x = corpus_ids[idx:idx + sequence_length]\n",
    "    y = corpus_ids[idx+1: idx + sequence_length + 1]\n",
    "\n",
    "    data_x.append(x)\n",
    "    data_y.append(y)\n",
    "    \n",
    "    print(\"Input: \", x)\n",
    "    print(\"Target: \", y)\n",
    "    print(\"#\"*10)"
   ]
  },
  {
   "cell_type": "markdown",
   "id": "b547154b-2223-4e4f-a875-119ec33f9812",
   "metadata": {},
   "source": [
    "## Train with full data"
   ]
  },
  {
   "cell_type": "code",
   "execution_count": 15,
   "id": "bb26d7d5-81e3-4cf3-90ff-99b3bfa5524d",
   "metadata": {},
   "outputs": [
    {
     "name": "stdout",
     "output_type": "stream",
     "text": [
      "POS_Model(\n",
      "  (embedding): Embedding(10, 2)\n",
      "  (rnn): RNN(2, 3, batch_first=True)\n",
      "  (fc): Linear(in_features=3, out_features=10, bias=True)\n",
      ")\n"
     ]
    }
   ],
   "source": [
    "class POS_Model(nn.Module):\n",
    "    def __init__(self, emb_dim, hidden_dim, vocab_size):\n",
    "        super().__init__()\n",
    "        self.embedding = nn.Embedding(vocab_size, emb_dim)\n",
    "        self.custom_weights = torch.tensor([[-0.1,  0.5],\n",
    "                                            [ 1.7, -0.8],\n",
    "                                            [ 1.0, -1.9],\n",
    "                                            [-1.3, -0.1],\n",
    "                                            [ 0.2,  1.3],\n",
    "                                            [ 0.4, -0.6],\n",
    "                                            [ 0.5,  0.1],\n",
    "                                            [ 0.4, -1.3],\n",
    "                                            [ 0.2, -0.2],\n",
    "                                            [ 0.1, -1.6],\n",
    "                                            ]).float()\n",
    "        self.embedding.weight = nn.Parameter(self.custom_weights)\n",
    "\n",
    "        self.rnn = nn.RNN(emb_dim, hidden_dim, batch_first=True)\n",
    "        self.rnn.bias_ih_l0 = nn.Parameter(torch.tensor([0.4,  0.5, 0.2]).float())\n",
    "        self.rnn.bias_hh_l0 = nn.Parameter(torch.tensor([ 0.1, -0.2, 0.1]).float())\n",
    "        self.rnn.weight_ih_l0 = nn.Parameter(torch.tensor( [[-0.4,  0.1],\n",
    "                                                            [ 0.4, -0.4],\n",
    "                                                            [ 0.1, 0.2]]).float())\n",
    "        self.rnn.weight_hh_l0 = nn.Parameter(torch.tensor( [[-0.5,  0.1, 0.1],\n",
    "                                                            [-0.2, -0.2, 0.1],\n",
    "                                                            [-0.2, -0.2, 0.2]]).float())\n",
    "\n",
    "        self.fc = nn.Linear(hidden_dim, vocab_size)\n",
    "        self.fc.weight = nn.Parameter(torch.tensor([[-0.52,  0.25, -0.35],\n",
    "                                                    [ 0.06, -0.16,  0.18],\n",
    "                                                    [-0.52,  0.33,  0.02],\n",
    "                                                    [-0.12, -0.57, -0.4],\n",
    "                                                    [-0.18, -0.5, -0.01],\n",
    "                                                    [ 0.35, -0.03,  0.46],\n",
    "                                                    [-0.13,  0.16,  0.23],\n",
    "                                                    [-0.99,  0.31, -0.24],\n",
    "                                                    [-0.74, -0.25,  0.5],\n",
    "                                                    [-0.44, -0.02, -0.39]]).float())\n",
    "        self.fc.bias = nn.Parameter(torch.tensor([0.12, -0.21, -0.15, \n",
    "                                                -0.54,  0.36,  0.49,  \n",
    "                                                0.49,  0.07, 0.23,  \n",
    "                                                0.52]).float())\n",
    "\n",
    "    def forward(self, x):\n",
    "        embedded = self.embedding(x)\n",
    "        outputs, _ = self.rnn(embedded)\n",
    "        x = self.fc(outputs)\n",
    "        return x.permute(0, 2, 1)\n",
    "\n",
    "emb_dim = 2\n",
    "hidden_dim = 3\n",
    "model = POS_Model(emb_dim, hidden_dim, vocab_size)\n",
    "print(model)"
   ]
  },
  {
   "cell_type": "code",
   "execution_count": 16,
   "id": "32ed2deb-b3e3-4a70-8b85-c575001fc213",
   "metadata": {},
   "outputs": [],
   "source": [
    "criterion = nn.CrossEntropyLoss()\n",
    "optimizer = torch.optim.Adam(model.parameters(), lr=0.05)"
   ]
  },
  {
   "cell_type": "code",
   "execution_count": 17,
   "id": "cbee29f3-5988-4f5f-a9f1-fb13f137a91d",
   "metadata": {},
   "outputs": [
    {
     "name": "stdout",
     "output_type": "stream",
     "text": [
      "softmax_outputs:  tensor([[[0.0707, 0.1232, 0.0664, 0.0707],\n",
      "         [0.0821, 0.0511, 0.0893, 0.0752],\n",
      "         [0.0622, 0.1000, 0.0501, 0.0623],\n",
      "         [0.0422, 0.0274, 0.0610, 0.0454],\n",
      "         [0.1168, 0.0724, 0.1413, 0.1297],\n",
      "         [0.2157, 0.1051, 0.2231, 0.1710],\n",
      "         [0.1553, 0.1444, 0.1397, 0.1406],\n",
      "         [0.0548, 0.1420, 0.0418, 0.0664],\n",
      "         [0.0935, 0.0927, 0.0729, 0.1270],\n",
      "         [0.1067, 0.1415, 0.1145, 0.1116]]], grad_fn=<SoftmaxBackward0>)\n",
      "2.572925090789795\n"
     ]
    }
   ],
   "source": [
    "input_data = torch.tensor( [[0, 2, 3, 4]], dtype=torch.long)\n",
    "label_data = torch.tensor([[2, 3, 4, 6]], dtype=torch.long)\n",
    "\n",
    "for _ in range(1):\n",
    "    optimizer.zero_grad()\n",
    "    outputs = model(input_data)\n",
    "    softmax = nn.Softmax(dim=1)\n",
    "    softmax_outputs = softmax(outputs)\n",
    "    print(\"softmax_outputs: \", softmax_outputs)\n",
    "    loss = criterion(outputs, label_data)\n",
    "    print(loss.item())\n",
    "    loss.backward()\n",
    "    optimizer.step()"
   ]
  },
  {
   "cell_type": "code",
   "execution_count": 18,
   "id": "b562b790-b1f8-4e0c-a1cc-2453ee3f3a1a",
   "metadata": {},
   "outputs": [
    {
     "name": "stdout",
     "output_type": "stream",
     "text": [
      "tensor([[[-0.3289,  0.4112, -0.4012, -0.1740],\n",
      "         [-0.2608, -0.4939, -0.1871, -0.2186],\n",
      "         [-0.2838,  0.1343, -0.5939, -0.1417],\n",
      "         [-0.8338, -0.7768, -0.3491, -0.7186],\n",
      "         [ 0.1995, -0.0493,  0.5368,  0.3370],\n",
      "         [ 0.7370,  0.2968,  0.6082,  0.6514],\n",
      "         [ 0.5463,  0.5381,  0.3122,  0.6216],\n",
      "         [-0.5983,  0.3866, -0.8628, -0.2612],\n",
      "         [-0.1960, -0.2296, -0.3904,  0.1997],\n",
      "         [ 0.0459,  0.5856,  0.1762,  0.2113]]], grad_fn=<PermuteBackward0>)\n",
      "tensor([[5, 9, 5, 5]])\n",
      "tensor([[2, 3, 4, 6]])\n"
     ]
    }
   ],
   "source": [
    "outputs = model(input_data)\n",
    "print(outputs)\n",
    "print(torch.argmax(outputs, axis=1))\n",
    "print(label_data)"
   ]
  }
 ],
 "metadata": {
  "kernelspec": {
   "display_name": "torch_env",
   "language": "python",
   "name": "python3"
  },
  "language_info": {
   "codemirror_mode": {
    "name": "ipython",
    "version": 3
   },
   "file_extension": ".py",
   "mimetype": "text/x-python",
   "name": "python",
   "nbconvert_exporter": "python",
   "pygments_lexer": "ipython3",
   "version": "3.12.8"
  }
 },
 "nbformat": 4,
 "nbformat_minor": 5
}
