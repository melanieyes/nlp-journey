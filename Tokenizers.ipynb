{
 "cells": [
  {
   "cell_type": "markdown",
   "id": "1e2e58c9-e6a3-48dd-acc6-49819e9ade82",
   "metadata": {},
   "source": [
    "## Cusotm Tokenizer"
   ]
  },
  {
   "cell_type": "code",
   "execution_count": 1,
   "id": "96b92448-7df1-43fe-b207-12489646f6c6",
   "metadata": {},
   "outputs": [],
   "source": [
    "import torch\n",
    "from torchtext.data.utils import get_tokenizer\n",
    "from torchtext.vocab import build_vocab_from_iterator\n",
    "\n",
    "sample1 = 'We are learning AI'\n",
    "sample2 = 'AI is a CS topic'\n",
    "data = [sample1, sample2]\n",
    "\n",
    "# Define the max vocabulary size and sequence length\n",
    "vocab_size = 8\n",
    "sequence_length = 5"
   ]
  },
  {
   "cell_type": "code",
   "execution_count": 2,
   "id": "aa7b069d-1eaf-46d0-8cf7-2d42ce21af6f",
   "metadata": {},
   "outputs": [],
   "source": [
    "# Define tokenizer function\n",
    "tokenizer = get_tokenizer('basic_english')\n",
    "\n",
    "# Create a function to yield list of tokens\n",
    "def yield_tokens(examples):\n",
    "    for text in examples:\n",
    "        yield tokenizer(text)\n",
    "\n",
    "# Create vocabulary\n",
    "vocab = build_vocab_from_iterator(yield_tokens(data),\n",
    "                                  max_tokens=vocab_size,\n",
    "                                  specials=[\"<unk>\", \"<pad>\"])\n",
    "vocab.set_default_index(vocab[\"<unk>\"])"
   ]
  },
  {
   "cell_type": "code",
   "execution_count": 10,
   "id": "6440362d-b5a8-4e5f-befc-4d56f1503668",
   "metadata": {},
   "outputs": [
    {
     "name": "stdout",
     "output_type": "stream",
     "text": [
      "['we', 'are', 'learning', 'ai']\n",
      "[0, 4, 7, 2]\n"
     ]
    }
   ],
   "source": [
    "tokens = tokenizer(sample1)\n",
    "print(tokens)\n",
    "\n",
    "sample1_ids = [vocab[token] for token in tokens]\n",
    "print(sample1_ids)"
   ]
  },
  {
   "cell_type": "code",
   "execution_count": null,
   "id": "802af7d5-08e8-4425-9116-0639911329da",
   "metadata": {},
   "outputs": [],
   "source": []
  },
  {
   "cell_type": "markdown",
   "id": "d49655ee-b132-4d38-b128-b1d7db968cfc",
   "metadata": {},
   "source": [
    "## Build-in Tokenizer"
   ]
  },
  {
   "cell_type": "code",
   "execution_count": 1,
   "id": "805e2b82-f525-4675-9059-e57d3089766a",
   "metadata": {},
   "outputs": [],
   "source": [
    "from transformers import AutoTokenizer\n",
    "\n",
    "tokenizer = AutoTokenizer.from_pretrained(\"bert-base-uncased\")"
   ]
  },
  {
   "cell_type": "code",
   "execution_count": 2,
   "id": "b333e22f-1073-4528-a744-558c5d7a1888",
   "metadata": {},
   "outputs": [
    {
     "name": "stdout",
     "output_type": "stream",
     "text": [
      "{'input_ids': [101, 2057, 2024, 4083, 9932, 102], 'token_type_ids': [0, 0, 0, 0, 0, 0], 'attention_mask': [1, 1, 1, 1, 1, 1]}\n"
     ]
    }
   ],
   "source": [
    "tokens = tokenizer('we are learning ai')\n",
    "print(tokens) "
   ]
  },
  {
   "cell_type": "code",
   "execution_count": 3,
   "id": "50fa2d67-f731-4cf0-be98-e21f28b3f890",
   "metadata": {},
   "outputs": [
    {
     "name": "stdout",
     "output_type": "stream",
     "text": [
      "{'input_ids': [2057, 2024, 4083, 9932], 'token_type_ids': [0, 0, 0, 0], 'attention_mask': [1, 1, 1, 1]}\n"
     ]
    }
   ],
   "source": [
    "tokens = tokenizer('we are learning ai', add_special_tokens=False)\n",
    "print(tokens) "
   ]
  },
  {
   "cell_type": "code",
   "execution_count": null,
   "id": "ca9a86a3-0629-4199-8f66-702758981971",
   "metadata": {},
   "outputs": [],
   "source": []
  },
  {
   "cell_type": "code",
   "execution_count": 7,
   "id": "63ba4130-1bcf-4940-a1b4-5dbe239b4ae9",
   "metadata": {},
   "outputs": [
    {
     "data": {
      "text/plain": [
       "[2057, 2024, 4083, 9932]"
      ]
     },
     "execution_count": 7,
     "metadata": {},
     "output_type": "execute_result"
    }
   ],
   "source": [
    "tokens =  'we are learning ai'.split()\n",
    "tokenizer.convert_tokens_to_ids(tokens)"
   ]
  },
  {
   "cell_type": "code",
   "execution_count": 8,
   "id": "20443b13-0773-473a-a614-98a18532bc1c",
   "metadata": {},
   "outputs": [
    {
     "data": {
      "text/plain": [
       "'we'"
      ]
     },
     "execution_count": 8,
     "metadata": {},
     "output_type": "execute_result"
    }
   ],
   "source": [
    "tokenizer.decode(2057)"
   ]
  },
  {
   "cell_type": "code",
   "execution_count": null,
   "id": "b306ccf9-15c8-4745-a600-b39ef2fa732a",
   "metadata": {},
   "outputs": [],
   "source": []
  },
  {
   "cell_type": "markdown",
   "id": "57dbd28c-09d1-4abf-ac4f-b2271c701312",
   "metadata": {},
   "source": [
    "## Build-in Tokenizer (2)"
   ]
  },
  {
   "cell_type": "code",
   "execution_count": 1,
   "id": "5b13415c-46b4-4a3c-a8cb-82831987947f",
   "metadata": {},
   "outputs": [],
   "source": [
    "from transformers import AutoTokenizer\n",
    "\n",
    "tokenizer = AutoTokenizer.from_pretrained(\"TweebankNLP/bertweet-tb2_ewt-pos-tagging\")"
   ]
  },
  {
   "cell_type": "code",
   "execution_count": 2,
   "id": "9f910740-3572-4475-b823-b4bf85ebabd3",
   "metadata": {},
   "outputs": [
    {
     "name": "stdout",
     "output_type": "stream",
     "text": [
      "{'input_ids': [0, 54, 41, 2265, 4490, 2], 'token_type_ids': [0, 0, 0, 0, 0, 0], 'attention_mask': [1, 1, 1, 1, 1, 1]}\n"
     ]
    }
   ],
   "source": [
    "tokens = tokenizer('we are learning ai')\n",
    "print(tokens) "
   ]
  },
  {
   "cell_type": "code",
   "execution_count": null,
   "id": "99eaeea4-03fc-4c1c-a977-5a15169bade8",
   "metadata": {},
   "outputs": [],
   "source": []
  },
  {
   "cell_type": "code",
   "execution_count": 3,
   "id": "7785371f-014c-4a95-8d4c-e24535db4ad0",
   "metadata": {},
   "outputs": [
    {
     "data": {
      "text/plain": [
       "[54, 41, 2265, 4490]"
      ]
     },
     "execution_count": 3,
     "metadata": {},
     "output_type": "execute_result"
    }
   ],
   "source": [
    "tokens =  'we are learning ai'.split()\n",
    "tokenizer.convert_tokens_to_ids(tokens)"
   ]
  },
  {
   "cell_type": "code",
   "execution_count": 4,
   "id": "4ba4be9b-e2e8-4ea1-a980-da1ecd160deb",
   "metadata": {},
   "outputs": [
    {
     "data": {
      "text/plain": [
       "'w e'"
      ]
     },
     "execution_count": 4,
     "metadata": {},
     "output_type": "execute_result"
    }
   ],
   "source": [
    "tokenizer.decode(54)"
   ]
  },
  {
   "cell_type": "code",
   "execution_count": null,
   "id": "d1376106-55dc-4600-9f85-4a973f670ab6",
   "metadata": {},
   "outputs": [],
   "source": []
  }
 ],
 "metadata": {
  "kernelspec": {
   "display_name": "Python 3 (ipykernel)",
   "language": "python",
   "name": "python3"
  },
  "language_info": {
   "codemirror_mode": {
    "name": "ipython",
    "version": 3
   },
   "file_extension": ".py",
   "mimetype": "text/x-python",
   "name": "python",
   "nbconvert_exporter": "python",
   "pygments_lexer": "ipython3",
   "version": "3.11.5"
  }
 },
 "nbformat": 4,
 "nbformat_minor": 5
}
