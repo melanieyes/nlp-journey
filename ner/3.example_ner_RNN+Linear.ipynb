{
 "cells": [
  {
   "cell_type": "markdown",
   "id": "7efe5b00-cda0-4c3f-9cbc-6fd590ebb4a6",
   "metadata": {},
   "source": [
    "## Data"
   ]
  },
  {
   "cell_type": "code",
   "execution_count": 1,
   "id": "22382432-34a8-474b-9519-af1168597ea1",
   "metadata": {},
   "outputs": [],
   "source": [
    "import torch\n",
    "import torch.nn as nn\n",
    "from torchtext.data.utils import get_tokenizer\n",
    "from torchtext.vocab import build_vocab_from_iterator\n",
    "\n",
    "corpus = [\n",
    "    \"karpathy is working in openai\",\n",
    "    \"geoffrey hinton is from canada\"    \n",
    "]\n",
    "data_size = len(corpus)\n",
    "\n",
    "# 0: B-Person - 1: I-Person\n",
    "# 2: B-Organization/Location - 3: I--Organization/Location \n",
    "# 4: O\n",
    "labels = [[0, 4, 4, 4, 2],\n",
    "          [0, 1, 4, 4, 2]]\n",
    "\n",
    "# Define the max vocabulary size and sequence length\n",
    "vocab_size = 11\n",
    "sequence_length = 5\n",
    "num_classes = 5 + 1"
   ]
  },
  {
   "cell_type": "code",
   "execution_count": 2,
   "id": "2726650a-52ef-4150-9b09-0071d0ce2a31",
   "metadata": {},
   "outputs": [
    {
     "data": {
      "text/plain": [
       "{'karpathy': 8,\n",
       " 'hinton': 6,\n",
       " '<unk>': 0,\n",
       " 'geoffrey': 5,\n",
       " 'in': 7,\n",
       " '<pad>': 1,\n",
       " 'from': 4,\n",
       " 'is': 2,\n",
       " 'canada': 3,\n",
       " 'openai': 9,\n",
       " 'working': 10}"
      ]
     },
     "execution_count": 2,
     "metadata": {},
     "output_type": "execute_result"
    }
   ],
   "source": [
    "# Define tokenizer function\n",
    "tokenizer = get_tokenizer('basic_english')\n",
    "\n",
    "# Create a function to yield list of tokens\n",
    "def yield_tokens(examples):\n",
    "    for text in examples:\n",
    "        yield tokenizer(text)\n",
    "\n",
    "# Create vocabulary\n",
    "vocab = build_vocab_from_iterator(yield_tokens(corpus),\n",
    "                                  max_tokens=vocab_size,\n",
    "                                  specials=[\"<unk>\", \"<pad>\"])\n",
    "vocab.set_default_index(vocab[\"<unk>\"])\n",
    "vocab.get_stoi()"
   ]
  },
  {
   "cell_type": "code",
   "execution_count": 3,
   "id": "3192fcd6-d411-4312-afcd-88fe4e64a8b9",
   "metadata": {},
   "outputs": [],
   "source": [
    "# Tokenize and numericalize your samples\n",
    "def vectorize(text, vocab, sequence_length, sequence_label):\n",
    "    tokens = tokenizer(text)\n",
    "    \n",
    "    token_ids = [vocab[token] for token in tokens]    \n",
    "    token_ids = token_ids + [vocab[\"<pad>\"]] * (sequence_length - len(tokens))\n",
    "    sequence_label = sequence_label + [5] * (sequence_length - len(tokens))\n",
    "    \n",
    "    return torch.tensor(token_ids, dtype=torch.long), torch.tensor(sequence_label, dtype=torch.long)\n",
    "\n",
    "# Vectorize the samples\n",
    "sentence_vecs = []\n",
    "label_vecs = []\n",
    "for sentence, labels in zip(corpus, labels):\n",
    "    sentence_vec, labels_vec = vectorize(sentence, vocab, sequence_length, labels)\n",
    "    sentence_vecs.append(sentence_vec)\n",
    "    label_vecs.append(labels_vec)"
   ]
  },
  {
   "cell_type": "code",
   "execution_count": 4,
   "id": "c1189966-b5d0-4bbe-9805-712e206b533c",
   "metadata": {},
   "outputs": [
    {
     "name": "stdout",
     "output_type": "stream",
     "text": [
      "tensor([ 8,  2, 10,  7,  9])\n",
      "tensor([5, 6, 2, 4, 3])\n"
     ]
    }
   ],
   "source": [
    "for v in sentence_vecs:\n",
    "    print(v)"
   ]
  },
  {
   "cell_type": "code",
   "execution_count": 5,
   "id": "e3e40856-0cc4-4f25-b704-05e9d4aaeb95",
   "metadata": {},
   "outputs": [
    {
     "name": "stdout",
     "output_type": "stream",
     "text": [
      "tensor([0, 4, 4, 4, 2])\n",
      "tensor([0, 1, 4, 4, 2])\n"
     ]
    }
   ],
   "source": [
    "for v in label_vecs:\n",
    "    print(v)"
   ]
  },
  {
   "cell_type": "code",
   "execution_count": null,
   "id": "5de2a679-494b-458d-b271-b10db85a2b70",
   "metadata": {},
   "outputs": [],
   "source": []
  },
  {
   "cell_type": "markdown",
   "id": "cd4c5571-1104-44a2-a066-2118f4861e9a",
   "metadata": {},
   "source": [
    "## Model"
   ]
  },
  {
   "cell_type": "code",
   "execution_count": 6,
   "id": "2c8843b2-83e1-408f-b9d1-0f7983cd7c59",
   "metadata": {},
   "outputs": [
    {
     "name": "stdout",
     "output_type": "stream",
     "text": [
      "torch.Size([1, 6, 5])\n"
     ]
    }
   ],
   "source": [
    "class POS_Model(nn.Module):\n",
    "    def __init__(self, vocab_size, num_classes):\n",
    "        super().__init__()\n",
    "        self.embedding = nn.Embedding(vocab_size, 4)\n",
    "        self.recurrent = nn.RNN(4, 3, batch_first=True)\n",
    "        self.fc = nn.Linear(3, num_classes)\n",
    "\n",
    "    def forward(self, x):\n",
    "        x = self.embedding(x)\n",
    "        x,_ = self.recurrent(x)\n",
    "        x = self.fc(x)\n",
    "        return x.permute(0, 2, 1)\n",
    "\n",
    "# create model\n",
    "model = POS_Model(vocab_size, num_classes)\n",
    "\n",
    "# test\n",
    "data = torch.tensor([[0, 4, 4, 4, 2]]).long()\n",
    "output = model(data)\n",
    "print(output.shape)"
   ]
  },
  {
   "cell_type": "code",
   "execution_count": null,
   "id": "2028e52e-bee4-42f7-875a-f963218c80c5",
   "metadata": {},
   "outputs": [],
   "source": []
  },
  {
   "cell_type": "markdown",
   "id": "b547154b-2223-4e4f-a875-119ec33f9812",
   "metadata": {},
   "source": [
    "## Train with full data"
   ]
  },
  {
   "cell_type": "code",
   "execution_count": 7,
   "id": "32ed2deb-b3e3-4a70-8b85-c575001fc213",
   "metadata": {},
   "outputs": [],
   "source": [
    "criterion = nn.CrossEntropyLoss(ignore_index=5)\n",
    "optimizer = torch.optim.Adam(model.parameters(), lr=0.1)"
   ]
  },
  {
   "cell_type": "code",
   "execution_count": null,
   "id": "910680f9-acb5-493e-a194-a3f18f4788f0",
   "metadata": {},
   "outputs": [],
   "source": []
  },
  {
   "cell_type": "code",
   "execution_count": 8,
   "id": "cbee29f3-5988-4f5f-a9f1-fb13f137a91d",
   "metadata": {},
   "outputs": [
    {
     "name": "stdout",
     "output_type": "stream",
     "text": [
      "2.1850037574768066\n",
      "1.7266919612884521\n",
      "1.4521758556365967\n",
      "1.245767593383789\n",
      "1.0752394199371338\n",
      "0.9399515986442566\n",
      "0.8289477229118347\n",
      "0.7364404797554016\n",
      "0.6654247641563416\n",
      "0.6092787981033325\n",
      "0.5596674084663391\n",
      "0.5070559978485107\n",
      "0.44396862387657166\n",
      "0.3876616954803467\n",
      "0.34720128774642944\n",
      "0.30704933404922485\n",
      "0.262486070394516\n",
      "0.216573566198349\n",
      "0.17488183081150055\n",
      "0.140676349401474\n"
     ]
    }
   ],
   "source": [
    "input_data = torch.tensor( [[ 8,  2, 10,  7,  9],\n",
    "                            [5, 6, 2, 4, 3]], dtype=torch.long)\n",
    "label_data = torch.tensor([[0, 4, 4, 4, 2],\n",
    "                           [0, 1, 4, 4, 2]], dtype=torch.long)\n",
    "\n",
    "for _ in range(20):\n",
    "    optimizer.zero_grad()\n",
    "    outputs = model(input_data)\n",
    "    loss = criterion(outputs, label_data)\n",
    "    print(loss.item())\n",
    "    loss.backward()\n",
    "    optimizer.step()"
   ]
  },
  {
   "cell_type": "code",
   "execution_count": 9,
   "id": "b562b790-b1f8-4e0c-a1cc-2453ee3f3a1a",
   "metadata": {},
   "outputs": [
    {
     "name": "stdout",
     "output_type": "stream",
     "text": [
      "[0.86519384 0.00586162 0.09146995 0.01885612 0.0031571  0.01546139]\n",
      "[7.3300733e-04 9.3245566e-02 1.2100055e-03 2.5279010e-03 9.0151083e-01\n",
      " 7.7270193e-04]\n",
      "[2.9968494e-03 1.1367687e-02 1.3514674e-02 8.8797894e-04 9.7103012e-01\n",
      " 2.0271035e-04]\n",
      "[4.3400344e-03 5.7571558e-03 2.6592005e-02 6.0904777e-04 9.6257532e-01\n",
      " 1.2650219e-04]\n",
      "[7.6904841e-02 3.1600593e-04 8.3876544e-01 1.2539926e-03 8.2295768e-02\n",
      " 4.6403991e-04]\n",
      "\n",
      "[0.8649206  0.00361764 0.10484723 0.01342196 0.00263019 0.01056243]\n",
      "[0.08812151 0.75534433 0.0029293  0.04782962 0.07898337 0.02679189]\n",
      "[2.2203813e-03 1.7921329e-02 8.1065921e-03 1.1076387e-03 9.7037596e-01\n",
      " 2.6817527e-04]\n",
      "[2.3288252e-03 1.7419130e-02 8.6356374e-03 1.1145559e-03 9.7023195e-01\n",
      " 2.6989699e-04]\n",
      "[7.3620141e-02 3.0539682e-04 8.4073490e-01 1.2185416e-03 8.3671786e-02\n",
      " 4.4919652e-04]\n"
     ]
    }
   ],
   "source": [
    "outputs = model(input_data)\n",
    "o_softmax = torch.softmax(outputs, axis=1)\n",
    "\n",
    "print(o_softmax[0, :, 0].detach().numpy())\n",
    "print(o_softmax[0, :, 1].detach().numpy())\n",
    "print(o_softmax[0, :, 2].detach().numpy())\n",
    "print(o_softmax[0, :, 3].detach().numpy())\n",
    "print(o_softmax[0, :, 4].detach().numpy())\n",
    "\n",
    "print()\n",
    "print(o_softmax[1, :, 0].detach().numpy())\n",
    "print(o_softmax[1, :, 1].detach().numpy())\n",
    "print(o_softmax[1, :, 2].detach().numpy())\n",
    "print(o_softmax[1, :, 3].detach().numpy())\n",
    "print(o_softmax[1, :, 4].detach().numpy())"
   ]
  },
  {
   "cell_type": "code",
   "execution_count": 10,
   "id": "7e351ef5-c01e-47b9-8f2e-fbae9d0f2fa7",
   "metadata": {},
   "outputs": [
    {
     "data": {
      "text/plain": [
       "tensor([[0, 4, 4, 4, 2],\n",
       "        [0, 1, 4, 4, 2]])"
      ]
     },
     "execution_count": 10,
     "metadata": {},
     "output_type": "execute_result"
    }
   ],
   "source": [
    "# labels = [[0, 4, 4, 4, 2],\n",
    "#           [0, 1, 4, 4, 2]]\n",
    "\n",
    "o_softmax.argmax(axis=1)"
   ]
  }
 ],
 "metadata": {
  "kernelspec": {
   "display_name": "Python 3 (ipykernel)",
   "language": "python",
   "name": "python3"
  },
  "language_info": {
   "codemirror_mode": {
    "name": "ipython",
    "version": 3
   },
   "file_extension": ".py",
   "mimetype": "text/x-python",
   "name": "python",
   "nbconvert_exporter": "python",
   "pygments_lexer": "ipython3",
   "version": "3.11.5"
  }
 },
 "nbformat": 4,
 "nbformat_minor": 5
}
