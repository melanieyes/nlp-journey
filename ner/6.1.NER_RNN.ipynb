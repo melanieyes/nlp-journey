{
 "cells": [
  {
   "cell_type": "code",
   "execution_count": 1,
   "metadata": {},
   "outputs": [],
   "source": [
    "from typing import List\n",
    "import torch\n",
    "import torch.nn as nn\n",
    "import torch.nn.functional as F"
   ]
  },
  {
   "cell_type": "markdown",
   "metadata": {},
   "source": [
    "## 1. Data Preparation"
   ]
  },
  {
   "cell_type": "markdown",
   "metadata": {},
   "source": [
    "### 1.1 Load data "
   ]
  },
  {
   "cell_type": "code",
   "execution_count": 2,
   "metadata": {},
   "outputs": [],
   "source": [
    "from datasets import load_dataset\n",
    "\n",
    "dataset = load_dataset(\"conll2003\")"
   ]
  },
  {
   "cell_type": "code",
   "execution_count": 3,
   "metadata": {},
   "outputs": [
    {
     "data": {
      "text/plain": [
       "DatasetDict({\n",
       "    train: Dataset({\n",
       "        features: ['tokens', 'ner_tags'],\n",
       "        num_rows: 14041\n",
       "    })\n",
       "    validation: Dataset({\n",
       "        features: ['tokens', 'ner_tags'],\n",
       "        num_rows: 3250\n",
       "    })\n",
       "    test: Dataset({\n",
       "        features: ['tokens', 'ner_tags'],\n",
       "        num_rows: 3453\n",
       "    })\n",
       "})"
      ]
     },
     "execution_count": 3,
     "metadata": {},
     "output_type": "execute_result"
    }
   ],
   "source": [
    "dataset = dataset.remove_columns([\"id\", \"pos_tags\", \"chunk_tags\"])\n",
    "dataset"
   ]
  },
  {
   "cell_type": "code",
   "execution_count": 4,
   "metadata": {},
   "outputs": [],
   "source": [
    "dataset_train = dataset[\"train\"]\n",
    "dataset_val = dataset[\"validation\"]\n",
    "dataset_test = dataset[\"test\"]"
   ]
  },
  {
   "cell_type": "code",
   "execution_count": 5,
   "metadata": {},
   "outputs": [],
   "source": [
    "from transformers import AutoTokenizer\n",
    "\n",
    "tokenizer = AutoTokenizer.from_pretrained(\"bert-base-uncased\")\n",
    "MAX_LEN = 113"
   ]
  },
  {
   "cell_type": "code",
   "execution_count": 6,
   "metadata": {},
   "outputs": [],
   "source": [
    "from torch.utils.data import Dataset\n",
    "\n",
    "class NER_Dataset(Dataset):\n",
    "    def __init__(self, dataset, tokenizer):\n",
    "        super().__init__()\n",
    "        self.tokens = dataset[\"tokens\"]\n",
    "        self.labels = dataset[\"ner_tags\"]\n",
    "        self.tokenizer = tokenizer\n",
    "        self.max_len = MAX_LEN\n",
    "\n",
    "    def __len__(self):\n",
    "        return len(self.tokens)\n",
    "    \n",
    "    def __getitem__(self, idx):\n",
    "        input_token = self.tokens[idx]\n",
    "        label_token = self.labels[idx]\n",
    "\n",
    "        input_token = self.tokenizer.convert_tokens_to_ids(input_token)\n",
    "        input_ids, labels = self.pad_and_truncate(input_token, label_token)\n",
    "\n",
    "        return input_ids, labels\n",
    "    \n",
    "    def pad_and_truncate(self, sequence_token: List[int], sequence_label: List[int]): \n",
    "        pad_id = self.tokenizer.pad_token_id\n",
    "        if len(sequence_token) < self.max_len:\n",
    "            padded_sequence_token = sequence_token + [pad_id] * (self.max_len - len(sequence_token))\n",
    "            padded_sequence_label = sequence_label + [0] * (self.max_len - len(sequence_label))\n",
    "        else:\n",
    "            padded_sequence_token = sequence_token[:self.max_len]\n",
    "            padded_sequence_label = sequence_label[:self.max_len]\n",
    "            \n",
    "        return torch.tensor(padded_sequence_token), torch.tensor(padded_sequence_label)"
   ]
  },
  {
   "cell_type": "code",
   "execution_count": 7,
   "metadata": {},
   "outputs": [],
   "source": [
    "train_set = NER_Dataset(dataset_train, tokenizer)\n",
    "val_set = NER_Dataset(dataset_val, tokenizer)\n",
    "test_set = NER_Dataset(dataset_test, tokenizer)"
   ]
  },
  {
   "cell_type": "code",
   "execution_count": 8,
   "metadata": {},
   "outputs": [],
   "source": [
    "from torch.utils.data import DataLoader\n",
    "batch_size = 512\n",
    "\n",
    "train_loader = DataLoader(train_set, batch_size)\n",
    "val_loader = DataLoader(val_set, batch_size)\n",
    "test_loader = DataLoader(test_set, batch_size)"
   ]
  },
  {
   "cell_type": "markdown",
   "metadata": {},
   "source": [
    "## 2. Model"
   ]
  },
  {
   "cell_type": "code",
   "execution_count": 9,
   "metadata": {},
   "outputs": [],
   "source": [
    "import torch.nn.functional as F\n",
    "\n",
    "class NER_Model(nn.Module):\n",
    "    def __init__(self, vocab_size, emb_dim, hidden_size, num_classes):\n",
    "        super().__init__()\n",
    "        self.embedding = nn.Embedding(vocab_size, emb_dim)\n",
    "        self.recurrent = nn.RNN(emb_dim, hidden_size, batch_first=True)\n",
    "        self.fc = nn.Linear(hidden_size, num_classes)\n",
    "\n",
    "    def forward(self, x):\n",
    "        x = self.embedding(x)\n",
    "        x, _ = self.recurrent(x)\n",
    "        x = self.fc(x)\n",
    "        return x.permute(0, 2, 1)"
   ]
  },
  {
   "cell_type": "code",
   "execution_count": 10,
   "metadata": {},
   "outputs": [],
   "source": [
    "emb_dim = 256\n",
    "hidden_size = 256\n",
    "vocab_size = len(tokenizer)\n",
    "num_classes = 9\n",
    "\n",
    "model = NER_Model(vocab_size, emb_dim, hidden_size, num_classes)"
   ]
  },
  {
   "cell_type": "code",
   "execution_count": 11,
   "metadata": {},
   "outputs": [
    {
     "data": {
      "text/plain": [
       "==========================================================================================\n",
       "Layer (type:depth-idx)                   Output Shape              Param #\n",
       "==========================================================================================\n",
       "NER_Model                                [512, 9, 113]             --\n",
       "├─Embedding: 1-1                         [512, 113, 256]           7,813,632\n",
       "├─RNN: 1-2                               [512, 113, 256]           131,584\n",
       "├─Linear: 1-3                            [512, 113, 9]             2,313\n",
       "==========================================================================================\n",
       "Total params: 7,947,529\n",
       "Trainable params: 7,947,529\n",
       "Non-trainable params: 0\n",
       "Total mult-adds (G): 11.61\n",
       "==========================================================================================\n",
       "Input size (MB): 0.46\n",
       "Forward/backward pass size (MB): 241.14\n",
       "Params size (MB): 31.79\n",
       "Estimated Total Size (MB): 273.40\n",
       "=========================================================================================="
      ]
     },
     "execution_count": 11,
     "metadata": {},
     "output_type": "execute_result"
    }
   ],
   "source": [
    "from torchinfo import  summary\n",
    "\n",
    "input_data = torch.randint(low=0, high=vocab_size-1, size=(512, MAX_LEN))\n",
    "summary(model, input_data = input_data)"
   ]
  },
  {
   "cell_type": "markdown",
   "metadata": {},
   "source": [
    "## 3. Evaluate"
   ]
  },
  {
   "cell_type": "code",
   "execution_count": 12,
   "metadata": {},
   "outputs": [],
   "source": [
    "def evaluate(model, test_loader, criterion, device):\n",
    "    model.eval()\n",
    "    test_loss = 0.0\n",
    "    correct = 0\n",
    "    total = 0\n",
    "    with torch.no_grad(): \n",
    "        for inputs, labels in test_loader:\n",
    "            inputs, labels = inputs.to(device), labels.to(device)\n",
    "\n",
    "            outputs = model(inputs)\n",
    "            loss = criterion(outputs, labels)\n",
    "            _, predicted = torch.max(outputs, 1)\n",
    "\n",
    "            total += (labels!=0).sum().item()\n",
    "            test_loss += loss.item()\n",
    "            correct += torch.multiply(predicted == labels, labels!=0).sum().item()\n",
    "\n",
    "    test_loss = test_loss / len(test_loader)\n",
    "    accuracy = 100* correct / total\n",
    "\n",
    "    return test_loss, accuracy"
   ]
  },
  {
   "cell_type": "markdown",
   "metadata": {},
   "source": [
    "## 4. Train model"
   ]
  },
  {
   "cell_type": "code",
   "execution_count": 13,
   "metadata": {},
   "outputs": [],
   "source": [
    "device = 'cuda' if torch.cuda.is_available() else 'cpu'\n",
    "EPOCHS = 50\n",
    "LR = 1e-3\n",
    "criterion = nn.CrossEntropyLoss(ignore_index=0)"
   ]
  },
  {
   "cell_type": "code",
   "execution_count": 14,
   "metadata": {},
   "outputs": [],
   "source": [
    "def train_model(model):\n",
    "    hist = {\n",
    "        \"train_loss\": [],\n",
    "        \"train_accuracy\": [],\n",
    "        \"val_loss\": [],\n",
    "        \"val_accuracy\": []\n",
    "    }\n",
    "    optimizer = torch.optim.Adam(model.parameters(), lr=LR)\n",
    "    model.to(device)\n",
    "    for epoch in range(EPOCHS):\n",
    "        model.train()\n",
    "        running_loss = 0.0\n",
    "        running_correct = 0\n",
    "        total = 0\n",
    "        for inputs, labels in train_loader:\n",
    "            inputs, labels = inputs.to(device), labels.to(device)\n",
    "\n",
    "            optimizer.zero_grad()\n",
    "            outputs = model(inputs)\n",
    "\n",
    "            loss = criterion(outputs, labels)\n",
    "            running_loss += loss.item()\n",
    "\n",
    "            _, predicted = torch.max(outputs, 1)\n",
    "            total += (labels!=0).sum().item()\n",
    "            running_correct += torch.multiply(predicted == labels, labels!=0).sum().item()\n",
    "\n",
    "            loss.backward()\n",
    "            optimizer.step()\n",
    "\n",
    "        epoch_loss =  running_loss / len(train_loader)\n",
    "        epoch_accuracy = 100* running_correct / total\n",
    "        val_loss, val_accuracy = evaluate(model, val_loader, criterion, device)\n",
    "\n",
    "        print(f\"Epoch [{epoch + 1}/{EPOCHS}], Loss: {epoch_loss:.4f}, Accuracy: {epoch_accuracy:.2f}%, Val loss: {val_loss:.4f}, Val Accuracy: {val_accuracy:.2f}%\")\n",
    "\n",
    "        hist[\"train_loss\"].append(epoch_loss)\n",
    "        hist[\"train_accuracy\"].append(epoch_accuracy)\n",
    "        hist[\"val_loss\"].append(val_loss)\n",
    "        hist[\"val_accuracy\"].append(val_accuracy)\n",
    "    \n",
    "    return hist"
   ]
  },
  {
   "cell_type": "code",
   "execution_count": 15,
   "metadata": {},
   "outputs": [
    {
     "name": "stdout",
     "output_type": "stream",
     "text": [
      "Training FC model\n",
      "Epoch [1/50], Loss: 1.5947, Accuracy: 37.87%, Val loss: 1.4932, Val Accuracy: 39.85%\n",
      "Epoch [2/50], Loss: 1.4349, Accuracy: 43.73%, Val loss: 1.4410, Val Accuracy: 41.38%\n",
      "Epoch [3/50], Loss: 1.3654, Accuracy: 47.03%, Val loss: 1.3986, Val Accuracy: 42.75%\n",
      "Epoch [4/50], Loss: 1.3204, Accuracy: 48.83%, Val loss: 1.3609, Val Accuracy: 43.91%\n",
      "Epoch [5/50], Loss: 1.2833, Accuracy: 50.19%, Val loss: 1.3371, Val Accuracy: 46.57%\n",
      "Epoch [6/50], Loss: 1.2535, Accuracy: 51.52%, Val loss: 1.3197, Val Accuracy: 45.24%\n",
      "Epoch [7/50], Loss: 1.2241, Accuracy: 52.49%, Val loss: 1.3043, Val Accuracy: 45.52%\n",
      "Epoch [8/50], Loss: 1.1968, Accuracy: 52.32%, Val loss: 1.2938, Val Accuracy: 46.11%\n",
      "Epoch [9/50], Loss: 1.1694, Accuracy: 54.54%, Val loss: 1.2845, Val Accuracy: 46.58%\n",
      "Epoch [10/50], Loss: 1.1410, Accuracy: 55.25%, Val loss: 1.2794, Val Accuracy: 47.17%\n",
      "Epoch [11/50], Loss: 1.1114, Accuracy: 57.20%, Val loss: 1.2785, Val Accuracy: 47.81%\n",
      "Epoch [12/50], Loss: 1.0814, Accuracy: 58.67%, Val loss: 1.2836, Val Accuracy: 48.23%\n",
      "Epoch [13/50], Loss: 1.0509, Accuracy: 60.09%, Val loss: 1.2946, Val Accuracy: 48.25%\n",
      "Epoch [14/50], Loss: 1.0226, Accuracy: 61.28%, Val loss: 1.3079, Val Accuracy: 48.38%\n",
      "Epoch [15/50], Loss: 0.9951, Accuracy: 62.33%, Val loss: 1.3213, Val Accuracy: 48.52%\n",
      "Epoch [16/50], Loss: 0.9728, Accuracy: 63.31%, Val loss: 1.3349, Val Accuracy: 50.92%\n",
      "Epoch [17/50], Loss: 0.9661, Accuracy: 63.12%, Val loss: 1.3475, Val Accuracy: 50.58%\n",
      "Epoch [18/50], Loss: 0.9535, Accuracy: 62.99%, Val loss: 1.3860, Val Accuracy: 49.11%\n",
      "Epoch [19/50], Loss: 0.9430, Accuracy: 62.74%, Val loss: 1.3615, Val Accuracy: 50.25%\n",
      "Epoch [20/50], Loss: 0.9188, Accuracy: 64.58%, Val loss: 1.3784, Val Accuracy: 48.84%\n",
      "Epoch [21/50], Loss: 0.9026, Accuracy: 65.26%, Val loss: 1.3928, Val Accuracy: 48.27%\n",
      "Epoch [22/50], Loss: 0.8885, Accuracy: 65.69%, Val loss: 1.4234, Val Accuracy: 48.08%\n",
      "Epoch [23/50], Loss: 0.8734, Accuracy: 66.19%, Val loss: 1.4515, Val Accuracy: 48.26%\n",
      "Epoch [24/50], Loss: 0.8614, Accuracy: 66.04%, Val loss: 1.4491, Val Accuracy: 50.88%\n",
      "Epoch [25/50], Loss: 0.8616, Accuracy: 66.59%, Val loss: 1.4444, Val Accuracy: 51.04%\n",
      "Epoch [26/50], Loss: 0.8581, Accuracy: 66.09%, Val loss: 1.4629, Val Accuracy: 50.34%\n",
      "Epoch [27/50], Loss: 0.8556, Accuracy: 67.13%, Val loss: 1.5165, Val Accuracy: 48.61%\n",
      "Epoch [28/50], Loss: 0.8529, Accuracy: 67.24%, Val loss: 1.4934, Val Accuracy: 51.56%\n",
      "Epoch [29/50], Loss: 0.8296, Accuracy: 68.10%, Val loss: 1.5768, Val Accuracy: 48.36%\n",
      "Epoch [30/50], Loss: 0.8366, Accuracy: 66.96%, Val loss: 1.5402, Val Accuracy: 48.48%\n",
      "Epoch [31/50], Loss: 0.8518, Accuracy: 66.97%, Val loss: 1.4751, Val Accuracy: 50.81%\n",
      "Epoch [32/50], Loss: 0.8303, Accuracy: 67.58%, Val loss: 1.4616, Val Accuracy: 51.27%\n",
      "Epoch [33/50], Loss: 0.7924, Accuracy: 69.57%, Val loss: 1.4769, Val Accuracy: 49.35%\n",
      "Epoch [34/50], Loss: 0.7845, Accuracy: 69.69%, Val loss: 1.5050, Val Accuracy: 50.83%\n",
      "Epoch [35/50], Loss: 0.7867, Accuracy: 68.91%, Val loss: 1.5340, Val Accuracy: 51.92%\n",
      "Epoch [36/50], Loss: 0.7740, Accuracy: 69.64%, Val loss: 1.5627, Val Accuracy: 51.51%\n",
      "Epoch [37/50], Loss: 0.7663, Accuracy: 69.61%, Val loss: 1.5852, Val Accuracy: 48.86%\n",
      "Epoch [38/50], Loss: 0.7635, Accuracy: 70.06%, Val loss: 1.6118, Val Accuracy: 49.44%\n",
      "Epoch [39/50], Loss: 0.7505, Accuracy: 70.89%, Val loss: 1.5819, Val Accuracy: 51.27%\n",
      "Epoch [40/50], Loss: 0.7400, Accuracy: 71.25%, Val loss: 1.5816, Val Accuracy: 51.38%\n",
      "Epoch [41/50], Loss: 0.7321, Accuracy: 70.85%, Val loss: 1.6187, Val Accuracy: 50.94%\n",
      "Epoch [42/50], Loss: 0.7255, Accuracy: 71.74%, Val loss: 1.6689, Val Accuracy: 50.24%\n",
      "Epoch [43/50], Loss: 0.7175, Accuracy: 72.04%, Val loss: 1.6918, Val Accuracy: 48.41%\n",
      "Epoch [44/50], Loss: 0.7168, Accuracy: 72.43%, Val loss: 1.6598, Val Accuracy: 48.97%\n",
      "Epoch [45/50], Loss: 0.7219, Accuracy: 71.31%, Val loss: 1.6346, Val Accuracy: 50.95%\n",
      "Epoch [46/50], Loss: 0.7172, Accuracy: 70.69%, Val loss: 1.6386, Val Accuracy: 51.75%\n",
      "Epoch [47/50], Loss: 0.7088, Accuracy: 72.58%, Val loss: 1.6379, Val Accuracy: 51.83%\n",
      "Epoch [48/50], Loss: 0.7082, Accuracy: 71.29%, Val loss: 1.6666, Val Accuracy: 50.89%\n",
      "Epoch [49/50], Loss: 0.6984, Accuracy: 72.66%, Val loss: 1.7245, Val Accuracy: 48.83%\n",
      "Epoch [50/50], Loss: 0.6897, Accuracy: 72.72%, Val loss: 1.7124, Val Accuracy: 49.65%\n"
     ]
    }
   ],
   "source": [
    "print(f\"Training FC model\")\n",
    "hist = train_model(model)"
   ]
  },
  {
   "cell_type": "markdown",
   "metadata": {},
   "source": [
    "## 5. Plot results"
   ]
  },
  {
   "cell_type": "code",
   "execution_count": 16,
   "metadata": {},
   "outputs": [
    {
     "data": {
      "image/png": "[encoded data removed]",
      "text/plain": [
       "<Figure size 640x480 with 1 Axes>"
      ]
     },
     "metadata": {},
     "output_type": "display_data"
    }
   ],
   "source": [
    "import matplotlib.pyplot as plt\n",
    "\n",
    "plt.plot(hist['train_accuracy'], label='Train')\n",
    "plt.plot(hist['val_accuracy'], label='Val')\n",
    "\n",
    "\n",
    "plt.title('model accuracy')\n",
    "plt.ylabel('accuracy')\n",
    "plt.xlabel('epoch')\n",
    "plt.legend(['Train', 'Val' ], loc='lower right')\n",
    "plt.show()"
   ]
  },
  {
   "cell_type": "code",
   "execution_count": 17,
   "metadata": {},
   "outputs": [
    {
     "data": {
      "image/png": "[encoded data removed]",
      "text/plain": [
       "<Figure size 640x480 with 1 Axes>"
      ]
     },
     "metadata": {},
     "output_type": "display_data"
    }
   ],
   "source": [
    "plt.plot(hist['train_loss'], label='Train')\n",
    "plt.plot(hist['val_loss'], label='Val')\n",
    "\n",
    "\n",
    "plt.title('model loss')\n",
    "plt.ylabel('loss')\n",
    "plt.xlabel('epoch')\n",
    "plt.legend(['Train', 'Val' ], loc='upper right')\n",
    "plt.show()"
   ]
  }
 ],
 "metadata": {
  "kernelspec": {
   "display_name": "Python 3 (ipykernel)",
   "language": "python",
   "name": "python3"
  },
  "language_info": {
   "codemirror_mode": {
    "name": "ipython",
    "version": 3
   },
   "file_extension": ".py",
   "mimetype": "text/x-python",
   "name": "python",
   "nbconvert_exporter": "python",
   "pygments_lexer": "ipython3",
   "version": "3.11.5"
  }
 },
 "nbformat": 4,
 "nbformat_minor": 4
}
