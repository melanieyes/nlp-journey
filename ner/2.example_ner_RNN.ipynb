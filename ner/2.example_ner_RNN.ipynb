{
 "cells": [
  {
   "cell_type": "markdown",
   "id": "7efe5b00-cda0-4c3f-9cbc-6fd590ebb4a6",
   "metadata": {},
   "source": [
    "## Data"
   ]
  },
  {
   "cell_type": "code",
   "execution_count": 1,
   "id": "22382432-34a8-474b-9519-af1168597ea1",
   "metadata": {},
   "outputs": [],
   "source": [
    "import torch\n",
    "import torch.nn as nn\n",
    "from torchtext.data.utils import get_tokenizer\n",
    "from torchtext.vocab import build_vocab_from_iterator\n",
    "\n",
    "corpus = [\n",
    "    \"karpathy is working in openai\",\n",
    "    \"geoffrey hinton is from canada\"    \n",
    "]\n",
    "data_size = len(corpus)\n",
    "\n",
    "# 0: B-Person - 1: I-Person\n",
    "# 2: B-Organization/Location - 3: I--Organization/Location \n",
    "# 4: O\n",
    "labels = [[0, 4, 4, 4, 2],\n",
    "          [0, 1, 4, 4, 2]]\n",
    "\n",
    "# Define the max vocabulary size and sequence length\n",
    "vocab_size = 11\n",
    "sequence_length = 5\n",
    "num_classes = 5 + 1"
   ]
  },
  {
   "cell_type": "code",
   "execution_count": 2,
   "id": "2726650a-52ef-4150-9b09-0071d0ce2a31",
   "metadata": {},
   "outputs": [
    {
     "data": {
      "text/plain": [
       "{'karpathy': 8,\n",
       " 'hinton': 6,\n",
       " '<unk>': 0,\n",
       " 'geoffrey': 5,\n",
       " 'in': 7,\n",
       " '<pad>': 1,\n",
       " 'from': 4,\n",
       " 'is': 2,\n",
       " 'canada': 3,\n",
       " 'openai': 9,\n",
       " 'working': 10}"
      ]
     },
     "execution_count": 2,
     "metadata": {},
     "output_type": "execute_result"
    }
   ],
   "source": [
    "# Define tokenizer function\n",
    "tokenizer = get_tokenizer('basic_english')\n",
    "\n",
    "# Create a function to yield list of tokens\n",
    "def yield_tokens(examples):\n",
    "    for text in examples:\n",
    "        yield tokenizer(text)\n",
    "\n",
    "# Create vocabulary\n",
    "vocab = build_vocab_from_iterator(yield_tokens(corpus),\n",
    "                                  max_tokens=vocab_size,\n",
    "                                  specials=[\"<unk>\", \"<pad>\"])\n",
    "vocab.set_default_index(vocab[\"<unk>\"])\n",
    "vocab.get_stoi()"
   ]
  },
  {
   "cell_type": "code",
   "execution_count": 3,
   "id": "3192fcd6-d411-4312-afcd-88fe4e64a8b9",
   "metadata": {},
   "outputs": [],
   "source": [
    "# Tokenize and numericalize your samples\n",
    "def vectorize(text, vocab, sequence_length, sequence_label):\n",
    "    tokens = tokenizer(text)\n",
    "    \n",
    "    token_ids = [vocab[token] for token in tokens]    \n",
    "    token_ids = token_ids + [vocab[\"<pad>\"]] * (sequence_length - len(tokens))\n",
    "    sequence_label = sequence_label + [5] * (sequence_length - len(tokens))\n",
    "    \n",
    "    return torch.tensor(token_ids, dtype=torch.long), torch.tensor(sequence_label, dtype=torch.long)\n",
    "\n",
    "# Vectorize the samples\n",
    "sentence_vecs = []\n",
    "label_vecs = []\n",
    "for sentence, labels in zip(corpus, labels):\n",
    "    sentence_vec, labels_vec = vectorize(sentence, vocab, sequence_length, labels)\n",
    "    sentence_vecs.append(sentence_vec)\n",
    "    label_vecs.append(labels_vec)"
   ]
  },
  {
   "cell_type": "code",
   "execution_count": 4,
   "id": "c1189966-b5d0-4bbe-9805-712e206b533c",
   "metadata": {},
   "outputs": [
    {
     "name": "stdout",
     "output_type": "stream",
     "text": [
      "tensor([ 8,  2, 10,  7,  9])\n",
      "tensor([5, 6, 2, 4, 3])\n"
     ]
    }
   ],
   "source": [
    "for v in sentence_vecs:\n",
    "    print(v)"
   ]
  },
  {
   "cell_type": "code",
   "execution_count": 5,
   "id": "e3e40856-0cc4-4f25-b704-05e9d4aaeb95",
   "metadata": {},
   "outputs": [
    {
     "name": "stdout",
     "output_type": "stream",
     "text": [
      "tensor([0, 4, 4, 4, 2])\n",
      "tensor([0, 1, 4, 4, 2])\n"
     ]
    }
   ],
   "source": [
    "for v in label_vecs:\n",
    "    print(v)"
   ]
  },
  {
   "cell_type": "code",
   "execution_count": null,
   "id": "5de2a679-494b-458d-b271-b10db85a2b70",
   "metadata": {},
   "outputs": [],
   "source": []
  },
  {
   "cell_type": "markdown",
   "id": "cd4c5571-1104-44a2-a066-2118f4861e9a",
   "metadata": {},
   "source": [
    "## Model"
   ]
  },
  {
   "cell_type": "code",
   "execution_count": 6,
   "id": "2c8843b2-83e1-408f-b9d1-0f7983cd7c59",
   "metadata": {},
   "outputs": [
    {
     "name": "stdout",
     "output_type": "stream",
     "text": [
      "torch.Size([1, 6, 5])\n"
     ]
    }
   ],
   "source": [
    "class POS_Model(nn.Module):\n",
    "    def __init__(self, vocab_size, num_classes):\n",
    "        super().__init__()\n",
    "        self.embedding = nn.Embedding(vocab_size, 4)\n",
    "        self.recurrent = nn.RNN(4, num_classes, batch_first=True)\n",
    "\n",
    "    def forward(self, x):\n",
    "        x = self.embedding(x)\n",
    "        x,_ = self.recurrent(x)\n",
    "        return x.permute(0, 2, 1)\n",
    "\n",
    "# create model\n",
    "model = POS_Model(vocab_size, num_classes)\n",
    "\n",
    "# test\n",
    "data = torch.tensor([[0, 4, 4, 4, 2]]).long()\n",
    "output = model(data)\n",
    "print(output.shape)"
   ]
  },
  {
   "cell_type": "code",
   "execution_count": null,
   "id": "2028e52e-bee4-42f7-875a-f963218c80c5",
   "metadata": {},
   "outputs": [],
   "source": []
  },
  {
   "cell_type": "markdown",
   "id": "b547154b-2223-4e4f-a875-119ec33f9812",
   "metadata": {},
   "source": [
    "## Train with full data"
   ]
  },
  {
   "cell_type": "code",
   "execution_count": 7,
   "id": "32ed2deb-b3e3-4a70-8b85-c575001fc213",
   "metadata": {},
   "outputs": [],
   "source": [
    "criterion = nn.CrossEntropyLoss(ignore_index=5)\n",
    "optimizer = torch.optim.Adam(model.parameters(), lr=0.2)"
   ]
  },
  {
   "cell_type": "code",
   "execution_count": null,
   "id": "910680f9-acb5-493e-a194-a3f18f4788f0",
   "metadata": {},
   "outputs": [],
   "source": []
  },
  {
   "cell_type": "code",
   "execution_count": 8,
   "id": "cbee29f3-5988-4f5f-a9f1-fb13f137a91d",
   "metadata": {},
   "outputs": [
    {
     "name": "stdout",
     "output_type": "stream",
     "text": [
      "1.5540754795074463\n",
      "0.992785632610321\n",
      "0.8469835519790649\n",
      "0.767238974571228\n",
      "0.7097616195678711\n",
      "0.6765373945236206\n",
      "0.6551170349121094\n",
      "0.6426442861557007\n",
      "0.6313241720199585\n",
      "0.6123499274253845\n",
      "0.5849024653434753\n",
      "0.565089762210846\n",
      "0.5601094961166382\n",
      "0.5592330694198608\n",
      "0.5589781403541565\n",
      "0.5588582158088684\n",
      "0.5587877631187439\n",
      "0.55874103307724\n",
      "0.5587064623832703\n",
      "0.5586787462234497\n",
      "0.5586548447608948\n",
      "0.5586336851119995\n",
      "0.5586148500442505\n",
      "0.5585978627204895\n",
      "0.5585826635360718\n"
     ]
    }
   ],
   "source": [
    "input_data = torch.tensor( [[ 8,  2, 10,  7,  9],\n",
    "                            [5, 6, 2, 4, 3]], dtype=torch.long)\n",
    "label_data = torch.tensor([[0, 4, 4, 4, 2],\n",
    "                           [0, 1, 4, 4, 2]], dtype=torch.long)\n",
    "\n",
    "for _ in range(25):\n",
    "    optimizer.zero_grad()\n",
    "    outputs = model(input_data)\n",
    "    loss = criterion(outputs, label_data)\n",
    "    print(loss.item())\n",
    "    loss.backward()\n",
    "    optimizer.step()"
   ]
  },
  {
   "cell_type": "code",
   "execution_count": 9,
   "id": "b562b790-b1f8-4e0c-a1cc-2453ee3f3a1a",
   "metadata": {},
   "outputs": [
    {
     "name": "stdout",
     "output_type": "stream",
     "text": [
      "[0.5963922  0.08071621 0.08074266 0.08071624 0.08071621 0.08071639]\n",
      "[0.08088248 0.0808358  0.08079487 0.08079284 0.5959011  0.08079284]\n",
      "[0.08077803 0.08077841 0.08078013 0.08077817 0.59610724 0.080778  ]\n",
      "[0.0807356  0.08072975 0.08072971 0.08073109 0.5963441  0.08072971]\n",
      "[0.08071258 0.08071258 0.5963898  0.08075981 0.08071267 0.08071258]\n",
      "\n",
      "[0.59641546 0.08071642 0.08071858 0.08071642 0.08071642 0.08071666]\n",
      "[0.05325348 0.39349297 0.0532536  0.05325349 0.39349297 0.05325348]\n",
      "[0.08071695 0.08071681 0.08071682 0.08071681 0.5964158  0.08071681]\n",
      "[0.08071821 0.08076344 0.08071305 0.08071308 0.5963792  0.08071305]\n",
      "[0.08071623 0.08071623 0.5964168  0.08071821 0.08071623 0.08071623]\n"
     ]
    }
   ],
   "source": [
    "outputs = model(input_data)\n",
    "o_softmax = torch.softmax(outputs, axis=1)\n",
    "\n",
    "print(o_softmax[0, :, 0].detach().numpy())\n",
    "print(o_softmax[0, :, 1].detach().numpy())\n",
    "print(o_softmax[0, :, 2].detach().numpy())\n",
    "print(o_softmax[0, :, 3].detach().numpy())\n",
    "print(o_softmax[0, :, 4].detach().numpy())\n",
    "\n",
    "print()\n",
    "print(o_softmax[1, :, 0].detach().numpy())\n",
    "print(o_softmax[1, :, 1].detach().numpy())\n",
    "print(o_softmax[1, :, 2].detach().numpy())\n",
    "print(o_softmax[1, :, 3].detach().numpy())\n",
    "print(o_softmax[1, :, 4].detach().numpy())"
   ]
  },
  {
   "cell_type": "code",
   "execution_count": null,
   "id": "7e351ef5-c01e-47b9-8f2e-fbae9d0f2fa7",
   "metadata": {},
   "outputs": [],
   "source": []
  },
  {
   "cell_type": "code",
   "execution_count": 10,
   "id": "0d5722d8-8fd4-4270-b246-8fa9a402b008",
   "metadata": {},
   "outputs": [
    {
     "data": {
      "text/plain": [
       "tensor([[0, 4, 4, 4, 2],\n",
       "        [0, 1, 4, 4, 2]])"
      ]
     },
     "execution_count": 10,
     "metadata": {},
     "output_type": "execute_result"
    }
   ],
   "source": [
    "# labels = [[0, 4, 4, 4, 2],\n",
    "#           [0, 1, 4, 4, 2]]\n",
    "\n",
    "o_softmax.argmax(axis=1)"
   ]
  },
  {
   "cell_type": "code",
   "execution_count": null,
   "id": "a744f00f-3c05-4e5a-8001-5cfdf5b1f94e",
   "metadata": {},
   "outputs": [],
   "source": []
  }
 ],
 "metadata": {
  "kernelspec": {
   "display_name": "Python 3 (ipykernel)",
   "language": "python",
   "name": "python3"
  },
  "language_info": {
   "codemirror_mode": {
    "name": "ipython",
    "version": 3
   },
   "file_extension": ".py",
   "mimetype": "text/x-python",
   "name": "python",
   "nbconvert_exporter": "python",
   "pygments_lexer": "ipython3",
   "version": "3.11.5"
  }
 },
 "nbformat": 4,
 "nbformat_minor": 5
}
