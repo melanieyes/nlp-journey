{
 "cells": [
  {
   "cell_type": "markdown",
   "id": "7efe5b00-cda0-4c3f-9cbc-6fd590ebb4a6",
   "metadata": {},
   "source": [
    "## Data"
   ]
  },
  {
   "cell_type": "code",
   "execution_count": 1,
   "id": "22382432-34a8-474b-9519-af1168597ea1",
   "metadata": {},
   "outputs": [],
   "source": [
    "import torch\n",
    "import torch.nn as nn\n",
    "from torchtext.data.utils import get_tokenizer\n",
    "from torchtext.vocab import build_vocab_from_iterator\n",
    "\n",
    "corpus = [\n",
    "    \"karpathy is working in openai\",\n",
    "    \"geoffrey hinton is from canada\"    \n",
    "]\n",
    "data_size = len(corpus)\n",
    "\n",
    "# 0: B-Person - 1: I-Person\n",
    "# 2: B-Organization/Location - 3: I--Organization/Location \n",
    "# 4: O\n",
    "labels = [[0, 4, 4, 4, 2],\n",
    "          [0, 1, 4, 4, 2]]\n",
    "\n",
    "# Define the max vocabulary size and sequence length\n",
    "vocab_size = 11\n",
    "sequence_length = 5\n",
    "num_classes = 5 + 1"
   ]
  },
  {
   "cell_type": "code",
   "execution_count": 2,
   "id": "2726650a-52ef-4150-9b09-0071d0ce2a31",
   "metadata": {},
   "outputs": [
    {
     "data": {
      "text/plain": [
       "{'karpathy': 8,\n",
       " 'hinton': 6,\n",
       " '<unk>': 0,\n",
       " 'geoffrey': 5,\n",
       " 'in': 7,\n",
       " '<pad>': 1,\n",
       " 'from': 4,\n",
       " 'is': 2,\n",
       " 'canada': 3,\n",
       " 'openai': 9,\n",
       " 'working': 10}"
      ]
     },
     "execution_count": 2,
     "metadata": {},
     "output_type": "execute_result"
    }
   ],
   "source": [
    "# Define tokenizer function\n",
    "tokenizer = get_tokenizer('basic_english')\n",
    "\n",
    "# Create a function to yield list of tokens\n",
    "def yield_tokens(examples):\n",
    "    for text in examples:\n",
    "        yield tokenizer(text)\n",
    "\n",
    "# Create vocabulary\n",
    "vocab = build_vocab_from_iterator(yield_tokens(corpus),\n",
    "                                  max_tokens=vocab_size,\n",
    "                                  specials=[\"<unk>\", \"<pad>\"])\n",
    "vocab.set_default_index(vocab[\"<unk>\"])\n",
    "vocab.get_stoi()"
   ]
  },
  {
   "cell_type": "code",
   "execution_count": 3,
   "id": "3192fcd6-d411-4312-afcd-88fe4e64a8b9",
   "metadata": {},
   "outputs": [],
   "source": [
    "# Tokenize and numericalize your samples\n",
    "def vectorize(text, vocab, sequence_length, sequence_label):\n",
    "    tokens = tokenizer(text)\n",
    "    \n",
    "    token_ids = [vocab[token] for token in tokens]    \n",
    "    token_ids = token_ids + [vocab[\"<pad>\"]] * (sequence_length - len(tokens))\n",
    "    sequence_label = sequence_label + [5] * (sequence_length - len(tokens))\n",
    "    \n",
    "    return torch.tensor(token_ids, dtype=torch.long), torch.tensor(sequence_label, dtype=torch.long)\n",
    "\n",
    "# Vectorize the samples\n",
    "sentence_vecs = []\n",
    "label_vecs = []\n",
    "for sentence, labels in zip(corpus, labels):\n",
    "    sentence_vec, labels_vec = vectorize(sentence, vocab, sequence_length, labels)\n",
    "    sentence_vecs.append(sentence_vec)\n",
    "    label_vecs.append(labels_vec)"
   ]
  },
  {
   "cell_type": "code",
   "execution_count": 4,
   "id": "c1189966-b5d0-4bbe-9805-712e206b533c",
   "metadata": {},
   "outputs": [
    {
     "name": "stdout",
     "output_type": "stream",
     "text": [
      "tensor([ 8,  2, 10,  7,  9])\n",
      "tensor([5, 6, 2, 4, 3])\n"
     ]
    }
   ],
   "source": [
    "for v in sentence_vecs:\n",
    "    print(v)"
   ]
  },
  {
   "cell_type": "code",
   "execution_count": 5,
   "id": "e3e40856-0cc4-4f25-b704-05e9d4aaeb95",
   "metadata": {},
   "outputs": [
    {
     "name": "stdout",
     "output_type": "stream",
     "text": [
      "tensor([0, 4, 4, 4, 2])\n",
      "tensor([0, 1, 4, 4, 2])\n"
     ]
    }
   ],
   "source": [
    "for v in label_vecs:\n",
    "    print(v)"
   ]
  },
  {
   "cell_type": "code",
   "execution_count": null,
   "id": "5de2a679-494b-458d-b271-b10db85a2b70",
   "metadata": {},
   "outputs": [],
   "source": []
  },
  {
   "cell_type": "markdown",
   "id": "cd4c5571-1104-44a2-a066-2118f4861e9a",
   "metadata": {},
   "source": [
    "## Model"
   ]
  },
  {
   "cell_type": "code",
   "execution_count": 6,
   "id": "ce5f5fd2-eabf-4b21-bac1-26c81f712d0a",
   "metadata": {},
   "outputs": [],
   "source": [
    "class TransformerBlock(nn.Module):\n",
    "    def __init__(self, embed_dim, num_heads, ff_dim):\n",
    "        super().__init__()\n",
    "        self.attn = nn.MultiheadAttention(embed_dim=embed_dim, \n",
    "                                          num_heads=num_heads)\n",
    "        self.ffn = nn.Linear(in_features=embed_dim, \n",
    "                             out_features=ff_dim)\n",
    "        self.layernorm_1 = nn.LayerNorm(normalized_shape=embed_dim)\n",
    "        self.layernorm_2 = nn.LayerNorm(normalized_shape=embed_dim)\n",
    "\n",
    "    def forward(self, query, key, value):\n",
    "        attn_output, _ = self.attn(query, key, value)\n",
    "        out_1 = self.layernorm_1(query + attn_output)\n",
    "        ffn_output = self.ffn(out_1)\n",
    "        x = self.layernorm_2(out_1 + ffn_output)\n",
    "        return x"
   ]
  },
  {
   "cell_type": "code",
   "execution_count": 7,
   "id": "2c8843b2-83e1-408f-b9d1-0f7983cd7c59",
   "metadata": {},
   "outputs": [
    {
     "name": "stdout",
     "output_type": "stream",
     "text": [
      "torch.Size([1, 6, 5])\n"
     ]
    }
   ],
   "source": [
    "class POS_Model(nn.Module):\n",
    "    def __init__(self, vocab_size, num_classes):\n",
    "        super().__init__()\n",
    "        self.embedding = nn.Embedding(vocab_size, 4)\n",
    "        self.transformer = TransformerBlock(4, 1, 4)\n",
    "        self.fc = nn.Linear(4, num_classes)\n",
    "\n",
    "    def forward(self, x):\n",
    "        x = self.embedding(x)\n",
    "        x = self.transformer(x, x, x)\n",
    "        x = self.fc(x)\n",
    "        return x.permute(0, 2, 1)\n",
    "\n",
    "# create model\n",
    "model = POS_Model(vocab_size, num_classes)\n",
    "\n",
    "# test\n",
    "data = torch.tensor([[0, 4, 4, 4, 2]]).long()\n",
    "output = model(data)\n",
    "print(output.shape)"
   ]
  },
  {
   "cell_type": "code",
   "execution_count": null,
   "id": "2028e52e-bee4-42f7-875a-f963218c80c5",
   "metadata": {},
   "outputs": [],
   "source": []
  },
  {
   "cell_type": "markdown",
   "id": "b547154b-2223-4e4f-a875-119ec33f9812",
   "metadata": {},
   "source": [
    "## Train with full data"
   ]
  },
  {
   "cell_type": "code",
   "execution_count": 8,
   "id": "32ed2deb-b3e3-4a70-8b85-c575001fc213",
   "metadata": {},
   "outputs": [],
   "source": [
    "criterion = nn.CrossEntropyLoss(ignore_index=5)\n",
    "optimizer = torch.optim.Adam(model.parameters(), lr=0.2)"
   ]
  },
  {
   "cell_type": "code",
   "execution_count": null,
   "id": "910680f9-acb5-493e-a194-a3f18f4788f0",
   "metadata": {},
   "outputs": [],
   "source": []
  },
  {
   "cell_type": "code",
   "execution_count": 9,
   "id": "cbee29f3-5988-4f5f-a9f1-fb13f137a91d",
   "metadata": {},
   "outputs": [
    {
     "name": "stdout",
     "output_type": "stream",
     "text": [
      "1.6467418670654297\n",
      "1.3323087692260742\n",
      "1.2814031839370728\n",
      "1.1359691619873047\n",
      "0.8551193475723267\n",
      "0.7378385663032532\n",
      "0.808885395526886\n",
      "0.6745971441268921\n",
      "0.7959946393966675\n",
      "0.6109843850135803\n",
      "0.5051301717758179\n",
      "0.4285423159599304\n",
      "0.3084316849708557\n",
      "0.25852131843566895\n",
      "0.24296411871910095\n",
      "0.2354608029127121\n",
      "0.14161622524261475\n",
      "0.06275929510593414\n",
      "0.02444736286997795\n",
      "0.02680407091975212\n"
     ]
    }
   ],
   "source": [
    "input_data = torch.tensor( [[ 8,  2, 10,  7,  9],\n",
    "                            [5, 6, 2, 4, 3]], dtype=torch.long)\n",
    "label_data = torch.tensor([[0, 4, 4, 4, 2],\n",
    "                           [0, 1, 4, 4, 2]], dtype=torch.long)\n",
    "\n",
    "for _ in range(20):\n",
    "    optimizer.zero_grad()\n",
    "    outputs = model(input_data)\n",
    "    loss = criterion(outputs, label_data)\n",
    "    print(loss.item())\n",
    "    loss.backward()\n",
    "    optimizer.step()"
   ]
  },
  {
   "cell_type": "code",
   "execution_count": 10,
   "id": "b562b790-b1f8-4e0c-a1cc-2453ee3f3a1a",
   "metadata": {},
   "outputs": [
    {
     "name": "stdout",
     "output_type": "stream",
     "text": [
      "[8.4492511e-01 1.5470576e-01 1.2180508e-05 4.0215923e-06 3.4746790e-04\n",
      " 5.4186257e-06]\n",
      "[1.0262575e-08 2.7112910e-04 5.2790966e-12 3.0160552e-05 9.9966812e-01\n",
      " 3.0567833e-05]\n",
      "[1.5038705e-08 1.0977791e-03 6.9733867e-13 1.8743758e-05 9.9886334e-01\n",
      " 2.0135329e-05]\n",
      "[1.3520665e-08 8.8443304e-04 8.8877072e-13 2.0139692e-05 9.9907398e-01\n",
      " 2.1438202e-05]\n",
      "[1.2150423e-04 5.5672389e-10 9.9987853e-01 4.1220623e-08 6.6555579e-09\n",
      " 3.4894388e-08]\n",
      "\n",
      "[8.2452250e-01 1.7511739e-01 1.2364363e-05 5.0626413e-06 3.3582351e-04\n",
      " 6.7838596e-06]\n",
      "[6.03546202e-02 9.34617698e-01 1.14734995e-07 2.28721401e-05\n",
      " 4.97437222e-03 3.04535642e-05]\n",
      "[1.1804904e-08 6.5698958e-04 1.1678058e-12 2.0642156e-05 9.9930060e-01\n",
      " 2.1760210e-05]\n",
      "[1.1442326e-08 5.8199500e-04 1.4578233e-12 2.2444552e-05 9.9937207e-01\n",
      " 2.3503861e-05]\n",
      "[1.2278516e-04 8.1535029e-10 9.9987710e-01 6.9433149e-08 1.6996479e-08\n",
      " 5.8558189e-08]\n"
     ]
    }
   ],
   "source": [
    "outputs = model(input_data)\n",
    "o_softmax = torch.softmax(outputs, axis=1)\n",
    "\n",
    "print(o_softmax[0, :, 0].detach().numpy())\n",
    "print(o_softmax[0, :, 1].detach().numpy())\n",
    "print(o_softmax[0, :, 2].detach().numpy())\n",
    "print(o_softmax[0, :, 3].detach().numpy())\n",
    "print(o_softmax[0, :, 4].detach().numpy())\n",
    "\n",
    "print()\n",
    "print(o_softmax[1, :, 0].detach().numpy())\n",
    "print(o_softmax[1, :, 1].detach().numpy())\n",
    "print(o_softmax[1, :, 2].detach().numpy())\n",
    "print(o_softmax[1, :, 3].detach().numpy())\n",
    "print(o_softmax[1, :, 4].detach().numpy())"
   ]
  },
  {
   "cell_type": "code",
   "execution_count": 11,
   "id": "7e351ef5-c01e-47b9-8f2e-fbae9d0f2fa7",
   "metadata": {},
   "outputs": [
    {
     "data": {
      "text/plain": [
       "tensor([[0, 4, 4, 4, 2],\n",
       "        [0, 1, 4, 4, 2]])"
      ]
     },
     "execution_count": 11,
     "metadata": {},
     "output_type": "execute_result"
    }
   ],
   "source": [
    "# labels = [[0, 4, 4, 4, 2],\n",
    "#           [0, 1, 4, 4, 2]]\n",
    "\n",
    "o_softmax.argmax(axis=1)"
   ]
  },
  {
   "cell_type": "code",
   "execution_count": null,
   "id": "0bb95c20-1c96-4ebd-808c-d55e73dad74d",
   "metadata": {},
   "outputs": [],
   "source": []
  }
 ],
 "metadata": {
  "kernelspec": {
   "display_name": "Python 3 (ipykernel)",
   "language": "python",
   "name": "python3"
  },
  "language_info": {
   "codemirror_mode": {
    "name": "ipython",
    "version": 3
   },
   "file_extension": ".py",
   "mimetype": "text/x-python",
   "name": "python",
   "nbconvert_exporter": "python",
   "pygments_lexer": "ipython3",
   "version": "3.11.5"
  }
 },
 "nbformat": 4,
 "nbformat_minor": 5
}
