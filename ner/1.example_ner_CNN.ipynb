{
 "cells": [
  {
   "cell_type": "markdown",
   "id": "7efe5b00-cda0-4c3f-9cbc-6fd590ebb4a6",
   "metadata": {},
   "source": [
    "## Data"
   ]
  },
  {
   "cell_type": "code",
   "execution_count": 1,
   "id": "22382432-34a8-474b-9519-af1168597ea1",
   "metadata": {},
   "outputs": [],
   "source": [
    "import torch\n",
    "import torch.nn as nn\n",
    "from torchtext.data.utils import get_tokenizer\n",
    "from torchtext.vocab import build_vocab_from_iterator\n",
    "\n",
    "corpus = [\n",
    "    \"karpathy is working in openai\",\n",
    "    \"geoffrey hinton is from canada\"    \n",
    "]\n",
    "data_size = len(corpus)\n",
    "\n",
    "# 0: B-Person - 1: I-Person\n",
    "# 2: B-Org./Location - 3: I-Org./Location \n",
    "# 4: O\n",
    "labels = [[0, 4, 4, 4, 2],\n",
    "          [0, 1, 4, 4, 2]]\n",
    "\n",
    "# Define the max vocabulary size and sequence length\n",
    "vocab_size = 11\n",
    "sequence_length = 5\n",
    "num_classes = 5 + 1"
   ]
  },
  {
   "cell_type": "code",
   "execution_count": 2,
   "id": "2726650a-52ef-4150-9b09-0071d0ce2a31",
   "metadata": {},
   "outputs": [
    {
     "data": {
      "text/plain": [
       "{'karpathy': 8,\n",
       " 'hinton': 6,\n",
       " '<unk>': 0,\n",
       " 'geoffrey': 5,\n",
       " 'in': 7,\n",
       " '<pad>': 1,\n",
       " 'from': 4,\n",
       " 'is': 2,\n",
       " 'canada': 3,\n",
       " 'openai': 9,\n",
       " 'working': 10}"
      ]
     },
     "execution_count": 2,
     "metadata": {},
     "output_type": "execute_result"
    }
   ],
   "source": [
    "# Define tokenizer function\n",
    "tokenizer = get_tokenizer('basic_english')\n",
    "\n",
    "# Create a function to yield list of tokens\n",
    "def yield_tokens(examples):\n",
    "    for text in examples:\n",
    "        yield tokenizer(text)\n",
    "\n",
    "# Create vocabulary\n",
    "vocab = build_vocab_from_iterator(yield_tokens(corpus),\n",
    "                                  max_tokens=vocab_size,\n",
    "                                  specials=[\"<unk>\", \"<pad>\"])\n",
    "vocab.set_default_index(vocab[\"<unk>\"])\n",
    "vocab.get_stoi()"
   ]
  },
  {
   "cell_type": "code",
   "execution_count": 3,
   "id": "3192fcd6-d411-4312-afcd-88fe4e64a8b9",
   "metadata": {},
   "outputs": [],
   "source": [
    "# Tokenize and numericalize your samples\n",
    "def vectorize(text, vocab, sequence_length, sequence_label):\n",
    "    tokens = tokenizer(text)\n",
    "    \n",
    "    token_ids = [vocab[token] for token in tokens]    \n",
    "    token_ids = token_ids + [vocab[\"<pad>\"]] * (sequence_length - len(tokens))\n",
    "    sequence_label = sequence_label + [5] * (sequence_length - len(tokens))\n",
    "    \n",
    "    return torch.tensor(token_ids, dtype=torch.long), torch.tensor(sequence_label, dtype=torch.long)\n",
    "\n",
    "# Vectorize the samples\n",
    "sentence_vecs = []\n",
    "label_vecs = []\n",
    "for sentence, labels in zip(corpus, labels):\n",
    "    sentence_vec, labels_vec = vectorize(sentence, vocab, sequence_length, labels)\n",
    "    sentence_vecs.append(sentence_vec)\n",
    "    label_vecs.append(labels_vec)"
   ]
  },
  {
   "cell_type": "code",
   "execution_count": 4,
   "id": "c1189966-b5d0-4bbe-9805-712e206b533c",
   "metadata": {},
   "outputs": [
    {
     "name": "stdout",
     "output_type": "stream",
     "text": [
      "tensor([ 8,  2, 10,  7,  9])\n",
      "tensor([5, 6, 2, 4, 3])\n"
     ]
    }
   ],
   "source": [
    "for v in sentence_vecs:\n",
    "    print(v)"
   ]
  },
  {
   "cell_type": "code",
   "execution_count": 5,
   "id": "e3e40856-0cc4-4f25-b704-05e9d4aaeb95",
   "metadata": {},
   "outputs": [
    {
     "name": "stdout",
     "output_type": "stream",
     "text": [
      "tensor([0, 4, 4, 4, 2])\n",
      "tensor([0, 1, 4, 4, 2])\n"
     ]
    }
   ],
   "source": [
    "for v in label_vecs:\n",
    "    print(v)"
   ]
  },
  {
   "cell_type": "code",
   "execution_count": null,
   "id": "5de2a679-494b-458d-b271-b10db85a2b70",
   "metadata": {},
   "outputs": [],
   "source": []
  },
  {
   "cell_type": "markdown",
   "id": "cd4c5571-1104-44a2-a066-2118f4861e9a",
   "metadata": {},
   "source": [
    "## Model"
   ]
  },
  {
   "cell_type": "code",
   "execution_count": 6,
   "id": "2c8843b2-83e1-408f-b9d1-0f7983cd7c59",
   "metadata": {},
   "outputs": [
    {
     "name": "stdout",
     "output_type": "stream",
     "text": [
      "torch.Size([1, 6, 5])\n"
     ]
    },
    {
     "name": "stderr",
     "output_type": "stream",
     "text": [
      "E:\\SoftInstallation\\conda\\envs\\torch_env\\Lib\\site-packages\\torch\\nn\\modules\\conv.py:306: UserWarning: Using padding='same' with even kernel lengths and odd dilation may require a zero-padded copy of the input be created (Triggered internally at ..\\aten\\src\\ATen\\native\\Convolution.cpp:1009.)\n",
      "  return F.conv1d(input, weight, bias, self.stride,\n"
     ]
    }
   ],
   "source": [
    "class POS_Model(nn.Module):\n",
    "    def __init__(self, vocab_size, num_classes):\n",
    "        super().__init__()\n",
    "        self.embedding = nn.Embedding(vocab_size, 4)\n",
    "        self.conv1d = nn.Conv1d(4, num_classes, kernel_size=2, padding='same')\n",
    "\n",
    "    def forward(self, x):\n",
    "        x = self.embedding(x)\n",
    "        x = x.permute(0, 2, 1)\n",
    "        x = self.conv1d(x)\n",
    "        return x\n",
    "\n",
    "# create model\n",
    "model = POS_Model(vocab_size, num_classes)\n",
    "\n",
    "# test\n",
    "data = torch.tensor([[0, 4, 4, 4, 2]]).long()\n",
    "output = model(data)\n",
    "print(output.shape)"
   ]
  },
  {
   "cell_type": "code",
   "execution_count": null,
   "id": "2028e52e-bee4-42f7-875a-f963218c80c5",
   "metadata": {},
   "outputs": [],
   "source": []
  },
  {
   "cell_type": "markdown",
   "id": "b547154b-2223-4e4f-a875-119ec33f9812",
   "metadata": {},
   "source": [
    "## Train with full data"
   ]
  },
  {
   "cell_type": "code",
   "execution_count": 7,
   "id": "32ed2deb-b3e3-4a70-8b85-c575001fc213",
   "metadata": {},
   "outputs": [],
   "source": [
    "criterion = nn.CrossEntropyLoss(ignore_index=5)\n",
    "optimizer = torch.optim.Adam(model.parameters(), lr=0.2)"
   ]
  },
  {
   "cell_type": "code",
   "execution_count": null,
   "id": "910680f9-acb5-493e-a194-a3f18f4788f0",
   "metadata": {},
   "outputs": [],
   "source": []
  },
  {
   "cell_type": "code",
   "execution_count": 8,
   "id": "cbee29f3-5988-4f5f-a9f1-fb13f137a91d",
   "metadata": {},
   "outputs": [
    {
     "name": "stdout",
     "output_type": "stream",
     "text": [
      "2.0805439949035645\n",
      "1.139344334602356\n",
      "0.6254342794418335\n",
      "0.33526140451431274\n",
      "0.16110697388648987\n",
      "0.06471849977970123\n",
      "0.022986019030213356\n",
      "0.0088480981066823\n",
      "0.003919375594705343\n",
      "0.0018540618475526571\n",
      "0.0008953640353865921\n",
      "0.0004395248834043741\n",
      "0.0002211297396570444\n",
      "0.00011506187729537487\n",
      "6.234012835193425e-05\n",
      "3.534366987878457e-05\n",
      "2.099214725603815e-05\n",
      "1.3124727047397755e-05\n",
      "8.606826668255962e-06\n",
      "5.924665856582578e-06\n",
      "4.2438332457095385e-06\n",
      "3.218641268176725e-06\n",
      "2.491468421794707e-06\n",
      "2.0265540570107987e-06\n",
      "1.68084807228297e-06\n"
     ]
    }
   ],
   "source": [
    "input_data = torch.tensor( [[ 8,  2, 10,  7,  9],\n",
    "                            [5, 6, 2, 4, 3]], dtype=torch.long)\n",
    "label_data = torch.tensor([[0, 4, 4, 4, 2],\n",
    "                           [0, 1, 4, 4, 2]], dtype=torch.long)\n",
    "\n",
    "for _ in range(25):\n",
    "    optimizer.zero_grad()\n",
    "    outputs = model(input_data)\n",
    "    loss = criterion(outputs, label_data)\n",
    "    print(loss.item())\n",
    "    loss.backward()\n",
    "    optimizer.step()"
   ]
  },
  {
   "cell_type": "code",
   "execution_count": 9,
   "id": "90521470-4ac2-42a5-8dc5-49622392e184",
   "metadata": {},
   "outputs": [],
   "source": [
    "input_data = torch.tensor( [[ 8,  2, 10,  7,  9],\n",
    "                            [5, 6, 2, 4, 3]], dtype=torch.long)\n",
    "label_data = torch.tensor([[0, 4, 4, 4, 2],\n",
    "                           [0, 1, 4, 4, 2]], dtype=torch.long)\n",
    "\n",
    "Z = model(input_data) # N, C, L"
   ]
  },
  {
   "cell_type": "code",
   "execution_count": 10,
   "id": "393245bf-d2e0-492d-8e54-e52a14db72af",
   "metadata": {},
   "outputs": [
    {
     "data": {
      "text/plain": [
       "tensor([[0, 4, 4, 4, 2],\n",
       "        [0, 1, 4, 4, 2]])"
      ]
     },
     "execution_count": 10,
     "metadata": {},
     "output_type": "execute_result"
    }
   ],
   "source": [
    "Z.argmax(axis=1)"
   ]
  },
  {
   "cell_type": "code",
   "execution_count": null,
   "id": "66213e91-5cc5-4505-95d4-83100e895c15",
   "metadata": {},
   "outputs": [],
   "source": []
  },
  {
   "cell_type": "code",
   "execution_count": 11,
   "id": "6d50f566-ae12-4117-823d-962b5c365aca",
   "metadata": {},
   "outputs": [
    {
     "data": {
      "text/plain": [
       "tensor([[0, 4, 4, 4, 2],\n",
       "        [0, 1, 4, 4, 2]])"
      ]
     },
     "execution_count": 11,
     "metadata": {},
     "output_type": "execute_result"
    }
   ],
   "source": [
    "o_softmax = torch.softmax(Z, axis=1)\n",
    "o_softmax.argmax(axis=1)"
   ]
  },
  {
   "cell_type": "code",
   "execution_count": null,
   "id": "1061eb28-4280-4ebc-92e5-b7df13a2f4bf",
   "metadata": {},
   "outputs": [],
   "source": []
  },
  {
   "cell_type": "code",
   "execution_count": null,
   "id": "6465dcec-d1fb-4c86-929a-4e2e35fec0d9",
   "metadata": {},
   "outputs": [],
   "source": []
  },
  {
   "cell_type": "code",
   "execution_count": 12,
   "id": "b562b790-b1f8-4e0c-a1cc-2453ee3f3a1a",
   "metadata": {},
   "outputs": [
    {
     "name": "stdout",
     "output_type": "stream",
     "text": [
      "[9.9999881e-01 1.0772566e-08 1.1512000e-06 2.7031995e-13 1.0121404e-10\n",
      " 1.2862355e-14]\n",
      "[1.2865807e-12 2.8637978e-06 2.5172731e-16 1.5602674e-12 9.9999714e-01\n",
      " 8.9435343e-14]\n",
      "[5.4560978e-18 3.5073988e-16 8.6888309e-12 1.6754290e-19 1.0000000e+00\n",
      " 1.8383869e-19]\n",
      "[4.098677e-20 1.299504e-20 6.504203e-07 8.292677e-19 9.999994e-01\n",
      " 8.617894e-18]\n",
      "[9.6515504e-11 1.4982250e-16 1.0000000e+00 2.5962208e-13 4.0856523e-09\n",
      " 3.8069118e-12]\n",
      "\n",
      "[9.9999785e-01 4.2800050e-08 2.1014521e-06 1.3001085e-10 8.6452434e-18\n",
      " 1.6039803e-11]\n",
      "[2.1398057e-06 9.9999785e-01 5.9901866e-19 3.1403891e-10 1.2665124e-11\n",
      " 3.7594979e-11]\n",
      "[1.4481269e-12 3.7619438e-07 3.1771391e-18 5.5591470e-14 9.9999964e-01\n",
      " 1.4945150e-15]\n",
      "[3.6134446e-18 1.2834756e-15 4.9359019e-06 1.0818972e-13 9.9999511e-01\n",
      " 1.8772615e-13]\n",
      "[8.6265850e-10 6.7586252e-16 1.0000000e+00 1.7979054e-11 3.3075562e-10\n",
      " 2.2178791e-10]\n"
     ]
    }
   ],
   "source": [
    "outputs = model(input_data)\n",
    "o_softmax = torch.softmax(outputs, axis=1)\n",
    "\n",
    "print(o_softmax[0, :, 0].detach().numpy())\n",
    "print(o_softmax[0, :, 1].detach().numpy())\n",
    "print(o_softmax[0, :, 2].detach().numpy())\n",
    "print(o_softmax[0, :, 3].detach().numpy())\n",
    "print(o_softmax[0, :, 4].detach().numpy())\n",
    "\n",
    "print()\n",
    "print(o_softmax[1, :, 0].detach().numpy())\n",
    "print(o_softmax[1, :, 1].detach().numpy())\n",
    "print(o_softmax[1, :, 2].detach().numpy())\n",
    "print(o_softmax[1, :, 3].detach().numpy())\n",
    "print(o_softmax[1, :, 4].detach().numpy())"
   ]
  },
  {
   "cell_type": "code",
   "execution_count": null,
   "id": "7e351ef5-c01e-47b9-8f2e-fbae9d0f2fa7",
   "metadata": {},
   "outputs": [],
   "source": []
  },
  {
   "cell_type": "code",
   "execution_count": 13,
   "id": "0d5722d8-8fd4-4270-b246-8fa9a402b008",
   "metadata": {},
   "outputs": [
    {
     "data": {
      "text/plain": [
       "tensor([[0, 4, 4, 4, 2],\n",
       "        [0, 1, 4, 4, 2]])"
      ]
     },
     "execution_count": 13,
     "metadata": {},
     "output_type": "execute_result"
    }
   ],
   "source": [
    "# labels = [[0, 4, 4, 4, 2],\n",
    "#           [0, 1, 4, 4, 2]]\n",
    "\n",
    "o_softmax.argmax(axis=1)"
   ]
  },
  {
   "cell_type": "code",
   "execution_count": null,
   "id": "a744f00f-3c05-4e5a-8001-5cfdf5b1f94e",
   "metadata": {},
   "outputs": [],
   "source": []
  },
  {
   "cell_type": "code",
   "execution_count": null,
   "id": "01ace4cc-287c-4e2b-a07e-0e566cad59d5",
   "metadata": {},
   "outputs": [],
   "source": []
  }
 ],
 "metadata": {
  "kernelspec": {
   "display_name": "Python 3 (ipykernel)",
   "language": "python",
   "name": "python3"
  },
  "language_info": {
   "codemirror_mode": {
    "name": "ipython",
    "version": 3
   },
   "file_extension": ".py",
   "mimetype": "text/x-python",
   "name": "python",
   "nbconvert_exporter": "python",
   "pygments_lexer": "ipython3",
   "version": "3.11.5"
  }
 },
 "nbformat": 4,
 "nbformat_minor": 5
}
