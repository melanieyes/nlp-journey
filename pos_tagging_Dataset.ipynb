{
 "cells": [
  {
   "cell_type": "markdown",
   "id": "7efe5b00-cda0-4c3f-9cbc-6fd590ebb4a6",
   "metadata": {},
   "source": [
    "## Data"
   ]
  },
  {
   "cell_type": "code",
   "execution_count": 1,
   "id": "c8736a6b",
   "metadata": {},
   "outputs": [
    {
     "name": "stderr",
     "output_type": "stream",
     "text": [
      "/Users/quangvinh/miniconda3/envs/torchenv/lib/python3.12/site-packages/transformers/tokenization_utils_base.py:1601: FutureWarning: `clean_up_tokenization_spaces` was not set. It will be set to `True` by default. This behavior will be depracted in transformers v4.45, and will be then set to `False` by default. For more details check this issue: https://github.com/huggingface/transformers/issues/31884\n",
      "  warnings.warn(\n"
     ]
    }
   ],
   "source": [
    "import torch\n",
    "import torch.nn as nn\n",
    "from torch.utils.data import Dataset\n",
    "from transformers import AutoTokenizer\n",
    "\n",
    "tokenizer = AutoTokenizer.from_pretrained(\"bert-base-uncased\")\n",
    "corpus = [\n",
    "    \"i like a dog\",\n",
    "    \"books are expensive\"    \n",
    "]\n",
    "data_size = len(corpus)\n",
    "\n",
    "# 0: noun/pronoun - 1: verb - others - 2\n",
    "labels = [[0, 1, 2, 0],\n",
    "          [0, 1, 2]]\n",
    "sequence_length = 4\n",
    "vocab_size = len(tokenizer)"
   ]
  },
  {
   "cell_type": "code",
   "execution_count": 2,
   "id": "e3af6ccb",
   "metadata": {},
   "outputs": [],
   "source": [
    "from torch.utils.data import Dataset\n",
    "\n",
    "class MyDataset(Dataset):\n",
    "    def __init__(self, sentences, labels, tokenizer, max_len):\n",
    "        super().__init__()\n",
    "        self.sentences = sentences\n",
    "        self.labels = labels\n",
    "        self.tokenizer = tokenizer\n",
    "        self.max_len = max_len\n",
    "\n",
    "    def __len__(self):\n",
    "        return len(self.sentences)\n",
    "    \n",
    "    def __getitem__(self, idx):\n",
    "        sentence = self.sentences[idx]\n",
    "        sentence_label = self.labels[idx]\n",
    "\n",
    "        tokens = sentence.split()\n",
    "        tokens = self.tokenizer.convert_tokens_to_ids(tokens)\n",
    "        tokens, sentence_label = self.pad_and_truncate(tokens, sentence_label)\n",
    "\n",
    "        return tokens, sentence_label\n",
    "    \n",
    "    def pad_and_truncate(self, tokens, labels): \n",
    "        \n",
    "        pad_id = self.tokenizer.pad_token_id\n",
    "        if len(tokens) < self.max_len:\n",
    "            padded_tokens = tokens + [pad_id] * (self.max_len - len(tokens)) \n",
    "            padded_labels = labels + [3] * (self.max_len - len(tokens))           \n",
    "        else:\n",
    "            padded_tokens = tokens[:self.max_len]\n",
    "            padded_labels = labels[:self.max_len]\n",
    "            \n",
    "        return torch.tensor(padded_tokens), torch.tensor(padded_labels)"
   ]
  },
  {
   "cell_type": "code",
   "execution_count": 3,
   "id": "c1189966-b5d0-4bbe-9805-712e206b533c",
   "metadata": {},
   "outputs": [],
   "source": [
    "from torch.utils.data import DataLoader\n",
    "\n",
    "batch_size = 2\n",
    "train_set = MyDataset(corpus, labels, tokenizer, sequence_length)\n",
    "train_loader = DataLoader(train_set, batch_size)"
   ]
  },
  {
   "cell_type": "code",
   "execution_count": 4,
   "id": "e3e40856-0cc4-4f25-b704-05e9d4aaeb95",
   "metadata": {},
   "outputs": [
    {
     "name": "stdout",
     "output_type": "stream",
     "text": [
      "tensor([[1045, 2066, 1037, 3899],\n",
      "        [2808, 2024, 6450,    0]])\n",
      "tensor([[0, 1, 2, 0],\n",
      "        [0, 1, 2, 3]])\n",
      "\n"
     ]
    }
   ],
   "source": [
    "for x,y in train_loader:\n",
    "    print(x)\n",
    "    print(y)\n",
    "    print()"
   ]
  },
  {
   "cell_type": "code",
   "execution_count": null,
   "id": "5de2a679-494b-458d-b271-b10db85a2b70",
   "metadata": {},
   "outputs": [],
   "source": []
  },
  {
   "cell_type": "markdown",
   "id": "cd4c5571-1104-44a2-a066-2118f4861e9a",
   "metadata": {},
   "source": [
    "## Model"
   ]
  },
  {
   "cell_type": "code",
   "execution_count": 5,
   "id": "2c8843b2-83e1-408f-b9d1-0f7983cd7c59",
   "metadata": {},
   "outputs": [
    {
     "name": "stdout",
     "output_type": "stream",
     "text": [
      "torch.Size([2, 4, 4])\n"
     ]
    }
   ],
   "source": [
    "class POS_Model(nn.Module):\n",
    "    def __init__(self, vocab_size, num_classes):\n",
    "        super().__init__()\n",
    "        self.embedding = nn.Embedding(vocab_size, 5)\n",
    "        self.fc = nn.Linear(5, num_classes)\n",
    "\n",
    "    def forward(self, x):\n",
    "        x = self.embedding(x)\n",
    "        x = self.fc(x)\n",
    "        return x.permute(0, 2, 1)\n",
    "\n",
    "model = POS_Model(vocab_size, 4)\n",
    "\n",
    "# test\n",
    "output = model(x)\n",
    "print(output.shape)"
   ]
  },
  {
   "cell_type": "code",
   "execution_count": null,
   "id": "f6a83ea9-358e-4cd0-8324-392faddfa6b6",
   "metadata": {},
   "outputs": [],
   "source": []
  },
  {
   "cell_type": "markdown",
   "id": "b547154b-2223-4e4f-a875-119ec33f9812",
   "metadata": {},
   "source": [
    "## Train with full data"
   ]
  },
  {
   "cell_type": "code",
   "execution_count": 6,
   "id": "32ed2deb-b3e3-4a70-8b85-c575001fc213",
   "metadata": {},
   "outputs": [],
   "source": [
    "criterion = nn.CrossEntropyLoss(ignore_index=3)\n",
    "optimizer = torch.optim.Adam(model.parameters(), lr=0.01)"
   ]
  },
  {
   "cell_type": "code",
   "execution_count": 7,
   "id": "cbee29f3-5988-4f5f-a9f1-fb13f137a91d",
   "metadata": {},
   "outputs": [
    {
     "name": "stdout",
     "output_type": "stream",
     "text": [
      "1.5027673244476318\n",
      "1.4699853658676147\n",
      "1.438083529472351\n",
      "1.40706467628479\n",
      "1.376928687095642\n",
      "1.3476636409759521\n",
      "1.3192418813705444\n",
      "1.2916191816329956\n",
      "1.264732003211975\n",
      "1.2385015487670898\n",
      "1.2128398418426514\n",
      "1.1876558065414429\n",
      "1.1628614664077759\n",
      "1.1383739709854126\n",
      "1.1141186952590942\n",
      "1.0900306701660156\n",
      "1.0660560131072998\n",
      "1.0421522855758667\n",
      "1.0182883739471436\n",
      "0.9944431185722351\n",
      "0.970605194568634\n",
      "0.9467710852622986\n",
      "0.922943651676178\n",
      "0.899131715297699\n",
      "0.8753486275672913\n",
      "0.8516116142272949\n",
      "0.8279396295547485\n",
      "0.8043543696403503\n",
      "0.7808781862258911\n",
      "0.7575339078903198\n"
     ]
    }
   ],
   "source": [
    "for _ in range(30):\n",
    "    optimizer.zero_grad()\n",
    "    outputs = model(x)\n",
    "    loss = criterion(outputs, y)\n",
    "    print(loss.item())\n",
    "    loss.backward()\n",
    "    optimizer.step()"
   ]
  },
  {
   "cell_type": "code",
   "execution_count": 8,
   "id": "b562b790-b1f8-4e0c-a1cc-2453ee3f3a1a",
   "metadata": {},
   "outputs": [
    {
     "name": "stdout",
     "output_type": "stream",
     "text": [
      "tensor([0.6061, 0.0861, 0.1472, 0.1606], grad_fn=<SelectBackward0>)\n",
      "tensor([0.0914, 0.4173, 0.3814, 0.1100], grad_fn=<SelectBackward0>)\n",
      "tensor([0.2779, 0.2460, 0.3520, 0.1240], grad_fn=<SelectBackward0>)\n",
      "tensor([0.4769, 0.2364, 0.1476, 0.1390], grad_fn=<SelectBackward0>)\n",
      "\n",
      "tensor([0.3557, 0.1594, 0.2711, 0.2138], grad_fn=<SelectBackward0>)\n",
      "tensor([0.0786, 0.7208, 0.1249, 0.0757], grad_fn=<SelectBackward0>)\n",
      "tensor([0.0522, 0.2527, 0.5380, 0.1571], grad_fn=<SelectBackward0>)\n",
      "tensor([0.6408, 0.1012, 0.1786, 0.0793], grad_fn=<SelectBackward0>)\n"
     ]
    }
   ],
   "source": [
    "outputs = model(x)\n",
    "o_softmax = torch.softmax(outputs, axis=1)\n",
    "\n",
    "print(o_softmax[0, :, 0])\n",
    "print(o_softmax[0, :, 1])\n",
    "print(o_softmax[0, :, 2])\n",
    "print(o_softmax[0, :, 3])\n",
    "\n",
    "print()\n",
    "print(o_softmax[1, :, 0])\n",
    "print(o_softmax[1, :, 1])\n",
    "print(o_softmax[1, :, 2])\n",
    "print(o_softmax[1, :, 3])"
   ]
  },
  {
   "cell_type": "code",
   "execution_count": 9,
   "id": "7cd76225-a340-42ea-8352-81cdf3c56e99",
   "metadata": {},
   "outputs": [
    {
     "data": {
      "text/plain": [
       "tensor([[0, 1, 2, 0],\n",
       "        [0, 1, 2, 0]])"
      ]
     },
     "execution_count": 9,
     "metadata": {},
     "output_type": "execute_result"
    }
   ],
   "source": [
    "# [[0, 1, 2, 0],\n",
    "#  [0, 1, 2, *]]\n",
    "\n",
    "o_softmax.argmax(axis=1)"
   ]
  },
  {
   "cell_type": "code",
   "execution_count": null,
   "id": "7e351ef5-c01e-47b9-8f2e-fbae9d0f2fa7",
   "metadata": {},
   "outputs": [],
   "source": []
  }
 ],
 "metadata": {
  "kernelspec": {
   "display_name": "Python 3 (ipykernel)",
   "language": "python",
   "name": "python3"
  },
  "language_info": {
   "codemirror_mode": {
    "name": "ipython",
    "version": 3
   },
   "file_extension": ".py",
   "mimetype": "text/x-python",
   "name": "python",
   "nbconvert_exporter": "python",
   "pygments_lexer": "ipython3",
   "version": "3.12.4"
  }
 },
 "nbformat": 4,
 "nbformat_minor": 5
}
