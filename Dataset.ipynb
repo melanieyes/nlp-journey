{
 "cells": [
  {
   "cell_type": "markdown",
   "id": "9e400dd8-f333-4b5b-8e33-f659beb3f80e",
   "metadata": {},
   "source": [
    "## Dataset"
   ]
  },
  {
   "cell_type": "code",
   "execution_count": 1,
   "id": "0ef90857-5ae9-47e9-8a4c-7fa27f197117",
   "metadata": {},
   "outputs": [
    {
     "name": "stdout",
     "output_type": "stream",
     "text": [
      "['We are learning AI', 'AI is a CS topic']\n"
     ]
    },
    {
     "name": "stderr",
     "output_type": "stream",
     "text": [
      "/Users/quangvinh/miniconda3/envs/torchenv/lib/python3.12/site-packages/transformers/tokenization_utils_base.py:1601: FutureWarning: `clean_up_tokenization_spaces` was not set. It will be set to `True` by default. This behavior will be depracted in transformers v4.45, and will be then set to `False` by default. For more details check this issue: https://github.com/huggingface/transformers/issues/31884\n",
      "  warnings.warn(\n"
     ]
    }
   ],
   "source": [
    "import torch\n",
    "import torch.nn as nn\n",
    "from torch.utils.data import Dataset\n",
    "from transformers import AutoTokenizer\n",
    "\n",
    "tokenizer = AutoTokenizer.from_pretrained(\"bert-base-uncased\")\n",
    "sequence_length = 5\n",
    "\n",
    "sample1 = 'We are learning AI'\n",
    "sample2 = 'AI is a CS topic'\n",
    "sentences = [sample1, sample2]\n",
    "labels = [0, 1]\n",
    "print(sentences)"
   ]
  },
  {
   "cell_type": "code",
   "execution_count": 2,
   "id": "cb0849bd-b897-4fb6-8f04-17a0cc2cbf6c",
   "metadata": {},
   "outputs": [],
   "source": [
    "from torch.utils.data import Dataset\n",
    "\n",
    "class MyDataset(Dataset):\n",
    "    def __init__(self, sentences, labels, tokenizer, max_len):\n",
    "        super().__init__()\n",
    "        self.sentences = sentences\n",
    "        self.labels = labels\n",
    "        self.tokenizer = tokenizer\n",
    "        self.max_len = max_len\n",
    "\n",
    "    def __len__(self):\n",
    "        return len(self.sentences)\n",
    "    \n",
    "    def __getitem__(self, idx):\n",
    "        sentence = self.sentences[idx]\n",
    "        sentence_label = self.labels[idx]\n",
    "\n",
    "        tokens = sentence.split()\n",
    "        tokens = self.tokenizer.convert_tokens_to_ids(tokens)\n",
    "        tokens = self.pad_and_truncate(tokens)\n",
    "\n",
    "        return tokens, sentence_label\n",
    "    \n",
    "    def pad_and_truncate(self, tokens): \n",
    "        pad_id = self.tokenizer.pad_token_id\n",
    "        if len(tokens) < self.max_len:\n",
    "            padded_tokens = tokens + [pad_id] * (self.max_len - len(tokens))            \n",
    "        else:\n",
    "            padded_tokens = tokens[:self.max_len]\n",
    "            \n",
    "        return torch.tensor(padded_tokens)"
   ]
  },
  {
   "cell_type": "code",
   "execution_count": 3,
   "id": "e1bfe49f-19bf-401f-95d7-c30b435b9a2a",
   "metadata": {},
   "outputs": [],
   "source": [
    "from torch.utils.data import DataLoader\n",
    "\n",
    "train_set = MyDataset(sentences, labels, tokenizer, sequence_length)\n",
    "\n",
    "batch_size = 1\n",
    "train_loader = DataLoader(train_set, batch_size)"
   ]
  },
  {
   "cell_type": "code",
   "execution_count": 4,
   "id": "c69df00f-abe3-4f79-8fbe-9615aab3041c",
   "metadata": {},
   "outputs": [
    {
     "name": "stdout",
     "output_type": "stream",
     "text": [
      "tensor([[ 100, 2024, 4083,  100,    0]])\n",
      "tensor([0])\n",
      "tensor([[ 100, 2003, 1037,  100, 8476]])\n",
      "tensor([1])\n"
     ]
    }
   ],
   "source": [
    "for x,y in train_loader:\n",
    "    print(x)\n",
    "    print(y)"
   ]
  },
  {
   "cell_type": "code",
   "execution_count": null,
   "id": "7aac9981-c23c-40a8-983d-ac586248089d",
   "metadata": {},
   "outputs": [],
   "source": []
  },
  {
   "cell_type": "markdown",
   "id": "0c849846-559d-4186-a18a-e3fc97476ccd",
   "metadata": {},
   "source": [
    "## Embedding"
   ]
  },
  {
   "cell_type": "code",
   "execution_count": 5,
   "id": "ccfc479f-5c26-4045-8c03-209e1d4cf791",
   "metadata": {},
   "outputs": [
    {
     "name": "stdout",
     "output_type": "stream",
     "text": [
      "Embedding(8, 4)\n"
     ]
    }
   ],
   "source": [
    "import torch.nn as nn\n",
    "\n",
    "embedding = nn.Embedding(8, 4)\n",
    "print(embedding)"
   ]
  },
  {
   "cell_type": "code",
   "execution_count": 6,
   "id": "91752045-39cc-445c-b404-363f3960dbdf",
   "metadata": {},
   "outputs": [
    {
     "name": "stdout",
     "output_type": "stream",
     "text": [
      "Parameter containing:\n",
      "tensor([[ 0.5988, -0.1354, -0.0097, -1.8604],\n",
      "        [-1.4412,  0.8351, -0.2374, -1.1283],\n",
      "        [ 0.0346, -2.3051,  0.9996,  0.1789],\n",
      "        [ 0.0858, -1.0797, -1.2667, -0.3157],\n",
      "        [-0.2618, -1.1648, -0.3752, -0.5289],\n",
      "        [ 0.2459, -0.5419,  0.7793, -0.3084],\n",
      "        [-0.8312, -0.7859,  1.2632, -0.9244],\n",
      "        [ 0.1343,  0.4508, -2.3906, -1.1909]], requires_grad=True)\n"
     ]
    }
   ],
   "source": [
    "print(embedding.weight)"
   ]
  },
  {
   "cell_type": "code",
   "execution_count": 7,
   "id": "21cd0037-0641-4d9d-a3ea-a868288499f2",
   "metadata": {},
   "outputs": [
    {
     "name": "stdout",
     "output_type": "stream",
     "text": [
      "tensor([[ 0.5988, -0.1354, -0.0097, -1.8604],\n",
      "        [ 0.0858, -1.0797, -1.2667, -0.3157],\n",
      "        [-0.8312, -0.7859,  1.2632, -0.9244],\n",
      "        [-1.4412,  0.8351, -0.2374, -1.1283],\n",
      "        [ 0.5988, -0.1354, -0.0097, -1.8604]], grad_fn=<EmbeddingBackward0>)\n"
     ]
    }
   ],
   "source": [
    "input1 = torch.tensor([0, 3, 6, 1, 0], dtype=torch.long)\n",
    "output1 = embedding(input1)\n",
    "print(output1)"
   ]
  },
  {
   "cell_type": "code",
   "execution_count": null,
   "id": "aed54eaa",
   "metadata": {},
   "outputs": [],
   "source": []
  }
 ],
 "metadata": {
  "kernelspec": {
   "display_name": "Python 3 (ipykernel)",
   "language": "python",
   "name": "python3"
  },
  "language_info": {
   "codemirror_mode": {
    "name": "ipython",
    "version": 3
   },
   "file_extension": ".py",
   "mimetype": "text/x-python",
   "name": "python",
   "nbconvert_exporter": "python",
   "pygments_lexer": "ipython3",
   "version": "3.12.4"
  }
 },
 "nbformat": 4,
 "nbformat_minor": 5
}
