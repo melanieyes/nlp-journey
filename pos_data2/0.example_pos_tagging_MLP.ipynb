{
 "cells": [
  {
   "cell_type": "markdown",
   "id": "7efe5b00-cda0-4c3f-9cbc-6fd590ebb4a6",
   "metadata": {},
   "source": [
    "## Data"
   ]
  },
  {
   "cell_type": "code",
   "execution_count": 1,
   "id": "22382432-34a8-474b-9519-af1168597ea1",
   "metadata": {},
   "outputs": [],
   "source": [
    "import torch\n",
    "import torch.nn as nn\n",
    "import torchtext; torchtext.disable_torchtext_deprecation_warning()\n",
    "from torchtext.data.utils import get_tokenizer\n",
    "from torchtext.vocab import build_vocab_from_iterator\n",
    "\n",
    "corpus = [\n",
    "    \"i like cats and dogs\",\n",
    "    \"books are expensive\"    \n",
    "]\n",
    "data_size = len(corpus)\n",
    "\n",
    "# 0: noun/pronoun - 1: verb - others - 2\n",
    "labels = [[0, 1, 0, 2, 0],\n",
    "          [0, 1, 2]]\n",
    "\n",
    "# Define the max vocabulary size and sequence length\n",
    "vocab_size = 10\n",
    "sequence_length = 5"
   ]
  },
  {
   "cell_type": "code",
   "execution_count": 2,
   "id": "2726650a-52ef-4150-9b09-0071d0ce2a31",
   "metadata": {},
   "outputs": [
    {
     "data": {
      "text/plain": [
       "{'dogs': 6,\n",
       " 'books': 4,\n",
       " 'like': 9,\n",
       " 'i': 8,\n",
       " 'cats': 5,\n",
       " 'are': 3,\n",
       " 'expensive': 7,\n",
       " 'and': 2,\n",
       " '<pad>': 1,\n",
       " '<unk>': 0}"
      ]
     },
     "execution_count": 2,
     "metadata": {},
     "output_type": "execute_result"
    }
   ],
   "source": [
    "# Define tokenizer function\n",
    "tokenizer = get_tokenizer('basic_english')\n",
    "\n",
    "# Create a function to yield list of tokens\n",
    "def yield_tokens(examples):\n",
    "    for text in examples:\n",
    "        yield tokenizer(text)\n",
    "\n",
    "# Create vocabulary\n",
    "vocab = build_vocab_from_iterator(yield_tokens(corpus),\n",
    "                                  max_tokens=vocab_size,\n",
    "                                  specials=[\"<unk>\", \"<pad>\"])\n",
    "vocab.set_default_index(vocab[\"<unk>\"])\n",
    "vocab.get_stoi()"
   ]
  },
  {
   "cell_type": "code",
   "execution_count": 3,
   "id": "3192fcd6-d411-4312-afcd-88fe4e64a8b9",
   "metadata": {},
   "outputs": [],
   "source": [
    "# Tokenize and numericalize your samples\n",
    "def vectorize(text, vocab, sequence_length, sequence_label):\n",
    "    tokens = tokenizer(text)\n",
    "    \n",
    "    token_ids = [vocab[token] for token in tokens]    \n",
    "    token_ids = token_ids + [vocab[\"<pad>\"]] * (sequence_length - len(tokens))\n",
    "    sequence_label = sequence_label + [3] * (sequence_length - len(tokens))\n",
    "    \n",
    "    return torch.tensor(token_ids, dtype=torch.long), torch.tensor(sequence_label, dtype=torch.long)\n",
    "\n",
    "# Vectorize the samples\n",
    "sentence_vecs = []\n",
    "label_vecs = []\n",
    "for sentence, labels in zip(corpus, labels):\n",
    "    sentence_vec, labels_vec = vectorize(sentence, vocab, sequence_length, labels)\n",
    "    sentence_vecs.append(sentence_vec)\n",
    "    label_vecs.append(labels_vec)"
   ]
  },
  {
   "cell_type": "code",
   "execution_count": 4,
   "id": "c1189966-b5d0-4bbe-9805-712e206b533c",
   "metadata": {},
   "outputs": [
    {
     "name": "stdout",
     "output_type": "stream",
     "text": [
      "tensor([8, 9, 5, 2, 6])\n",
      "tensor([4, 3, 7, 1, 1])\n"
     ]
    }
   ],
   "source": [
    "for v in sentence_vecs:\n",
    "    print(v)"
   ]
  },
  {
   "cell_type": "code",
   "execution_count": 5,
   "id": "e3e40856-0cc4-4f25-b704-05e9d4aaeb95",
   "metadata": {},
   "outputs": [
    {
     "name": "stdout",
     "output_type": "stream",
     "text": [
      "tensor([0, 1, 0, 2, 0])\n",
      "tensor([0, 1, 2, 3, 3])\n"
     ]
    }
   ],
   "source": [
    "for v in label_vecs:\n",
    "    print(v)"
   ]
  },
  {
   "cell_type": "code",
   "execution_count": null,
   "id": "5de2a679-494b-458d-b271-b10db85a2b70",
   "metadata": {},
   "outputs": [],
   "source": []
  },
  {
   "cell_type": "markdown",
   "id": "cd4c5571-1104-44a2-a066-2118f4861e9a",
   "metadata": {},
   "source": [
    "## Model"
   ]
  },
  {
   "cell_type": "code",
   "execution_count": 6,
   "id": "2c8843b2-83e1-408f-b9d1-0f7983cd7c59",
   "metadata": {},
   "outputs": [
    {
     "name": "stdout",
     "output_type": "stream",
     "text": [
      "torch.Size([1, 4, 5])\n"
     ]
    }
   ],
   "source": [
    "class POS_Model(nn.Module):\n",
    "    def __init__(self, vocab_size, num_classes):\n",
    "        super().__init__()\n",
    "        self.embedding = nn.Embedding(vocab_size, 4)\n",
    "        self.fc = nn.Linear(4, num_classes)\n",
    "\n",
    "    def forward(self, x):\n",
    "        x = self.embedding(x)\n",
    "        x = self.fc(x)\n",
    "        return x.permute(0, 2, 1)\n",
    "\n",
    "model = POS_Model(vocab_size, 4)\n",
    "\n",
    "# test\n",
    "data = torch.tensor([[3, 2, 3, 2, 1]]).long()\n",
    "output = model(data)\n",
    "print(output.shape)"
   ]
  },
  {
   "cell_type": "code",
   "execution_count": null,
   "id": "f6a83ea9-358e-4cd0-8324-392faddfa6b6",
   "metadata": {},
   "outputs": [],
   "source": []
  },
  {
   "cell_type": "markdown",
   "id": "b547154b-2223-4e4f-a875-119ec33f9812",
   "metadata": {},
   "source": [
    "## Train with full data"
   ]
  },
  {
   "cell_type": "code",
   "execution_count": 7,
   "id": "32ed2deb-b3e3-4a70-8b85-c575001fc213",
   "metadata": {},
   "outputs": [],
   "source": [
    "criterion = nn.CrossEntropyLoss(ignore_index=3)\n",
    "optimizer = torch.optim.Adam(model.parameters(), lr=0.01)"
   ]
  },
  {
   "cell_type": "code",
   "execution_count": 8,
   "id": "cbee29f3-5988-4f5f-a9f1-fb13f137a91d",
   "metadata": {},
   "outputs": [
    {
     "name": "stdout",
     "output_type": "stream",
     "text": [
      "1.9935970306396484\n",
      "1.947340726852417\n",
      "1.9019087553024292\n",
      "1.8572534322738647\n",
      "1.8133065700531006\n",
      "1.7700202465057373\n",
      "1.7273814678192139\n",
      "1.6854008436203003\n",
      "1.6440976858139038\n",
      "1.603490948677063\n",
      "1.563600778579712\n",
      "1.5244474411010742\n",
      "1.4860503673553467\n",
      "1.4484264850616455\n",
      "1.4115923643112183\n",
      "1.3755643367767334\n",
      "1.3403557538986206\n",
      "1.305978536605835\n",
      "1.2724426984786987\n",
      "1.2397559881210327\n",
      "1.2079236507415771\n",
      "1.1769479513168335\n",
      "1.1468288898468018\n",
      "1.11756432056427\n",
      "1.0891485214233398\n",
      "1.0615731477737427\n",
      "1.0348272323608398\n",
      "1.0088964700698853\n",
      "0.9837644100189209\n",
      "0.9594123959541321\n",
      "0.9358193874359131\n",
      "0.9129630923271179\n",
      "0.8908193707466125\n",
      "0.869363009929657\n",
      "0.84856778383255\n",
      "0.8284067511558533\n",
      "0.8088524341583252\n",
      "0.7898773550987244\n",
      "0.7714535593986511\n",
      "0.7535534501075745\n",
      "0.7361491322517395\n",
      "0.7192135453224182\n",
      "0.7027193903923035\n",
      "0.6866397261619568\n",
      "0.6709482669830322\n",
      "0.6556193232536316\n",
      "0.6406277418136597\n",
      "0.625948965549469\n",
      "0.6115602254867554\n",
      "0.5974390506744385\n"
     ]
    }
   ],
   "source": [
    "input_data = torch.tensor( [[8, 9, 5, 2, 6],\n",
    "                            [4, 3, 7, 1, 1]], dtype=torch.long)\n",
    "label_data = torch.tensor([[0, 1, 0, 2, 0],\n",
    "                           [0, 1, 2, 3, 3]], dtype=torch.long)\n",
    "\n",
    "for _ in range(50):\n",
    "    optimizer.zero_grad()\n",
    "    outputs = model(input_data)\n",
    "    loss = criterion(outputs, label_data)\n",
    "    print(loss.item())\n",
    "    loss.backward()\n",
    "    optimizer.step()"
   ]
  },
  {
   "cell_type": "code",
   "execution_count": 9,
   "id": "b562b790-b1f8-4e0c-a1cc-2453ee3f3a1a",
   "metadata": {},
   "outputs": [
    {
     "name": "stdout",
     "output_type": "stream",
     "text": [
      "[0.92500716 0.01751258 0.01810668 0.03937361]\n",
      "[0.2644777  0.26781186 0.37938598 0.08832446]\n",
      "[0.6092647  0.05398951 0.29893586 0.03780996]\n",
      "[0.13897136 0.33722597 0.45865643 0.06514626]\n",
      "[0.85315484 0.04864125 0.03080858 0.06739539]\n",
      "\n",
      "[0.5946117  0.12447325 0.1937442  0.08717094]\n",
      "[0.04731185 0.6562438  0.21063732 0.08580703]\n",
      "[0.21985601 0.29077664 0.40728015 0.08208719]\n",
      "[0.09596418 0.28715825 0.5516926  0.06518501]\n",
      "[0.09596418 0.28715825 0.5516926  0.06518501]\n"
     ]
    }
   ],
   "source": [
    "outputs = model(input_data)\n",
    "o_softmax = torch.softmax(outputs, axis=1)\n",
    "\n",
    "print(o_softmax[0, :, 0].detach().numpy())\n",
    "print(o_softmax[0, :, 1].detach().numpy())\n",
    "print(o_softmax[0, :, 2].detach().numpy())\n",
    "print(o_softmax[0, :, 3].detach().numpy())\n",
    "print(o_softmax[0, :, 4].detach().numpy())\n",
    "\n",
    "print()\n",
    "print(o_softmax[1, :, 0].detach().numpy())\n",
    "print(o_softmax[1, :, 1].detach().numpy())\n",
    "print(o_softmax[1, :, 2].detach().numpy())\n",
    "print(o_softmax[1, :, 3].detach().numpy())\n",
    "print(o_softmax[1, :, 4].detach().numpy())"
   ]
  },
  {
   "cell_type": "code",
   "execution_count": 10,
   "id": "7cd76225-a340-42ea-8352-81cdf3c56e99",
   "metadata": {},
   "outputs": [
    {
     "data": {
      "text/plain": [
       "tensor([[0, 2, 0, 2, 0],\n",
       "        [0, 1, 2, 2, 2]])"
      ]
     },
     "execution_count": 10,
     "metadata": {},
     "output_type": "execute_result"
    }
   ],
   "source": [
    "# labels = [[0, 1, 0, 2, 0],\n",
    "#           [0, 1, 2, *, *]]\n",
    "\n",
    "o_softmax.argmax(axis=1)"
   ]
  },
  {
   "cell_type": "code",
   "execution_count": null,
   "id": "7e351ef5-c01e-47b9-8f2e-fbae9d0f2fa7",
   "metadata": {},
   "outputs": [],
   "source": []
  }
 ],
 "metadata": {
  "kernelspec": {
   "display_name": "Python 3 (ipykernel)",
   "language": "python",
   "name": "python3"
  },
  "language_info": {
   "codemirror_mode": {
    "name": "ipython",
    "version": 3
   },
   "file_extension": ".py",
   "mimetype": "text/x-python",
   "name": "python",
   "nbconvert_exporter": "python",
   "pygments_lexer": "ipython3",
   "version": "3.12.4"
  }
 },
 "nbformat": 4,
 "nbformat_minor": 5
}
