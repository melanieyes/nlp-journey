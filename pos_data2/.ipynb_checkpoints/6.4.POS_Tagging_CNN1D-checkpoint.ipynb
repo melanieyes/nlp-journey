{
 "cells": [
  {
   "cell_type": "code",
   "execution_count": 1,
   "metadata": {},
   "outputs": [],
   "source": [
    "from typing import List\n",
    "import numpy as np\n",
    "import torch\n",
    "import torch.nn as nn\n",
    "import torch.nn.functional as F"
   ]
  },
  {
   "cell_type": "markdown",
   "metadata": {},
   "source": [
    "## 1. Data Preparation"
   ]
  },
  {
   "cell_type": "code",
   "execution_count": 2,
   "metadata": {},
   "outputs": [],
   "source": [
    "from datasets import load_dataset\n",
    "\n",
    "dataset = load_dataset(\"conll2003\")"
   ]
  },
  {
   "cell_type": "code",
   "execution_count": 3,
   "metadata": {},
   "outputs": [
    {
     "data": {
      "text/plain": [
       "DatasetDict({\n",
       "    train: Dataset({\n",
       "        features: ['tokens', 'pos_tags'],\n",
       "        num_rows: 14041\n",
       "    })\n",
       "    validation: Dataset({\n",
       "        features: ['tokens', 'pos_tags'],\n",
       "        num_rows: 3250\n",
       "    })\n",
       "    test: Dataset({\n",
       "        features: ['tokens', 'pos_tags'],\n",
       "        num_rows: 3453\n",
       "    })\n",
       "})"
      ]
     },
     "execution_count": 3,
     "metadata": {},
     "output_type": "execute_result"
    }
   ],
   "source": [
    "dataset = dataset.remove_columns([\"id\", \"chunk_tags\", \"ner_tags\"])\n",
    "dataset"
   ]
  },
  {
   "cell_type": "code",
   "execution_count": 4,
   "metadata": {},
   "outputs": [],
   "source": [
    "dataset_train = dataset[\"train\"]\n",
    "dataset_val = dataset[\"validation\"]\n",
    "dataset_test = dataset[\"test\"]"
   ]
  },
  {
   "cell_type": "code",
   "execution_count": 5,
   "metadata": {},
   "outputs": [],
   "source": [
    "from transformers import AutoTokenizer\n",
    "\n",
    "tokenizer = AutoTokenizer.from_pretrained(\"bert-base-uncased\")\n",
    "MAX_LEN = 113"
   ]
  },
  {
   "cell_type": "code",
   "execution_count": 6,
   "metadata": {},
   "outputs": [],
   "source": [
    "from torch.utils.data import Dataset\n",
    "\n",
    "class PosTagging_Dataset(Dataset):\n",
    "    def __init__(self, dataset, tokenizer):\n",
    "        super().__init__()\n",
    "        self.tokens = dataset[\"tokens\"]\n",
    "        self.labels = dataset[\"pos_tags\"]\n",
    "        self.tokenizer = tokenizer\n",
    "        self.max_len = MAX_LEN\n",
    "\n",
    "    def __len__(self):\n",
    "        return len(self.tokens)\n",
    "    \n",
    "    def __getitem__(self, idx):\n",
    "        input_token = self.tokens[idx]\n",
    "        label_token = self.labels[idx]\n",
    "\n",
    "        input_token = self.tokenizer.convert_tokens_to_ids(input_token)\n",
    "        input_ids, labels = self.pad_and_truncate(input_token, label_token)\n",
    "\n",
    "        return input_ids, labels\n",
    "    \n",
    "    def pad_and_truncate(self, sequence_token: List[int], sequence_label: List[int]): \n",
    "        pad_id = self.tokenizer.pad_token_id\n",
    "        if len(sequence_token) < self.max_len:\n",
    "            padded_sequence_token = sequence_token + [pad_id] * (self.max_len - len(sequence_token))\n",
    "            padded_sequence_label = sequence_label + [47] * (self.max_len - len(sequence_label))\n",
    "        else:\n",
    "            padded_sequence_token = sequence_token[:self.max_len]\n",
    "            padded_sequence_label = sequence_label[:self.max_len]\n",
    "            \n",
    "        return torch.tensor(padded_sequence_token), torch.tensor(padded_sequence_label)"
   ]
  },
  {
   "cell_type": "code",
   "execution_count": 7,
   "metadata": {},
   "outputs": [],
   "source": [
    "train_set = PosTagging_Dataset(dataset_train, tokenizer)\n",
    "val_set = PosTagging_Dataset(dataset_val, tokenizer)\n",
    "test_set = PosTagging_Dataset(dataset_test, tokenizer)"
   ]
  },
  {
   "cell_type": "code",
   "execution_count": 8,
   "metadata": {},
   "outputs": [],
   "source": [
    "from torch.utils.data import DataLoader\n",
    "batch_size = 512\n",
    "\n",
    "train_loader = DataLoader(train_set, batch_size)\n",
    "val_loader = DataLoader(val_set, batch_size)\n",
    "test_loader = DataLoader(test_set, batch_size)"
   ]
  },
  {
   "cell_type": "markdown",
   "metadata": {},
   "source": [
    "## 2. Model"
   ]
  },
  {
   "cell_type": "code",
   "execution_count": 9,
   "metadata": {},
   "outputs": [],
   "source": [
    "class POS_Model(nn.Module):\n",
    "    def __init__(self, vocab_size, emb_dim, out_channels, num_classes):\n",
    "        super().__init__()\n",
    "        self.embedding = nn.Embedding(vocab_size, emb_dim)\n",
    "        self.conv1d = nn.Conv1d(emb_dim, out_channels, kernel_size=5, padding='same')\n",
    "        self.fc = nn.Linear(out_channels, num_classes)\n",
    "\n",
    "    def forward(self, x):\n",
    "        x = self.embedding(x)\n",
    "\n",
    "        x = x.permute(0, 2, 1)\n",
    "        x = self.conv1d(x)\n",
    "\n",
    "        x = x.permute(0, 2, 1)\n",
    "        x = self.fc(x)\n",
    "        \n",
    "        return x.permute(0, 2, 1)"
   ]
  },
  {
   "cell_type": "code",
   "execution_count": 10,
   "metadata": {},
   "outputs": [],
   "source": [
    "emb_dim = 256\n",
    "out_channels = 256\n",
    "vocab_size = len(tokenizer)\n",
    "num_classes = 47 + 1\n",
    "\n",
    "# model\n",
    "model = POS_Model(vocab_size, emb_dim, out_channels, num_classes)"
   ]
  },
  {
   "cell_type": "code",
   "execution_count": 11,
   "metadata": {},
   "outputs": [
    {
     "data": {
      "text/plain": [
       "==========================================================================================\n",
       "Layer (type:depth-idx)                   Output Shape              Param #\n",
       "==========================================================================================\n",
       "POS_Model                                [512, 48, 113]            --\n",
       "├─Embedding: 1-1                         [512, 113, 256]           7,813,632\n",
       "├─Conv1d: 1-2                            [512, 256, 113]           327,936\n",
       "├─Linear: 1-3                            [512, 113, 48]            12,336\n",
       "==========================================================================================\n",
       "Total params: 8,153,904\n",
       "Trainable params: 8,153,904\n",
       "Non-trainable params: 0\n",
       "Total mult-adds (G): 22.98\n",
       "==========================================================================================\n",
       "Input size (MB): 0.46\n",
       "Forward/backward pass size (MB): 259.19\n",
       "Params size (MB): 32.62\n",
       "Estimated Total Size (MB): 292.27\n",
       "=========================================================================================="
      ]
     },
     "execution_count": 11,
     "metadata": {},
     "output_type": "execute_result"
    }
   ],
   "source": [
    "from torchinfo import  summary\n",
    "\n",
    "input_data = torch.randint(low=0, high=vocab_size-1, size=(512, MAX_LEN))\n",
    "\n",
    "summary(model, input_data = input_data)"
   ]
  },
  {
   "cell_type": "markdown",
   "metadata": {},
   "source": [
    "### 3. Evaluate"
   ]
  },
  {
   "cell_type": "code",
   "execution_count": 12,
   "metadata": {},
   "outputs": [],
   "source": [
    "def evaluate(model, test_loader, criterion, device):\n",
    "    model.eval()\n",
    "    test_loss = 0.0\n",
    "    correct = 0\n",
    "    total = 0\n",
    "    with torch.no_grad(): \n",
    "        for inputs, labels in test_loader:\n",
    "            inputs, labels = inputs.to(device), labels.to(device)\n",
    "\n",
    "            outputs = model(inputs)\n",
    "            loss = criterion(outputs, labels)\n",
    "            _, predicted = torch.max(outputs, 1)\n",
    "\n",
    "            total += (labels!=47).sum().item()\n",
    "            test_loss += loss.item()\n",
    "            correct += torch.multiply(predicted == labels, labels!=47).sum().item()\n",
    "\n",
    "    test_loss = test_loss / len(test_loader)\n",
    "    accuracy = 100* correct / total\n",
    "\n",
    "    return test_loss, accuracy"
   ]
  },
  {
   "cell_type": "markdown",
   "metadata": {},
   "source": [
    "### 4. Train model"
   ]
  },
  {
   "cell_type": "code",
   "execution_count": 13,
   "metadata": {},
   "outputs": [],
   "source": [
    "device = 'cuda' if torch.cuda.is_available() else 'cpu'\n",
    "EPOCHS = 50\n",
    "LR = 1e-3\n",
    "criterion = nn.CrossEntropyLoss()"
   ]
  },
  {
   "cell_type": "code",
   "execution_count": 14,
   "metadata": {},
   "outputs": [],
   "source": [
    "def train_model(model):\n",
    "    hist = {\n",
    "        \"train_loss\": [],\n",
    "        \"train_accuracy\": [],\n",
    "        \"val_loss\": [],\n",
    "        \"val_accuracy\": []\n",
    "    }\n",
    "    optimizer = torch.optim.Adam(model.parameters(), lr=LR)\n",
    "    model.to(device)\n",
    "    for epoch in range(EPOCHS):\n",
    "        model.train()\n",
    "        running_loss = 0.0\n",
    "        running_correct = 0\n",
    "        total = 0\n",
    "        for inputs, labels in train_loader:\n",
    "            inputs, labels = inputs.to(device), labels.to(device)\n",
    "\n",
    "            optimizer.zero_grad()\n",
    "            outputs = model(inputs)\n",
    "            loss = criterion(outputs, labels)\n",
    "            running_loss += loss.item()\n",
    "\n",
    "            _, predicted = torch.max(outputs, 1)\n",
    "            total += (labels!=47).sum().item()\n",
    "            running_correct += torch.multiply(predicted == labels, labels!=47).sum().item()\n",
    "\n",
    "            loss.backward()\n",
    "            optimizer.step()\n",
    "\n",
    "        epoch_loss =  running_loss / len(train_loader)\n",
    "        epoch_accuracy = 100* running_correct / total\n",
    "        val_loss, val_accuracy = evaluate(model, val_loader, criterion, device)\n",
    "\n",
    "        print(f\"Epoch [{epoch + 1}/{EPOCHS}], Loss: {epoch_loss:.4f}, Accuracy: {epoch_accuracy:.2f}%, Val loss: {val_loss:.4f}, Val Accuracy: {val_accuracy:.2f}%\")\n",
    "\n",
    "        hist[\"train_loss\"].append(epoch_loss)\n",
    "        hist[\"train_accuracy\"].append(epoch_accuracy)\n",
    "        hist[\"val_loss\"].append(val_loss)\n",
    "        hist[\"val_accuracy\"].append(val_accuracy)\n",
    "    \n",
    "    return hist"
   ]
  },
  {
   "cell_type": "code",
   "execution_count": 15,
   "metadata": {},
   "outputs": [
    {
     "name": "stdout",
     "output_type": "stream",
     "text": [
      "Training RNN-Conv_ks1 model\n",
      "Epoch [1/50], Loss: 0.5116, Accuracy: 32.99%, Val loss: 0.2932, Val Accuracy: 54.00%\n",
      "Epoch [2/50], Loss: 0.2130, Accuracy: 59.46%, Val loss: 0.2078, Val Accuracy: 63.21%\n",
      "Epoch [3/50], Loss: 0.1669, Accuracy: 66.61%, Val loss: 0.1746, Val Accuracy: 68.29%\n",
      "Epoch [4/50], Loss: 0.1423, Accuracy: 70.85%, Val loss: 0.1526, Val Accuracy: 71.75%\n",
      "Epoch [5/50], Loss: 0.1254, Accuracy: 73.94%, Val loss: 0.1371, Val Accuracy: 74.33%\n",
      "Epoch [6/50], Loss: 0.1126, Accuracy: 76.32%, Val loss: 0.1253, Val Accuracy: 76.24%\n",
      "Epoch [7/50], Loss: 0.1023, Accuracy: 78.35%, Val loss: 0.1159, Val Accuracy: 77.90%\n",
      "Epoch [8/50], Loss: 0.0939, Accuracy: 80.17%, Val loss: 0.1080, Val Accuracy: 79.43%\n",
      "Epoch [9/50], Loss: 0.0867, Accuracy: 81.68%, Val loss: 0.1014, Val Accuracy: 80.62%\n",
      "Epoch [10/50], Loss: 0.0806, Accuracy: 82.92%, Val loss: 0.0959, Val Accuracy: 81.69%\n",
      "Epoch [11/50], Loss: 0.0754, Accuracy: 84.04%, Val loss: 0.0913, Val Accuracy: 82.59%\n",
      "Epoch [12/50], Loss: 0.0709, Accuracy: 84.97%, Val loss: 0.0875, Val Accuracy: 83.28%\n",
      "Epoch [13/50], Loss: 0.0672, Accuracy: 85.80%, Val loss: 0.0843, Val Accuracy: 83.84%\n",
      "Epoch [14/50], Loss: 0.0639, Accuracy: 86.45%, Val loss: 0.0818, Val Accuracy: 84.35%\n",
      "Epoch [15/50], Loss: 0.0611, Accuracy: 87.05%, Val loss: 0.0798, Val Accuracy: 84.70%\n",
      "Epoch [16/50], Loss: 0.0588, Accuracy: 87.53%, Val loss: 0.0782, Val Accuracy: 85.04%\n",
      "Epoch [17/50], Loss: 0.0567, Accuracy: 87.93%, Val loss: 0.0769, Val Accuracy: 85.29%\n",
      "Epoch [18/50], Loss: 0.0549, Accuracy: 88.28%, Val loss: 0.0758, Val Accuracy: 85.49%\n",
      "Epoch [19/50], Loss: 0.0533, Accuracy: 88.61%, Val loss: 0.0750, Val Accuracy: 85.75%\n",
      "Epoch [20/50], Loss: 0.0519, Accuracy: 88.89%, Val loss: 0.0743, Val Accuracy: 85.89%\n",
      "Epoch [21/50], Loss: 0.0506, Accuracy: 89.13%, Val loss: 0.0738, Val Accuracy: 86.00%\n",
      "Epoch [22/50], Loss: 0.0495, Accuracy: 89.34%, Val loss: 0.0734, Val Accuracy: 86.08%\n",
      "Epoch [23/50], Loss: 0.0484, Accuracy: 89.51%, Val loss: 0.0730, Val Accuracy: 86.11%\n",
      "Epoch [24/50], Loss: 0.0475, Accuracy: 89.73%, Val loss: 0.0728, Val Accuracy: 86.19%\n",
      "Epoch [25/50], Loss: 0.0466, Accuracy: 89.92%, Val loss: 0.0726, Val Accuracy: 86.22%\n",
      "Epoch [26/50], Loss: 0.0458, Accuracy: 90.06%, Val loss: 0.0726, Val Accuracy: 86.25%\n",
      "Epoch [27/50], Loss: 0.0450, Accuracy: 90.21%, Val loss: 0.0725, Val Accuracy: 86.29%\n",
      "Epoch [28/50], Loss: 0.0443, Accuracy: 90.36%, Val loss: 0.0725, Val Accuracy: 86.30%\n",
      "Epoch [29/50], Loss: 0.0436, Accuracy: 90.51%, Val loss: 0.0726, Val Accuracy: 86.33%\n",
      "Epoch [30/50], Loss: 0.0430, Accuracy: 90.62%, Val loss: 0.0726, Val Accuracy: 86.35%\n",
      "Epoch [31/50], Loss: 0.0424, Accuracy: 90.73%, Val loss: 0.0728, Val Accuracy: 86.36%\n",
      "Epoch [32/50], Loss: 0.0418, Accuracy: 90.85%, Val loss: 0.0729, Val Accuracy: 86.42%\n",
      "Epoch [33/50], Loss: 0.0413, Accuracy: 90.98%, Val loss: 0.0731, Val Accuracy: 86.44%\n",
      "Epoch [34/50], Loss: 0.0407, Accuracy: 91.09%, Val loss: 0.0733, Val Accuracy: 86.45%\n",
      "Epoch [35/50], Loss: 0.0402, Accuracy: 91.18%, Val loss: 0.0736, Val Accuracy: 86.43%\n",
      "Epoch [36/50], Loss: 0.0397, Accuracy: 91.28%, Val loss: 0.0738, Val Accuracy: 86.41%\n",
      "Epoch [37/50], Loss: 0.0392, Accuracy: 91.38%, Val loss: 0.0741, Val Accuracy: 86.39%\n",
      "Epoch [38/50], Loss: 0.0388, Accuracy: 91.48%, Val loss: 0.0744, Val Accuracy: 86.37%\n",
      "Epoch [39/50], Loss: 0.0383, Accuracy: 91.58%, Val loss: 0.0748, Val Accuracy: 86.38%\n",
      "Epoch [40/50], Loss: 0.0379, Accuracy: 91.68%, Val loss: 0.0751, Val Accuracy: 86.34%\n",
      "Epoch [41/50], Loss: 0.0375, Accuracy: 91.76%, Val loss: 0.0755, Val Accuracy: 86.32%\n",
      "Epoch [42/50], Loss: 0.0371, Accuracy: 91.84%, Val loss: 0.0759, Val Accuracy: 86.34%\n",
      "Epoch [43/50], Loss: 0.0367, Accuracy: 91.93%, Val loss: 0.0763, Val Accuracy: 86.35%\n",
      "Epoch [44/50], Loss: 0.0363, Accuracy: 91.99%, Val loss: 0.0767, Val Accuracy: 86.35%\n",
      "Epoch [45/50], Loss: 0.0360, Accuracy: 92.08%, Val loss: 0.0771, Val Accuracy: 86.33%\n",
      "Epoch [46/50], Loss: 0.0356, Accuracy: 92.16%, Val loss: 0.0776, Val Accuracy: 86.30%\n",
      "Epoch [47/50], Loss: 0.0353, Accuracy: 92.23%, Val loss: 0.0780, Val Accuracy: 86.26%\n",
      "Epoch [48/50], Loss: 0.0349, Accuracy: 92.32%, Val loss: 0.0785, Val Accuracy: 86.25%\n",
      "Epoch [49/50], Loss: 0.0346, Accuracy: 92.38%, Val loss: 0.0790, Val Accuracy: 86.23%\n",
      "Epoch [50/50], Loss: 0.0343, Accuracy: 92.46%, Val loss: 0.0794, Val Accuracy: 86.18%\n"
     ]
    }
   ],
   "source": [
    "print(f\"Training RNN-Conv_ks1 model\")\n",
    "hist = train_model(model)"
   ]
  },
  {
   "cell_type": "markdown",
   "metadata": {},
   "source": [
    "### 5. Plot results"
   ]
  },
  {
   "cell_type": "code",
   "execution_count": 16,
   "metadata": {},
   "outputs": [
    {
     "data": {
      "image/png": "[encoded data removed]",
      "text/plain": [
       "<Figure size 640x480 with 1 Axes>"
      ]
     },
     "metadata": {},
     "output_type": "display_data"
    }
   ],
   "source": [
    "import matplotlib.pyplot as plt\n",
    "\n",
    "plt.plot(hist['train_accuracy'], label='train_accuracy')\n",
    "plt.plot(hist['val_accuracy'], label='val_accuracy')\n",
    "\n",
    "\n",
    "plt.title('model val accuracy')\n",
    "plt.ylabel('accuracy')\n",
    "plt.xlabel('epoch')\n",
    "plt.legend(['train_accuracy', 'val_accuracy' ], loc='lower right')\n",
    "plt.show()"
   ]
  },
  {
   "cell_type": "code",
   "execution_count": null,
   "metadata": {},
   "outputs": [],
   "source": []
  }
 ],
 "metadata": {
  "kernelspec": {
   "display_name": "Python 3 (ipykernel)",
   "language": "python",
   "name": "python3"
  },
  "language_info": {
   "codemirror_mode": {
    "name": "ipython",
    "version": 3
   },
   "file_extension": ".py",
   "mimetype": "text/x-python",
   "name": "python",
   "nbconvert_exporter": "python",
   "pygments_lexer": "ipython3",
   "version": "3.11.5"
  }
 },
 "nbformat": 4,
 "nbformat_minor": 4
}
