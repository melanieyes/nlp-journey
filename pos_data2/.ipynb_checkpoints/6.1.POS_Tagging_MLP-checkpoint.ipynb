{
 "cells": [
  {
   "cell_type": "code",
   "execution_count": 1,
   "metadata": {},
   "outputs": [],
   "source": [
    "from typing import List\n",
    "import torch\n",
    "import torch.nn as nn\n",
    "import torch.nn.functional as F"
   ]
  },
  {
   "cell_type": "markdown",
   "metadata": {},
   "source": [
    "## 1. Data Preparation"
   ]
  },
  {
   "cell_type": "markdown",
   "metadata": {},
   "source": [
    "### 1.1 Load data "
   ]
  },
  {
   "cell_type": "code",
   "execution_count": 2,
   "metadata": {},
   "outputs": [],
   "source": [
    "from datasets import load_dataset\n",
    "\n",
    "dataset = load_dataset(\"conll2003\")"
   ]
  },
  {
   "cell_type": "code",
   "execution_count": 3,
   "metadata": {},
   "outputs": [
    {
     "data": {
      "text/plain": [
       "DatasetDict({\n",
       "    train: Dataset({\n",
       "        features: ['tokens', 'pos_tags'],\n",
       "        num_rows: 14041\n",
       "    })\n",
       "    validation: Dataset({\n",
       "        features: ['tokens', 'pos_tags'],\n",
       "        num_rows: 3250\n",
       "    })\n",
       "    test: Dataset({\n",
       "        features: ['tokens', 'pos_tags'],\n",
       "        num_rows: 3453\n",
       "    })\n",
       "})"
      ]
     },
     "execution_count": 3,
     "metadata": {},
     "output_type": "execute_result"
    }
   ],
   "source": [
    "dataset = dataset.remove_columns([\"id\", \"chunk_tags\", \"ner_tags\"])\n",
    "dataset"
   ]
  },
  {
   "cell_type": "code",
   "execution_count": 4,
   "metadata": {},
   "outputs": [],
   "source": [
    "dataset_train = dataset[\"train\"]\n",
    "dataset_val = dataset[\"validation\"]\n",
    "dataset_test = dataset[\"test\"]"
   ]
  },
  {
   "cell_type": "code",
   "execution_count": 5,
   "metadata": {},
   "outputs": [],
   "source": [
    "from transformers import AutoTokenizer\n",
    "\n",
    "tokenizer = AutoTokenizer.from_pretrained(\"bert-base-uncased\")\n",
    "MAX_LEN = 113"
   ]
  },
  {
   "cell_type": "code",
   "execution_count": 6,
   "metadata": {},
   "outputs": [],
   "source": [
    "from torch.utils.data import Dataset\n",
    "\n",
    "class PosTagging_Dataset(Dataset):\n",
    "    def __init__(self, dataset, tokenizer):\n",
    "        super().__init__()\n",
    "        self.tokens = dataset[\"tokens\"]\n",
    "        self.labels = dataset[\"pos_tags\"]\n",
    "        self.tokenizer = tokenizer\n",
    "        self.max_len = MAX_LEN\n",
    "\n",
    "    def __len__(self):\n",
    "        return len(self.tokens)\n",
    "    \n",
    "    def __getitem__(self, idx):\n",
    "        input_token = self.tokens[idx]\n",
    "        label_token = self.labels[idx]\n",
    "\n",
    "        input_token = self.tokenizer.convert_tokens_to_ids(input_token)\n",
    "        input_ids, labels = self.pad_and_truncate(input_token, label_token)\n",
    "\n",
    "        return input_ids, labels\n",
    "    \n",
    "    def pad_and_truncate(self, sequence_token: List[int], sequence_label: List[int]): \n",
    "        pad_id = self.tokenizer.pad_token_id\n",
    "        if len(sequence_token) < self.max_len:\n",
    "            padded_sequence_token = sequence_token + [pad_id] * (self.max_len - len(sequence_token))\n",
    "            padded_sequence_label = sequence_label + [47] * (self.max_len - len(sequence_label))\n",
    "        else:\n",
    "            padded_sequence_token = sequence_token[:self.max_len]\n",
    "            padded_sequence_label = sequence_label[:self.max_len]\n",
    "            \n",
    "        return torch.tensor(padded_sequence_token), torch.tensor(padded_sequence_label)"
   ]
  },
  {
   "cell_type": "code",
   "execution_count": 7,
   "metadata": {},
   "outputs": [],
   "source": [
    "train_set = PosTagging_Dataset(dataset_train, tokenizer)\n",
    "val_set = PosTagging_Dataset(dataset_val, tokenizer)\n",
    "test_set = PosTagging_Dataset(dataset_test, tokenizer)"
   ]
  },
  {
   "cell_type": "code",
   "execution_count": 8,
   "metadata": {},
   "outputs": [],
   "source": [
    "from torch.utils.data import DataLoader\n",
    "batch_size = 512\n",
    "\n",
    "train_loader = DataLoader(train_set, batch_size)\n",
    "val_loader = DataLoader(val_set, batch_size)\n",
    "test_loader = DataLoader(test_set, batch_size)"
   ]
  },
  {
   "cell_type": "markdown",
   "metadata": {},
   "source": [
    "## 2. Model"
   ]
  },
  {
   "cell_type": "code",
   "execution_count": 9,
   "metadata": {},
   "outputs": [],
   "source": [
    "import torch.nn.functional as F\n",
    "\n",
    "class POS_Model(nn.Module):\n",
    "    def __init__(self, vocab_size, emb_dim, hidden_size, num_classes):\n",
    "        super().__init__()\n",
    "        self.embedding = nn.Embedding(vocab_size, emb_dim)\n",
    "        self.fc1 = nn.Linear(hidden_size, 2*hidden_size)\n",
    "        self.fc2 = nn.Linear(2*hidden_size, hidden_size)\n",
    "        self.fc3 = nn.Linear(hidden_size, num_classes)\n",
    "\n",
    "    def forward(self, x):\n",
    "        x = self.embedding(x)\n",
    "        x = F.relu(self.fc1(x))\n",
    "        x = F.relu(self.fc2(x))\n",
    "        x = self.fc3(x)\n",
    "        return x.permute(0, 2, 1)"
   ]
  },
  {
   "cell_type": "code",
   "execution_count": 10,
   "metadata": {},
   "outputs": [],
   "source": [
    "emb_dim = 512\n",
    "hidden_size = 512\n",
    "vocab_size = len(tokenizer)\n",
    "num_classes = 47+1\n",
    "\n",
    "model = POS_Model(vocab_size, emb_dim, hidden_size, num_classes)"
   ]
  },
  {
   "cell_type": "code",
   "execution_count": 11,
   "metadata": {},
   "outputs": [
    {
     "data": {
      "text/plain": [
       "==========================================================================================\n",
       "Layer (type:depth-idx)                   Output Shape              Param #\n",
       "==========================================================================================\n",
       "POS_Model                                [512, 48, 113]            --\n",
       "├─Embedding: 1-1                         [512, 113, 512]           15,627,264\n",
       "├─Linear: 1-2                            [512, 113, 1024]          525,312\n",
       "├─Linear: 1-3                            [512, 113, 512]           524,800\n",
       "├─Linear: 1-4                            [512, 113, 48]            24,624\n",
       "==========================================================================================\n",
       "Total params: 16,702,000\n",
       "Trainable params: 16,702,000\n",
       "Non-trainable params: 0\n",
       "Total mult-adds (G): 8.55\n",
       "==========================================================================================\n",
       "Input size (MB): 0.46\n",
       "Forward/backward pass size (MB): 970.13\n",
       "Params size (MB): 66.81\n",
       "Estimated Total Size (MB): 1037.40\n",
       "=========================================================================================="
      ]
     },
     "execution_count": 11,
     "metadata": {},
     "output_type": "execute_result"
    }
   ],
   "source": [
    "from torchinfo import  summary\n",
    "\n",
    "input_data = torch.randint(low=0, high=vocab_size-1, size=(512, MAX_LEN))\n",
    "summary(model, input_data = input_data)"
   ]
  },
  {
   "cell_type": "markdown",
   "metadata": {},
   "source": [
    "## 3. Evaluate"
   ]
  },
  {
   "cell_type": "code",
   "execution_count": 12,
   "metadata": {},
   "outputs": [],
   "source": [
    "def evaluate(model, test_loader, criterion, device):\n",
    "    model.eval()\n",
    "    test_loss = 0.0\n",
    "    correct = 0\n",
    "    total = 0\n",
    "    with torch.no_grad(): \n",
    "        for inputs, labels in test_loader:\n",
    "            inputs, labels = inputs.to(device), labels.to(device)\n",
    "\n",
    "            outputs = model(inputs)\n",
    "            loss = criterion(outputs, labels)\n",
    "            _, predicted = torch.max(outputs, 1)\n",
    "\n",
    "            total += (labels!=47).sum().item()\n",
    "            test_loss += loss.item()\n",
    "            correct += torch.multiply(predicted == labels, labels!=47).sum().item()\n",
    "\n",
    "    test_loss = test_loss / len(test_loader)\n",
    "    accuracy = 100* correct / total\n",
    "\n",
    "    return test_loss, accuracy"
   ]
  },
  {
   "cell_type": "markdown",
   "metadata": {},
   "source": [
    "## 4. Train model"
   ]
  },
  {
   "cell_type": "code",
   "execution_count": 13,
   "metadata": {},
   "outputs": [],
   "source": [
    "device = 'cuda' if torch.cuda.is_available() else 'cpu'\n",
    "EPOCHS = 50\n",
    "LR = 1e-3\n",
    "criterion = nn.CrossEntropyLoss(ignore_index=47)"
   ]
  },
  {
   "cell_type": "code",
   "execution_count": 14,
   "metadata": {},
   "outputs": [],
   "source": [
    "def train_model(model):\n",
    "    hist = {\n",
    "        \"train_loss\": [],\n",
    "        \"train_accuracy\": [],\n",
    "        \"val_loss\": [],\n",
    "        \"val_accuracy\": []\n",
    "    }\n",
    "    optimizer = torch.optim.Adam(model.parameters(), lr=LR)\n",
    "    model.to(device)\n",
    "    for epoch in range(EPOCHS):\n",
    "        model.train()\n",
    "        running_loss = 0.0\n",
    "        running_correct = 0\n",
    "        total = 0\n",
    "        for inputs, labels in train_loader:\n",
    "            inputs, labels = inputs.to(device), labels.to(device)\n",
    "\n",
    "            optimizer.zero_grad()\n",
    "            outputs = model(inputs)\n",
    "\n",
    "            loss = criterion(outputs, labels)\n",
    "            running_loss += loss.item()\n",
    "\n",
    "            _, predicted = torch.max(outputs, 1)\n",
    "            total += (labels!=47).sum().item()\n",
    "            running_correct += torch.multiply(predicted == labels, labels!=47).sum().item()\n",
    "\n",
    "            loss.backward()\n",
    "            optimizer.step()\n",
    "\n",
    "        epoch_loss =  running_loss / len(train_loader)\n",
    "        epoch_accuracy = 100* running_correct / total\n",
    "        val_loss, val_accuracy = evaluate(model, val_loader, criterion, device)\n",
    "\n",
    "        print(f\"Epoch [{epoch + 1}/{EPOCHS}], Loss: {epoch_loss:.4f}, Accuracy: {epoch_accuracy:.2f}%, Val loss: {val_loss:.4f}, Val Accuracy: {val_accuracy:.2f}%\")\n",
    "\n",
    "        hist[\"train_loss\"].append(epoch_loss)\n",
    "        hist[\"train_accuracy\"].append(epoch_accuracy)\n",
    "        hist[\"val_loss\"].append(val_loss)\n",
    "        hist[\"val_accuracy\"].append(val_accuracy)\n",
    "    \n",
    "    return hist"
   ]
  },
  {
   "cell_type": "code",
   "execution_count": 15,
   "metadata": {},
   "outputs": [
    {
     "name": "stdout",
     "output_type": "stream",
     "text": [
      "Training FC model\n",
      "Epoch [1/50], Loss: 1.6955, Accuracy: 57.69%, Val loss: 1.1348, Val Accuracy: 70.08%\n",
      "Epoch [2/50], Loss: 0.9594, Accuracy: 74.63%, Val loss: 0.8750, Val Accuracy: 77.14%\n",
      "Epoch [3/50], Loss: 0.7844, Accuracy: 79.59%, Val loss: 0.7796, Val Accuracy: 80.11%\n",
      "Epoch [4/50], Loss: 0.7070, Accuracy: 81.71%, Val loss: 0.7295, Val Accuracy: 81.36%\n",
      "Epoch [5/50], Loss: 0.6660, Accuracy: 82.76%, Val loss: 0.7027, Val Accuracy: 82.12%\n",
      "Epoch [6/50], Loss: 0.6450, Accuracy: 83.31%, Val loss: 0.6954, Val Accuracy: 82.48%\n",
      "Epoch [7/50], Loss: 0.6313, Accuracy: 83.65%, Val loss: 0.6835, Val Accuracy: 82.63%\n",
      "Epoch [8/50], Loss: 0.6228, Accuracy: 83.80%, Val loss: 0.6824, Val Accuracy: 82.80%\n",
      "Epoch [9/50], Loss: 0.6165, Accuracy: 83.95%, Val loss: 0.6758, Val Accuracy: 82.76%\n",
      "Epoch [10/50], Loss: 0.6120, Accuracy: 84.01%, Val loss: 0.6758, Val Accuracy: 82.86%\n",
      "Epoch [11/50], Loss: 0.6091, Accuracy: 84.06%, Val loss: 0.6749, Val Accuracy: 82.86%\n",
      "Epoch [12/50], Loss: 0.6071, Accuracy: 84.07%, Val loss: 0.6766, Val Accuracy: 82.88%\n",
      "Epoch [13/50], Loss: 0.6059, Accuracy: 84.09%, Val loss: 0.6748, Val Accuracy: 82.87%\n",
      "Epoch [14/50], Loss: 0.6047, Accuracy: 84.10%, Val loss: 0.6761, Val Accuracy: 82.88%\n",
      "Epoch [15/50], Loss: 0.6041, Accuracy: 84.09%, Val loss: 0.6736, Val Accuracy: 82.89%\n",
      "Epoch [16/50], Loss: 0.6028, Accuracy: 84.12%, Val loss: 0.6731, Val Accuracy: 82.86%\n",
      "Epoch [17/50], Loss: 0.6020, Accuracy: 84.10%, Val loss: 0.6734, Val Accuracy: 82.89%\n",
      "Epoch [18/50], Loss: 0.6014, Accuracy: 84.10%, Val loss: 0.6726, Val Accuracy: 82.94%\n",
      "Epoch [19/50], Loss: 0.6007, Accuracy: 84.13%, Val loss: 0.6726, Val Accuracy: 82.94%\n",
      "Epoch [20/50], Loss: 0.6001, Accuracy: 84.12%, Val loss: 0.6723, Val Accuracy: 82.91%\n",
      "Epoch [21/50], Loss: 0.5994, Accuracy: 84.15%, Val loss: 0.6718, Val Accuracy: 82.95%\n",
      "Epoch [22/50], Loss: 0.5995, Accuracy: 84.16%, Val loss: 0.6713, Val Accuracy: 82.95%\n",
      "Epoch [23/50], Loss: 0.5986, Accuracy: 84.17%, Val loss: 0.6711, Val Accuracy: 82.98%\n",
      "Epoch [24/50], Loss: 0.5989, Accuracy: 84.17%, Val loss: 0.6709, Val Accuracy: 82.99%\n",
      "Epoch [25/50], Loss: 0.5985, Accuracy: 84.19%, Val loss: 0.6706, Val Accuracy: 83.00%\n",
      "Epoch [26/50], Loss: 0.5984, Accuracy: 84.21%, Val loss: 0.6709, Val Accuracy: 83.01%\n",
      "Epoch [27/50], Loss: 0.5981, Accuracy: 84.20%, Val loss: 0.6705, Val Accuracy: 83.00%\n",
      "Epoch [28/50], Loss: 0.5983, Accuracy: 84.20%, Val loss: 0.6711, Val Accuracy: 83.00%\n",
      "Epoch [29/50], Loss: 0.5979, Accuracy: 84.21%, Val loss: 0.6716, Val Accuracy: 83.01%\n",
      "Epoch [30/50], Loss: 0.5981, Accuracy: 84.22%, Val loss: 0.6719, Val Accuracy: 82.99%\n",
      "Epoch [31/50], Loss: 0.5977, Accuracy: 84.23%, Val loss: 0.6722, Val Accuracy: 83.00%\n",
      "Epoch [32/50], Loss: 0.5971, Accuracy: 84.23%, Val loss: 0.6725, Val Accuracy: 82.97%\n",
      "Epoch [33/50], Loss: 0.5965, Accuracy: 84.23%, Val loss: 0.6721, Val Accuracy: 83.00%\n",
      "Epoch [34/50], Loss: 0.5959, Accuracy: 84.25%, Val loss: 0.6728, Val Accuracy: 83.01%\n",
      "Epoch [35/50], Loss: 0.5958, Accuracy: 84.24%, Val loss: 0.6727, Val Accuracy: 83.01%\n",
      "Epoch [36/50], Loss: 0.5960, Accuracy: 84.24%, Val loss: 0.6732, Val Accuracy: 83.02%\n",
      "Epoch [37/50], Loss: 0.5957, Accuracy: 84.26%, Val loss: 0.6729, Val Accuracy: 83.03%\n",
      "Epoch [38/50], Loss: 0.5952, Accuracy: 84.25%, Val loss: 0.6738, Val Accuracy: 83.00%\n",
      "Epoch [39/50], Loss: 0.5951, Accuracy: 84.24%, Val loss: 0.6736, Val Accuracy: 83.02%\n",
      "Epoch [40/50], Loss: 0.5951, Accuracy: 84.26%, Val loss: 0.6740, Val Accuracy: 83.01%\n",
      "Epoch [41/50], Loss: 0.5944, Accuracy: 84.26%, Val loss: 0.6737, Val Accuracy: 83.02%\n",
      "Epoch [42/50], Loss: 0.5947, Accuracy: 84.27%, Val loss: 0.6742, Val Accuracy: 83.03%\n",
      "Epoch [43/50], Loss: 0.5942, Accuracy: 84.27%, Val loss: 0.6744, Val Accuracy: 83.03%\n",
      "Epoch [44/50], Loss: 0.5944, Accuracy: 84.28%, Val loss: 0.6748, Val Accuracy: 82.99%\n",
      "Epoch [45/50], Loss: 0.5936, Accuracy: 84.28%, Val loss: 0.6746, Val Accuracy: 83.02%\n",
      "Epoch [46/50], Loss: 0.5935, Accuracy: 84.28%, Val loss: 0.6749, Val Accuracy: 83.00%\n",
      "Epoch [47/50], Loss: 0.5930, Accuracy: 84.29%, Val loss: 0.6747, Val Accuracy: 83.00%\n",
      "Epoch [48/50], Loss: 0.5933, Accuracy: 84.29%, Val loss: 0.6753, Val Accuracy: 82.99%\n",
      "Epoch [49/50], Loss: 0.5927, Accuracy: 84.28%, Val loss: 0.6754, Val Accuracy: 83.00%\n",
      "Epoch [50/50], Loss: 0.5927, Accuracy: 84.29%, Val loss: 0.6756, Val Accuracy: 82.99%\n"
     ]
    }
   ],
   "source": [
    "print(f\"Training FC model\")\n",
    "hist = train_model(model)"
   ]
  },
  {
   "cell_type": "markdown",
   "metadata": {},
   "source": [
    "## 5. Plot results"
   ]
  },
  {
   "cell_type": "code",
   "execution_count": 16,
   "metadata": {},
   "outputs": [
    {
     "data": {
      "image/png": "[encoded data removed]",
      "text/plain": [
       "<Figure size 640x480 with 1 Axes>"
      ]
     },
     "metadata": {},
     "output_type": "display_data"
    }
   ],
   "source": [
    "import matplotlib.pyplot as plt\n",
    "\n",
    "plt.plot(hist['train_accuracy'], label='Train')\n",
    "plt.plot(hist['val_accuracy'], label='Val')\n",
    "\n",
    "\n",
    "plt.title('model accuracy')\n",
    "plt.ylabel('accuracy')\n",
    "plt.xlabel('epoch')\n",
    "plt.legend(['Train', 'Val' ], loc='lower right')\n",
    "plt.show()"
   ]
  },
  {
   "cell_type": "code",
   "execution_count": 17,
   "metadata": {},
   "outputs": [
    {
     "data": {
      "image/png": "[encoded data removed]",
      "text/plain": [
       "<Figure size 640x480 with 1 Axes>"
      ]
     },
     "metadata": {},
     "output_type": "display_data"
    }
   ],
   "source": [
    "plt.plot(hist['train_loss'], label='Train')\n",
    "plt.plot(hist['val_loss'], label='Val')\n",
    "\n",
    "\n",
    "plt.title('model loss')\n",
    "plt.ylabel('loss')\n",
    "plt.xlabel('epoch')\n",
    "plt.legend(['Train', 'Val' ], loc='upper right')\n",
    "plt.show()"
   ]
  }
 ],
 "metadata": {
  "kernelspec": {
   "display_name": "Python 3 (ipykernel)",
   "language": "python",
   "name": "python3"
  },
  "language_info": {
   "codemirror_mode": {
    "name": "ipython",
    "version": 3
   },
   "file_extension": ".py",
   "mimetype": "text/x-python",
   "name": "python",
   "nbconvert_exporter": "python",
   "pygments_lexer": "ipython3",
   "version": "3.11.5"
  }
 },
 "nbformat": 4,
 "nbformat_minor": 4
}
