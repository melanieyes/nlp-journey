{
 "cells": [
  {
   "cell_type": "code",
   "execution_count": 1,
   "metadata": {},
   "outputs": [],
   "source": [
    "from typing import List\n",
    "import numpy as np\n",
    "import torch\n",
    "import torch.nn as nn\n",
    "import torch.nn.functional as F"
   ]
  },
  {
   "cell_type": "markdown",
   "metadata": {},
   "source": [
    "## 1. Data Preparation"
   ]
  },
  {
   "cell_type": "code",
   "execution_count": 2,
   "metadata": {},
   "outputs": [],
   "source": [
    "from datasets import load_dataset\n",
    "\n",
    "dataset = load_dataset(\"conll2003\")"
   ]
  },
  {
   "cell_type": "code",
   "execution_count": 3,
   "metadata": {},
   "outputs": [
    {
     "data": {
      "text/plain": [
       "DatasetDict({\n",
       "    train: Dataset({\n",
       "        features: ['tokens', 'pos_tags'],\n",
       "        num_rows: 14041\n",
       "    })\n",
       "    validation: Dataset({\n",
       "        features: ['tokens', 'pos_tags'],\n",
       "        num_rows: 3250\n",
       "    })\n",
       "    test: Dataset({\n",
       "        features: ['tokens', 'pos_tags'],\n",
       "        num_rows: 3453\n",
       "    })\n",
       "})"
      ]
     },
     "execution_count": 3,
     "metadata": {},
     "output_type": "execute_result"
    }
   ],
   "source": [
    "dataset = dataset.remove_columns([\"id\", \"chunk_tags\", \"ner_tags\"])\n",
    "dataset"
   ]
  },
  {
   "cell_type": "code",
   "execution_count": 4,
   "metadata": {},
   "outputs": [],
   "source": [
    "dataset_train = dataset[\"train\"]\n",
    "dataset_val = dataset[\"validation\"]\n",
    "dataset_test = dataset[\"test\"]"
   ]
  },
  {
   "cell_type": "code",
   "execution_count": 5,
   "metadata": {},
   "outputs": [],
   "source": [
    "from transformers import AutoTokenizer\n",
    "\n",
    "tokenizer = AutoTokenizer.from_pretrained(\"bert-base-uncased\")\n",
    "MAX_LEN = 113"
   ]
  },
  {
   "cell_type": "code",
   "execution_count": 6,
   "metadata": {},
   "outputs": [],
   "source": [
    "from torch.utils.data import Dataset\n",
    "\n",
    "class PosTagging_Dataset(Dataset):\n",
    "    def __init__(self, dataset, tokenizer):\n",
    "        super().__init__()\n",
    "        self.tokens = dataset[\"tokens\"]\n",
    "        self.labels = dataset[\"pos_tags\"]\n",
    "        self.tokenizer = tokenizer\n",
    "        self.max_len = MAX_LEN\n",
    "\n",
    "    def __len__(self):\n",
    "        return len(self.tokens)\n",
    "    \n",
    "    def __getitem__(self, idx):\n",
    "        input_token = self.tokens[idx]\n",
    "        label_token = self.labels[idx]\n",
    "\n",
    "        input_token = self.tokenizer.convert_tokens_to_ids(input_token)\n",
    "        input_ids, labels = self.pad_and_truncate(input_token, label_token)\n",
    "\n",
    "        return input_ids, labels\n",
    "    \n",
    "    def pad_and_truncate(self, sequence_token: List[int], sequence_label: List[int]): \n",
    "        pad_id = self.tokenizer.pad_token_id\n",
    "        if len(sequence_token) < self.max_len:\n",
    "            padded_sequence_token = sequence_token + [pad_id] * (self.max_len - len(sequence_token))\n",
    "            padded_sequence_label = sequence_label + [47] * (self.max_len - len(sequence_label))\n",
    "        else:\n",
    "            padded_sequence_token = sequence_token[:self.max_len]\n",
    "            padded_sequence_label = sequence_label[:self.max_len]\n",
    "            \n",
    "        return torch.tensor(padded_sequence_token), torch.tensor(padded_sequence_label)"
   ]
  },
  {
   "cell_type": "code",
   "execution_count": 7,
   "metadata": {},
   "outputs": [],
   "source": [
    "train_set = PosTagging_Dataset(dataset_train, tokenizer)\n",
    "val_set = PosTagging_Dataset(dataset_val, tokenizer)\n",
    "test_set = PosTagging_Dataset(dataset_test, tokenizer)"
   ]
  },
  {
   "cell_type": "code",
   "execution_count": 8,
   "metadata": {},
   "outputs": [],
   "source": [
    "from torch.utils.data import DataLoader\n",
    "batch_size = 512\n",
    "\n",
    "train_loader = DataLoader(train_set, batch_size)\n",
    "val_loader = DataLoader(val_set, batch_size)\n",
    "test_loader = DataLoader(test_set, batch_size)"
   ]
  },
  {
   "cell_type": "markdown",
   "metadata": {},
   "source": [
    "## 2. Model"
   ]
  },
  {
   "cell_type": "code",
   "execution_count": 9,
   "metadata": {},
   "outputs": [],
   "source": [
    "class POS_Model(nn.Module):\n",
    "    def __init__(self, vocab_size, emb_dim, hidden_size, num_classes):\n",
    "        super().__init__()\n",
    "        self.embedding = nn.Embedding(vocab_size, emb_dim)\n",
    "        self.recurrent = nn.RNN(emb_dim, hidden_size, batch_first=True)\n",
    "        self.fc = nn.Linear(hidden_size, num_classes)\n",
    "\n",
    "    def forward(self, x):\n",
    "        x = self.embedding(x)\n",
    "        x, _ = self.recurrent(x)\n",
    "        x = self.fc(x)\n",
    "        return x.permute(0, 2, 1)\n"
   ]
  },
  {
   "cell_type": "code",
   "execution_count": 10,
   "metadata": {},
   "outputs": [],
   "source": [
    "emb_dim = 256\n",
    "hidden_size = 256\n",
    "vocab_size = len(tokenizer)\n",
    "num_classes = 47 + 1\n",
    "\n",
    "# model\n",
    "model = POS_Model(vocab_size, emb_dim, hidden_size, num_classes)"
   ]
  },
  {
   "cell_type": "code",
   "execution_count": 11,
   "metadata": {},
   "outputs": [
    {
     "data": {
      "text/plain": [
       "==========================================================================================\n",
       "Layer (type:depth-idx)                   Output Shape              Param #\n",
       "==========================================================================================\n",
       "POS_Model                                [512, 48, 113]            --\n",
       "├─Embedding: 1-1                         [512, 113, 256]           7,813,632\n",
       "├─RNN: 1-2                               [512, 113, 256]           131,584\n",
       "├─Linear: 1-3                            [512, 113, 48]            12,336\n",
       "==========================================================================================\n",
       "Total params: 7,957,552\n",
       "Trainable params: 7,957,552\n",
       "Non-trainable params: 0\n",
       "Total mult-adds (G): 11.62\n",
       "==========================================================================================\n",
       "Input size (MB): 0.46\n",
       "Forward/backward pass size (MB): 259.19\n",
       "Params size (MB): 31.83\n",
       "Estimated Total Size (MB): 291.49\n",
       "=========================================================================================="
      ]
     },
     "execution_count": 11,
     "metadata": {},
     "output_type": "execute_result"
    }
   ],
   "source": [
    "from torchinfo import  summary\n",
    "\n",
    "input_data = torch.randint(low=0, high=vocab_size-1, size=(512, MAX_LEN))\n",
    "\n",
    "summary(model, input_data = input_data)"
   ]
  },
  {
   "cell_type": "markdown",
   "metadata": {},
   "source": [
    "### 3. Evaluate"
   ]
  },
  {
   "cell_type": "code",
   "execution_count": 12,
   "metadata": {},
   "outputs": [],
   "source": [
    "def evaluate(model, test_loader, criterion, device):\n",
    "    model.eval()\n",
    "    test_loss = 0.0\n",
    "    correct = 0\n",
    "    total = 0\n",
    "    with torch.no_grad(): \n",
    "        for inputs, labels in test_loader:\n",
    "            inputs, labels = inputs.to(device), labels.to(device)\n",
    "\n",
    "            outputs = model(inputs)\n",
    "            loss = criterion(outputs, labels)\n",
    "            _, predicted = torch.max(outputs, 1)\n",
    "\n",
    "            total += (labels!=47).sum().item()\n",
    "            test_loss += loss.item()\n",
    "            correct += torch.multiply(predicted == labels, labels!=47).sum().item()\n",
    "\n",
    "    test_loss = test_loss / len(test_loader)\n",
    "    accuracy = 100* correct / total\n",
    "\n",
    "    return test_loss, accuracy"
   ]
  },
  {
   "cell_type": "markdown",
   "metadata": {},
   "source": [
    "### 4. Train model"
   ]
  },
  {
   "cell_type": "code",
   "execution_count": 13,
   "metadata": {},
   "outputs": [],
   "source": [
    "device = 'cuda' if torch.cuda.is_available() else 'cpu'\n",
    "EPOCHS = 50\n",
    "LR = 1e-3\n",
    "criterion = nn.CrossEntropyLoss()"
   ]
  },
  {
   "cell_type": "code",
   "execution_count": 14,
   "metadata": {},
   "outputs": [],
   "source": [
    "def train_model(model):\n",
    "    hist = {\n",
    "        \"train_loss\": [],\n",
    "        \"train_accuracy\": [],\n",
    "        \"val_loss\": [],\n",
    "        \"val_accuracy\": []\n",
    "    }\n",
    "    optimizer = torch.optim.Adam(model.parameters(), lr=LR)\n",
    "    model.to(device)\n",
    "    for epoch in range(EPOCHS):\n",
    "        model.train()\n",
    "        running_loss = 0.0\n",
    "        running_correct = 0\n",
    "        total = 0\n",
    "        for inputs, labels in train_loader:\n",
    "            inputs, labels = inputs.to(device), labels.to(device)\n",
    "\n",
    "            optimizer.zero_grad()\n",
    "            outputs = model(inputs)\n",
    "            loss = criterion(outputs, labels)\n",
    "            running_loss += loss.item()\n",
    "\n",
    "            _, predicted = torch.max(outputs, 1)\n",
    "            total += (labels!=47).sum().item()\n",
    "            running_correct += torch.multiply(predicted == labels, labels!=47).sum().item()\n",
    "\n",
    "            loss.backward()\n",
    "            optimizer.step()\n",
    "\n",
    "        epoch_loss =  running_loss / len(train_loader)\n",
    "        epoch_accuracy = 100* running_correct / total\n",
    "        val_loss, val_accuracy = evaluate(model, val_loader, criterion, device)\n",
    "\n",
    "        print(f\"Epoch [{epoch + 1}/{EPOCHS}], Loss: {epoch_loss:.4f}, Accuracy: {epoch_accuracy:.2f}%, Val loss: {val_loss:.4f}, Val Accuracy: {val_accuracy:.2f}%\")\n",
    "\n",
    "        hist[\"train_loss\"].append(epoch_loss)\n",
    "        hist[\"train_accuracy\"].append(epoch_accuracy)\n",
    "        hist[\"val_loss\"].append(val_loss)\n",
    "        hist[\"val_accuracy\"].append(val_accuracy)\n",
    "    \n",
    "    return hist"
   ]
  },
  {
   "cell_type": "code",
   "execution_count": 15,
   "metadata": {},
   "outputs": [
    {
     "name": "stdout",
     "output_type": "stream",
     "text": [
      "Training RNN-Conv_ks1 model\n",
      "Epoch [1/50], Loss: 0.6063, Accuracy: 31.78%, Val loss: 0.3599, Val Accuracy: 51.18%\n",
      "Epoch [2/50], Loss: 0.2607, Accuracy: 55.34%, Val loss: 0.2498, Val Accuracy: 58.61%\n",
      "Epoch [3/50], Loss: 0.2011, Accuracy: 60.73%, Val loss: 0.2089, Val Accuracy: 63.03%\n",
      "Epoch [4/50], Loss: 0.1729, Accuracy: 65.38%, Val loss: 0.1841, Val Accuracy: 67.56%\n",
      "Epoch [5/50], Loss: 0.1534, Accuracy: 69.25%, Val loss: 0.1653, Val Accuracy: 71.02%\n",
      "Epoch [6/50], Loss: 0.1381, Accuracy: 72.56%, Val loss: 0.1501, Val Accuracy: 73.49%\n",
      "Epoch [7/50], Loss: 0.1256, Accuracy: 75.05%, Val loss: 0.1376, Val Accuracy: 75.60%\n",
      "Epoch [8/50], Loss: 0.1152, Accuracy: 77.09%, Val loss: 0.1273, Val Accuracy: 77.32%\n",
      "Epoch [9/50], Loss: 0.1066, Accuracy: 78.78%, Val loss: 0.1189, Val Accuracy: 78.80%\n",
      "Epoch [10/50], Loss: 0.0993, Accuracy: 80.20%, Val loss: 0.1118, Val Accuracy: 80.05%\n",
      "Epoch [11/50], Loss: 0.0933, Accuracy: 81.38%, Val loss: 0.1060, Val Accuracy: 80.99%\n",
      "Epoch [12/50], Loss: 0.0883, Accuracy: 82.29%, Val loss: 0.1013, Val Accuracy: 81.84%\n",
      "Epoch [13/50], Loss: 0.0841, Accuracy: 83.11%, Val loss: 0.0973, Val Accuracy: 82.55%\n",
      "Epoch [14/50], Loss: 0.0806, Accuracy: 83.77%, Val loss: 0.0940, Val Accuracy: 83.07%\n",
      "Epoch [15/50], Loss: 0.0776, Accuracy: 84.30%, Val loss: 0.0913, Val Accuracy: 83.54%\n",
      "Epoch [16/50], Loss: 0.0750, Accuracy: 84.77%, Val loss: 0.0890, Val Accuracy: 83.87%\n",
      "Epoch [17/50], Loss: 0.0728, Accuracy: 85.15%, Val loss: 0.0870, Val Accuracy: 84.13%\n",
      "Epoch [18/50], Loss: 0.0709, Accuracy: 85.49%, Val loss: 0.0853, Val Accuracy: 84.42%\n",
      "Epoch [19/50], Loss: 0.0692, Accuracy: 85.79%, Val loss: 0.0838, Val Accuracy: 84.69%\n",
      "Epoch [20/50], Loss: 0.0678, Accuracy: 86.03%, Val loss: 0.0826, Val Accuracy: 84.91%\n",
      "Epoch [21/50], Loss: 0.0665, Accuracy: 86.24%, Val loss: 0.0815, Val Accuracy: 85.11%\n",
      "Epoch [22/50], Loss: 0.0653, Accuracy: 86.45%, Val loss: 0.0805, Val Accuracy: 85.26%\n",
      "Epoch [23/50], Loss: 0.0643, Accuracy: 86.66%, Val loss: 0.0797, Val Accuracy: 85.37%\n",
      "Epoch [24/50], Loss: 0.0633, Accuracy: 86.81%, Val loss: 0.0789, Val Accuracy: 85.47%\n",
      "Epoch [25/50], Loss: 0.0625, Accuracy: 86.95%, Val loss: 0.0783, Val Accuracy: 85.54%\n",
      "Epoch [26/50], Loss: 0.0617, Accuracy: 87.07%, Val loss: 0.0777, Val Accuracy: 85.58%\n",
      "Epoch [27/50], Loss: 0.0609, Accuracy: 87.19%, Val loss: 0.0772, Val Accuracy: 85.66%\n",
      "Epoch [28/50], Loss: 0.0603, Accuracy: 87.32%, Val loss: 0.0768, Val Accuracy: 85.67%\n",
      "Epoch [29/50], Loss: 0.0596, Accuracy: 87.42%, Val loss: 0.0764, Val Accuracy: 85.70%\n",
      "Epoch [30/50], Loss: 0.0591, Accuracy: 87.51%, Val loss: 0.0761, Val Accuracy: 85.75%\n",
      "Epoch [31/50], Loss: 0.0585, Accuracy: 87.59%, Val loss: 0.0758, Val Accuracy: 85.78%\n",
      "Epoch [32/50], Loss: 0.0580, Accuracy: 87.67%, Val loss: 0.0756, Val Accuracy: 85.80%\n",
      "Epoch [33/50], Loss: 0.0575, Accuracy: 87.77%, Val loss: 0.0754, Val Accuracy: 85.81%\n",
      "Epoch [34/50], Loss: 0.0571, Accuracy: 87.86%, Val loss: 0.0752, Val Accuracy: 85.84%\n",
      "Epoch [35/50], Loss: 0.0566, Accuracy: 87.94%, Val loss: 0.0751, Val Accuracy: 85.89%\n",
      "Epoch [36/50], Loss: 0.0562, Accuracy: 88.03%, Val loss: 0.0750, Val Accuracy: 85.90%\n",
      "Epoch [37/50], Loss: 0.0558, Accuracy: 88.09%, Val loss: 0.0749, Val Accuracy: 85.89%\n",
      "Epoch [38/50], Loss: 0.0554, Accuracy: 88.15%, Val loss: 0.0749, Val Accuracy: 85.90%\n",
      "Epoch [39/50], Loss: 0.0550, Accuracy: 88.21%, Val loss: 0.0748, Val Accuracy: 85.92%\n",
      "Epoch [40/50], Loss: 0.0546, Accuracy: 88.27%, Val loss: 0.0748, Val Accuracy: 85.93%\n",
      "Epoch [41/50], Loss: 0.0542, Accuracy: 88.36%, Val loss: 0.0748, Val Accuracy: 85.90%\n",
      "Epoch [42/50], Loss: 0.0538, Accuracy: 88.44%, Val loss: 0.0748, Val Accuracy: 85.92%\n",
      "Epoch [43/50], Loss: 0.0534, Accuracy: 88.53%, Val loss: 0.0748, Val Accuracy: 85.93%\n",
      "Epoch [44/50], Loss: 0.0531, Accuracy: 88.60%, Val loss: 0.0748, Val Accuracy: 85.94%\n",
      "Epoch [45/50], Loss: 0.0527, Accuracy: 88.67%, Val loss: 0.0749, Val Accuracy: 85.96%\n",
      "Epoch [46/50], Loss: 0.0524, Accuracy: 88.73%, Val loss: 0.0750, Val Accuracy: 85.95%\n",
      "Epoch [47/50], Loss: 0.0520, Accuracy: 88.82%, Val loss: 0.0750, Val Accuracy: 85.94%\n",
      "Epoch [48/50], Loss: 0.0517, Accuracy: 88.90%, Val loss: 0.0751, Val Accuracy: 85.92%\n",
      "Epoch [49/50], Loss: 0.0514, Accuracy: 88.98%, Val loss: 0.0752, Val Accuracy: 85.92%\n",
      "Epoch [50/50], Loss: 0.0510, Accuracy: 89.04%, Val loss: 0.0753, Val Accuracy: 85.91%\n"
     ]
    }
   ],
   "source": [
    "print(f\"Training RNN-Conv_ks1 model\")\n",
    "hist = train_model(model)"
   ]
  },
  {
   "cell_type": "markdown",
   "metadata": {},
   "source": [
    "### 5. Plot results"
   ]
  },
  {
   "cell_type": "code",
   "execution_count": 18,
   "metadata": {},
   "outputs": [
    {
     "data": {
      "image/png": "[encoded data removed]",
      "text/plain": [
       "<Figure size 640x480 with 1 Axes>"
      ]
     },
     "metadata": {},
     "output_type": "display_data"
    }
   ],
   "source": [
    "import matplotlib.pyplot as plt\n",
    "\n",
    "plt.plot(hist['train_accuracy'], label='train_accuracy')\n",
    "plt.plot(hist['val_accuracy'], label='val_accuracy')\n",
    "\n",
    "\n",
    "plt.title('model val accuracy')\n",
    "plt.ylabel('accuracy')\n",
    "plt.xlabel('epoch')\n",
    "plt.legend(['train_accuracy', 'val_accuracy' ], loc='lower right')\n",
    "plt.show()"
   ]
  },
  {
   "cell_type": "code",
   "execution_count": null,
   "metadata": {},
   "outputs": [],
   "source": []
  }
 ],
 "metadata": {
  "kernelspec": {
   "display_name": "Python 3 (ipykernel)",
   "language": "python",
   "name": "python3"
  },
  "language_info": {
   "codemirror_mode": {
    "name": "ipython",
    "version": 3
   },
   "file_extension": ".py",
   "mimetype": "text/x-python",
   "name": "python",
   "nbconvert_exporter": "python",
   "pygments_lexer": "ipython3",
   "version": "3.11.5"
  }
 },
 "nbformat": 4,
 "nbformat_minor": 4
}
